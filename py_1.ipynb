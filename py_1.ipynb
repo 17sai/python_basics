{
 "cells": [
  {
   "attachments": {},
   "cell_type": "markdown",
   "id": "339ce8f9-64aa-432a-ac92-b792a8811e02",
   "metadata": {},
   "source": [
    "# keywords\n",
    "- keywords are the reserved words."
   ]
  },
  {
   "cell_type": "raw",
   "id": "cc41acea-6ac2-4ef3-b0fb-925abd838a91",
   "metadata": {},
   "source": [
    "import keyword"
   ]
  },
  {
   "cell_type": "code",
   "execution_count": 1,
   "id": "6651a72e-9b39-496d-ae25-15b281808c21",
   "metadata": {},
   "outputs": [
    {
     "ename": "NameError",
     "evalue": "name 'keyword' is not defined",
     "output_type": "error",
     "traceback": [
      "\u001b[0;31m---------------------------------------------------------------------------\u001b[0m",
      "\u001b[0;31mNameError\u001b[0m                                 Traceback (most recent call last)",
      "Cell \u001b[0;32mIn[1], line 1\u001b[0m\n\u001b[0;32m----> 1\u001b[0m \u001b[38;5;28mprint\u001b[39m(keyword\u001b[38;5;241m.\u001b[39mkwlist)\n",
      "\u001b[0;31mNameError\u001b[0m: name 'keyword' is not defined"
     ]
    }
   ],
   "source": [
    "print(keyword.kwlist)"
   ]
  },
  {
   "cell_type": "code",
   "execution_count": 2,
   "id": "848ea3a4-a606-482c-b4db-4d02c13cf465",
   "metadata": {},
   "outputs": [
    {
     "ename": "NameError",
     "evalue": "name 'keyword' is not defined",
     "output_type": "error",
     "traceback": [
      "\u001b[0;31m---------------------------------------------------------------------------\u001b[0m",
      "\u001b[0;31mNameError\u001b[0m                                 Traceback (most recent call last)",
      "Cell \u001b[0;32mIn[2], line 1\u001b[0m\n\u001b[0;32m----> 1\u001b[0m \u001b[38;5;28mprint\u001b[39m(\u001b[38;5;28mlen\u001b[39m(keyword\u001b[38;5;241m.\u001b[39mkwlist))\n",
      "\u001b[0;31mNameError\u001b[0m: name 'keyword' is not defined"
     ]
    }
   ],
   "source": [
    "print(len(keyword.kwlist))"
   ]
  },
  {
   "cell_type": "markdown",
   "id": "cebfdc29-f714-4484-95d2-e07922444a95",
   "metadata": {},
   "source": [
    "# variables\n",
    "- variables are used to store the location of the values"
   ]
  },
  {
   "cell_type": "code",
   "execution_count": 7,
   "id": "4efa9f4c-272f-4b51-be49-b0e539aca54b",
   "metadata": {},
   "outputs": [],
   "source": [
    "ab=5\n"
   ]
  },
  {
   "cell_type": "code",
   "execution_count": 12,
   "id": "0a8dcd2c-f77d-4c13-b5f7-d79dd9a9b98a",
   "metadata": {},
   "outputs": [
    {
     "ename": "SyntaxError",
     "evalue": "invalid syntax (2730620494.py, line 1)",
     "output_type": "error",
     "traceback": [
      "\u001b[0;36m  Cell \u001b[0;32mIn[12], line 1\u001b[0;36m\u001b[0m\n\u001b[0;31m    @=5\u001b[0m\n\u001b[0m    ^\u001b[0m\n\u001b[0;31mSyntaxError\u001b[0m\u001b[0;31m:\u001b[0m invalid syntax\n"
     ]
    }
   ],
   "source": [
    "@=5"
   ]
  },
  {
   "cell_type": "code",
   "execution_count": 9,
   "id": "3d355996-f0cb-47ee-8468-055bc2f2b403",
   "metadata": {},
   "outputs": [],
   "source": [
    "a_b=5"
   ]
  },
  {
   "cell_type": "code",
   "execution_count": 11,
   "id": "b88af83e-9a01-49f1-af12-5140652a346f",
   "metadata": {},
   "outputs": [],
   "source": [
    "AB_CD=5"
   ]
  },
  {
   "cell_type": "code",
   "execution_count": 13,
   "id": "b4e976de-4deb-4671-8777-1e270e40942f",
   "metadata": {},
   "outputs": [],
   "source": [
    "aa_1=5"
   ]
  },
  {
   "cell_type": "code",
   "execution_count": 14,
   "id": "496b84db-3e5e-4c98-b7ca-81a1f3c270e2",
   "metadata": {},
   "outputs": [],
   "source": [
    "ahjxscsjhcbjdsnck=7"
   ]
  },
  {
   "cell_type": "code",
   "execution_count": 15,
   "id": "2c58dea0-5183-4faa-a494-9950e042a358",
   "metadata": {},
   "outputs": [],
   "source": [
    "AMNFTYJBGHJ=5"
   ]
  },
  {
   "cell_type": "code",
   "execution_count": 16,
   "id": "1dfaaa08-274e-4090-bf51-60f4d7a7adf8",
   "metadata": {},
   "outputs": [
    {
     "ename": "SyntaxError",
     "evalue": "invalid decimal literal (1347968322.py, line 1)",
     "output_type": "error",
     "traceback": [
      "\u001b[0;36m  Cell \u001b[0;32mIn[16], line 1\u001b[0;36m\u001b[0m\n\u001b[0;31m    12AB=5\u001b[0m\n\u001b[0m     ^\u001b[0m\n\u001b[0;31mSyntaxError\u001b[0m\u001b[0;31m:\u001b[0m invalid decimal literal\n"
     ]
    }
   ],
   "source": [
    "12AB=5"
   ]
  },
  {
   "cell_type": "code",
   "execution_count": 17,
   "id": "b030736b-09ee-4713-b314-309d589d18e1",
   "metadata": {},
   "outputs": [
    {
     "ename": "SyntaxError",
     "evalue": "invalid syntax (3342734147.py, line 1)",
     "output_type": "error",
     "traceback": [
      "\u001b[0;36m  Cell \u001b[0;32mIn[17], line 1\u001b[0;36m\u001b[0m\n\u001b[0;31m    $%abc=5\u001b[0m\n\u001b[0m    ^\u001b[0m\n\u001b[0;31mSyntaxError\u001b[0m\u001b[0;31m:\u001b[0m invalid syntax\n"
     ]
    }
   ],
   "source": [
    "$%abc=5"
   ]
  },
  {
   "cell_type": "code",
   "execution_count": 18,
   "id": "73a64c42-35d8-4947-837e-5d1695686a30",
   "metadata": {},
   "outputs": [],
   "source": [
    "_=5"
   ]
  },
  {
   "cell_type": "code",
   "execution_count": 19,
   "id": "eea90969-a7db-4a27-a325-61149f8efa04",
   "metadata": {},
   "outputs": [],
   "source": [
    "_abc=5"
   ]
  },
  {
   "cell_type": "code",
   "execution_count": 20,
   "id": "d13e7ff3-169e-4f76-9ef6-c271f93cc2f5",
   "metadata": {},
   "outputs": [
    {
     "ename": "SyntaxError",
     "evalue": "invalid syntax (1261276278.py, line 1)",
     "output_type": "error",
     "traceback": [
      "\u001b[0;36m  Cell \u001b[0;32mIn[20], line 1\u001b[0;36m\u001b[0m\n\u001b[0;31m    abc$$=5\u001b[0m\n\u001b[0m       ^\u001b[0m\n\u001b[0;31mSyntaxError\u001b[0m\u001b[0;31m:\u001b[0m invalid syntax\n"
     ]
    }
   ],
   "source": [
    "abc$$=5"
   ]
  },
  {
   "cell_type": "code",
   "execution_count": 21,
   "id": "c107a416-dced-4152-91a1-e01407246fa3",
   "metadata": {},
   "outputs": [
    {
     "ename": "SyntaxError",
     "evalue": "cannot assign to True (3091963775.py, line 1)",
     "output_type": "error",
     "traceback": [
      "\u001b[0;36m  Cell \u001b[0;32mIn[21], line 1\u001b[0;36m\u001b[0m\n\u001b[0;31m    True=5\u001b[0m\n\u001b[0m    ^\u001b[0m\n\u001b[0;31mSyntaxError\u001b[0m\u001b[0;31m:\u001b[0m cannot assign to True\n"
     ]
    }
   ],
   "source": [
    "True=5"
   ]
  },
  {
   "cell_type": "code",
   "execution_count": 22,
   "id": "ef5c74a3-31f8-46d4-9af1-731316b7ec81",
   "metadata": {},
   "outputs": [
    {
     "ename": "SyntaxError",
     "evalue": "invalid syntax (577952.py, line 1)",
     "output_type": "error",
     "traceback": [
      "\u001b[0;36m  Cell \u001b[0;32mIn[22], line 1\u001b[0;36m\u001b[0m\n\u001b[0;31m    ab cd=5\u001b[0m\n\u001b[0m       ^\u001b[0m\n\u001b[0;31mSyntaxError\u001b[0m\u001b[0;31m:\u001b[0m invalid syntax\n"
     ]
    }
   ],
   "source": [
    "ab cd=5"
   ]
  },
  {
   "cell_type": "markdown",
   "id": "22217086-0678-4998-b48a-6ea1065b42e8",
   "metadata": {},
   "source": [
    "## two features of variables\n",
    "- identity of variable\n",
    "- type of variable"
   ]
  },
  {
   "cell_type": "code",
   "execution_count": 3,
   "id": "16654625-900c-47e4-901e-eaf6895fc95b",
   "metadata": {},
   "outputs": [],
   "source": [
    "s=\"santhosh\""
   ]
  },
  {
   "cell_type": "markdown",
   "id": "da987e4e-f1c8-454a-996e-5ea345cb68f4",
   "metadata": {},
   "source": [
    "- id is used to find the address of the variable holding"
   ]
  },
  {
   "cell_type": "code",
   "execution_count": 11,
   "id": "30cc8007-2b33-4e4c-b13f-884e52d3af36",
   "metadata": {},
   "outputs": [
    {
     "name": "stdout",
     "output_type": "stream",
     "text": [
      "5620399344\n"
     ]
    }
   ],
   "source": [
    "print(id(s))"
   ]
  },
  {
   "cell_type": "markdown",
   "id": "f993a71c-0f0a-4e99-9a69-6909e0fc1fc1",
   "metadata": {},
   "source": [
    "- two variabes with same values has same memory location.The only exception is of a larger value has different memory allocation.  "
   ]
  },
  {
   "cell_type": "code",
   "execution_count": 12,
   "id": "2850ceff-ee5c-4f71-9f83-702d895690c3",
   "metadata": {},
   "outputs": [],
   "source": [
    "w=5\n",
    "q=5"
   ]
  },
  {
   "cell_type": "code",
   "execution_count": 16,
   "id": "f3cfa87d-00b3-4c84-ac8c-c4c65f5b020d",
   "metadata": {},
   "outputs": [
    {
     "name": "stdout",
     "output_type": "stream",
     "text": [
      "4382072720\n",
      "4382072720\n"
     ]
    }
   ],
   "source": [
    "print(id(w))\n",
    "print(id(q))"
   ]
  },
  {
   "cell_type": "code",
   "execution_count": null,
   "id": "c9d4412b-fc7f-41b4-ab99-cb09cfb0050e",
   "metadata": {},
   "outputs": [],
   "source": []
  }
 ],
 "metadata": {
  "kernelspec": {
   "display_name": "Python [conda env:base] *",
   "language": "python",
   "name": "conda-base-py"
  },
  "language_info": {
   "codemirror_mode": {
    "name": "ipython",
    "version": 3
   },
   "file_extension": ".py",
   "mimetype": "text/x-python",
   "name": "python",
   "nbconvert_exporter": "python",
   "pygments_lexer": "ipython3",
   "version": "3.12.7"
  }
 },
 "nbformat": 4,
 "nbformat_minor": 5
}
