{
 "cells": [
  {
   "cell_type": "markdown",
   "id": "bd0991d9-1ba1-4106-9a27-ee5345dba234",
   "metadata": {},
   "source": [
    "# Dictionary\n",
    "- Dictionary is a maping data type.\n",
    "- it consists of key and value pairs separated by colon(:) and enclosed by {}.\n",
    "- keys are always \"unique\" but values may be repeated.\n",
    "- keys are immutable and values can be changes so they are mutable.\n",
    "- syntax: variable = {key:value}.\n",
    "- whole dictionary is a mutable data type because values can be changes so."
   ]
  },
  {
   "cell_type": "code",
   "execution_count": 1,
   "id": "594b3f09-63e1-4124-8226-f24ee2b25396",
   "metadata": {},
   "outputs": [
    {
     "name": "stdout",
     "output_type": "stream",
     "text": [
      "<class 'dict'>\n"
     ]
    }
   ],
   "source": [
    "dict1 = {}                #dict itself a keyword which creates a dictionary\n",
    "print(type(dict1))"
   ]
  },
  {
   "cell_type": "code",
   "execution_count": 3,
   "id": "136cc33f-4b18-4f28-bc10-5e74a10c3b2a",
   "metadata": {},
   "outputs": [
    {
     "name": "stdout",
     "output_type": "stream",
     "text": [
      "{'name': 'sai santhos', 'age': 22, 'Gender': 'male'}\n",
      "<class 'dict'>\n"
     ]
    }
   ],
   "source": [
    "dict2 = {\"name\" : \"sai santhos\",\n",
    "         \"age\" : 22,\n",
    "         \"Gender\" : \"male\"}\n",
    "print(dict2)\n",
    "print(type(dict2))"
   ]
  },
  {
   "cell_type": "code",
   "execution_count": 1,
   "id": "819543d0-f9fd-4704-b872-459b826b2bea",
   "metadata": {},
   "outputs": [
    {
     "name": "stdout",
     "output_type": "stream",
     "text": [
      "{1: 32, 2: 234, 3: 44}\n",
      "<class 'dict'>\n"
     ]
    }
   ],
   "source": [
    "d = {1:32,2:33,3:44,2:234}         #Dictionary doesnt allow duplicate values.so it takes of last occurance.\n",
    "print(d)\n",
    "print(type(d))"
   ]
  },
  {
   "cell_type": "code",
   "execution_count": 7,
   "id": "62e227d0-07a0-4b94-915b-18c9fe8d8751",
   "metadata": {},
   "outputs": [
    {
     "name": "stdout",
     "output_type": "stream",
     "text": [
      "{'name': 'python', 'dob': 1991, 'places': ['hyderabad', 'chennai', 'banglore']}\n",
      "<class 'dict'>\n"
     ]
    }
   ],
   "source": [
    "#We can take list as a value for a key in a dictionary sometimes\n",
    "d1 = {\"name\" : \"python\",\n",
    "      \"dob\" : 1991,\n",
    "      \"places\" : [\"hyderabad\",\"chennai\",\"banglore\"]}\n",
    "print(d1)\n",
    "print(type(d1))"
   ]
  },
  {
   "cell_type": "markdown",
   "id": "77cc216c-70bf-47f2-ac58-6a77657ce93b",
   "metadata": {},
   "source": [
    "# Dictionary indexing"
   ]
  },
  {
   "cell_type": "code",
   "execution_count": 15,
   "id": "7b561cc2-5076-4867-980a-262e30f61d32",
   "metadata": {},
   "outputs": [
    {
     "data": {
      "text/plain": [
       "'chennai'"
      ]
     },
     "execution_count": 15,
     "metadata": {},
     "output_type": "execute_result"
    }
   ],
   "source": [
    "d1 = {\"name\" : \"python\",\n",
    "      \"dob\" : 1991,\n",
    "      \"places\" : [\"hyderabad\",\"chennai\",\"banglore\"]}\n",
    "d1[\"places\"][1]"
   ]
  },
  {
   "cell_type": "code",
   "execution_count": 21,
   "id": "96062b0d-7d43-489d-8bcd-86250c5faffa",
   "metadata": {},
   "outputs": [
    {
     "name": "stdout",
     "output_type": "stream",
     "text": [
      "dict_keys(['name', 'dob', 'places'])\n",
      "dict_values(['python', 1991, ['hyderabad', 'chennai', 'banglore']])\n",
      "dict_items([('name', 'python'), ('dob', 1991), ('places', ['hyderabad', 'chennai', 'banglore'])])\n"
     ]
    }
   ],
   "source": [
    "d1 = {\"name\" : \"python\",\n",
    "      \"dob\" : 1991,\n",
    "      \"places\" : [\"hyderabad\",\"chennai\",\"banglore\"]}\n",
    "print(d1.keys())                   #keys function returns whole keys from the dictionary\n",
    "print(d1.values())                #values function returns whole values from the dictionary\n",
    "print(d1.items())                #here we can get whole dictionary items i,e key:value pairs  "
   ]
  },
  {
   "cell_type": "markdown",
   "id": "aa2ed5c4-6f10-4784-86c3-a243525ef58a",
   "metadata": {},
   "source": [
    "# adding elements to the dictionary\n",
    "- directly we can add item(key-value) pair to the dictionary by mentioning dictionary_name[key]=value.\n",
    "- here the added element will be added at the end of the dictionary."
   ]
  },
  {
   "cell_type": "code",
   "execution_count": 22,
   "id": "cc6810ab-f76c-4158-8a40-a8fc66ba415c",
   "metadata": {},
   "outputs": [
    {
     "name": "stdout",
     "output_type": "stream",
     "text": [
      "{'name': 'python', 'dob': 1991, 'places': ['hyderabad', 'chennai', 'banglore'], 'website': 'python.org'}\n"
     ]
    }
   ],
   "source": [
    "d1 = {\"name\" : \"python\",\n",
    "      \"dob\" : 1991,\n",
    "      \"places\" : [\"hyderabad\",\"chennai\",\"banglore\"]}\n",
    "d1[\"website\"] = \"python.org\"\n",
    "print(d1)"
   ]
  },
  {
   "cell_type": "markdown",
   "id": "eb294d1c-ad7f-4fe7-8e4e-b07b5587114a",
   "metadata": {},
   "source": [
    "# update() method:\n",
    "- update method is used to add more than one element at once to the dictionary.\n",
    "- here we used dic.update({key:vale})`"
   ]
  },
  {
   "cell_type": "code",
   "execution_count": 24,
   "id": "a1d5ea5b-681d-4a54-a058-584983a2a071",
   "metadata": {},
   "outputs": [
    {
     "name": "stdout",
     "output_type": "stream",
     "text": [
      "{'name': 'python', 'dob': 1991, 'places': ['hyderabad', 'chennai', 'banglore'], 'location': 'hyderabad', 'course': 'data science', 'present day': 'moday'}\n"
     ]
    }
   ],
   "source": [
    "d1 = {\"name\" : \"python\",\n",
    "      \"dob\" : 1991,\n",
    "      \"places\" : [\"hyderabad\",\"chennai\",\"banglore\"]}\n",
    "d1.update({\"location\":\"hyderabad\",\"course\":\"data science\",\"present day\":\"moday\"})\n",
    "print(d1)"
   ]
  },
  {
   "cell_type": "markdown",
   "id": "f5ce81b6-6e98-42b1-b45b-7d2f2e79c42e",
   "metadata": {},
   "source": [
    "# change of elements\n",
    "- changing of elements from the dictionaries can be done by index method."
   ]
  },
  {
   "cell_type": "code",
   "execution_count": 26,
   "id": "f3da54e2-90d4-44c8-b022-afa54e612334",
   "metadata": {},
   "outputs": [
    {
     "name": "stdout",
     "output_type": "stream",
     "text": [
      "{'name': 'python', 'dob': 1991, 'places': ['hyderabad', 'goa', 'banglore']}\n"
     ]
    }
   ],
   "source": [
    "d1 = {\"name\" : \"python\",\n",
    "      \"dob\" : 1991,\n",
    "      \"places\" : [\"hyderabad\",\"chennai\",\"banglore\"]}\n",
    "d1[\"places\"][1] = \"goa\"\n",
    "print(d1)"
   ]
  },
  {
   "cell_type": "code",
   "execution_count": 28,
   "id": "98d9fc6f-9609-4f7b-a105-c94950905e14",
   "metadata": {},
   "outputs": [
    {
     "name": "stdout",
     "output_type": "stream",
     "text": [
      "{'name': 'sai', 'dob': 1991, 'places': ['hyderabad', 'chennai', 'banglore']}\n"
     ]
    }
   ],
   "source": [
    "d1 = {\"name\" : \"python\",\n",
    "      \"dob\" : 1991,\n",
    "      \"places\" : [\"hyderabad\",\"chennai\",\"banglore\"]}\n",
    "d1[\"name\"] = \"sai\"\n",
    "print(d1)"
   ]
  },
  {
   "cell_type": "markdown",
   "id": "040b63ad-7c2f-46bf-ba39-63b4719cbc28",
   "metadata": {},
   "source": [
    "# get()\n",
    "- get method in python is used to find the key only,but if the key is not present then it wont thow an error.\n",
    "- to handle key-value error get method is used."
   ]
  },
  {
   "cell_type": "code",
   "execution_count": 31,
   "id": "b4dd841b-dfae-43ac-b89c-9d706ce2a3ad",
   "metadata": {},
   "outputs": [
    {
     "name": "stdout",
     "output_type": "stream",
     "text": [
      "None\n"
     ]
    }
   ],
   "source": [
    "d1 = {\"name\" : \"python\",\n",
    "      \"dob\" : 1991,\n",
    "      \"places\" : [\"hyderabad\",\"chennai\",\"banglore\"]}\n",
    "print(d1.get(\"location\"))                 #here location is not found in the dictionary so it returned none instead of error."
   ]
  },
  {
   "cell_type": "code",
   "execution_count": 34,
   "id": "bb4ec2e9-7dce-4a49-93fa-0c68075c3192",
   "metadata": {},
   "outputs": [
    {
     "name": "stdout",
     "output_type": "stream",
     "text": [
      "['hyderabad', 'chennai', 'banglore']\n"
     ]
    }
   ],
   "source": [
    "d1 = {\"name\" : \"python\",\n",
    "      \"dob\" : 1991,\n",
    "      \"places\" : [\"hyderabad\",\"chennai\",\"banglore\"]}\n",
    "print(d1.get(\"places\"))"
   ]
  },
  {
   "cell_type": "code",
   "execution_count": 38,
   "id": "88d3523b-bcde-40d1-9d12-3096bfecfbf1",
   "metadata": {},
   "outputs": [
    {
     "name": "stdout",
     "output_type": "stream",
     "text": [
      "True\n",
      "False\n",
      "True\n",
      "True\n"
     ]
    }
   ],
   "source": [
    "d1 = {\"name\" : \"python\",\n",
    "      \"dob\" : 1991,\n",
    "      \"places\" : [\"hyderabad\",\"chennai\",\"banglore\"]}\n",
    "d2 = {\"bond\":\"sigma bond\",\"color\":\"red\",\"blast\":\"not yet\"}\n",
    "print(\"places\" in d1)                     #membership operator\n",
    "print(d1 == d2)                          #assignment operator  \n",
    "print(d1 != d2)                         #not equal operator\n",
    "print(\"location\" not in d1)            #not in(membership)"
   ]
  },
  {
   "cell_type": "markdown",
   "id": "d989e325-860b-4d5f-a885-d25123a246c9",
   "metadata": {},
   "source": [
    "# removing values from dictionary\n",
    "- there are 3 ways to remove elements from the dictionary 1.pop 2.pop item and 3.del"
   ]
  },
  {
   "cell_type": "markdown",
   "id": "5ea3fee4-ae95-47d4-bad6-c1f2c0c7caf6",
   "metadata": {},
   "source": [
    "## 1.pop() method\n",
    "- pop method is used to remove key value pair that we should mention key to delete.\n",
    "- it doesnt delete last value like other data types."
   ]
  },
  {
   "cell_type": "code",
   "execution_count": 39,
   "id": "24ba3b17-52e8-43c9-9cb3-ab67fad13150",
   "metadata": {},
   "outputs": [
    {
     "name": "stdout",
     "output_type": "stream",
     "text": [
      "{'name': 'python', 'dob': 1991}\n"
     ]
    }
   ],
   "source": [
    "d1 = {\"name\" : \"python\",\n",
    "      \"dob\" : 1991,\n",
    "      \"places\" : [\"hyderabad\",\"chennai\",\"banglore\"]}\n",
    "d1.pop(\"places\")\n",
    "print(d1)"
   ]
  },
  {
   "cell_type": "markdown",
   "id": "b96f6bb1-30bd-40fc-be77-1d6ae14d28fb",
   "metadata": {},
   "source": [
    "## 2.popitem() method\n",
    "- popitem method is used to delete last iteam from the dictionary."
   ]
  },
  {
   "cell_type": "code",
   "execution_count": 42,
   "id": "1fe663cb-3414-40f9-b3bf-9b49df6738ea",
   "metadata": {},
   "outputs": [
    {
     "data": {
      "text/plain": [
       "('places', ['hyderabad', 'chennai', 'banglore'])"
      ]
     },
     "execution_count": 42,
     "metadata": {},
     "output_type": "execute_result"
    }
   ],
   "source": [
    "d1 = {\"name\" : \"python\",\n",
    "      \"dob\" : 1991,\n",
    "      \"places\" : [\"hyderabad\",\"chennai\",\"banglore\"]}\n",
    "d1.popitem()"
   ]
  },
  {
   "cell_type": "markdown",
   "id": "5599392d-29a6-4867-b789-a5a3e3ae600a",
   "metadata": {},
   "source": [
    "## 3.del method\n",
    "- del method is used delete entire dictionary or we can delete any value particulary from the dictionary."
   ]
  },
  {
   "cell_type": "code",
   "execution_count": 46,
   "id": "8482bc8c-bb45-42c4-bc59-b4b936e0c91e",
   "metadata": {},
   "outputs": [
    {
     "name": "stdout",
     "output_type": "stream",
     "text": [
      "{'name': 'python', 'dob': 1991, 'places': ['hyderabad', 'chennai']}\n"
     ]
    }
   ],
   "source": [
    "d1 = {\"name\" : \"python\",\n",
    "      \"dob\" : 1991,\n",
    "      \"places\" : [\"hyderabad\",\"chennai\",\"banglore\"]}\n",
    "del d1[\"places\"][2]            #deleting single element/value from the dictionary.\n",
    "print(d1)"
   ]
  },
  {
   "cell_type": "code",
   "execution_count": 47,
   "id": "17cf5a3e-5636-4b1c-bcea-6dfeb3f76c2a",
   "metadata": {},
   "outputs": [
    {
     "ename": "NameError",
     "evalue": "name 'd1' is not defined",
     "output_type": "error",
     "traceback": [
      "\u001b[0;31m---------------------------------------------------------------------------\u001b[0m",
      "\u001b[0;31mNameError\u001b[0m                                 Traceback (most recent call last)",
      "Cell \u001b[0;32mIn[47], line 5\u001b[0m\n\u001b[1;32m      1\u001b[0m d1 \u001b[38;5;241m=\u001b[39m {\u001b[38;5;124m\"\u001b[39m\u001b[38;5;124mname\u001b[39m\u001b[38;5;124m\"\u001b[39m : \u001b[38;5;124m\"\u001b[39m\u001b[38;5;124mpython\u001b[39m\u001b[38;5;124m\"\u001b[39m,\n\u001b[1;32m      2\u001b[0m       \u001b[38;5;124m\"\u001b[39m\u001b[38;5;124mdob\u001b[39m\u001b[38;5;124m\"\u001b[39m : \u001b[38;5;241m1991\u001b[39m,\n\u001b[1;32m      3\u001b[0m       \u001b[38;5;124m\"\u001b[39m\u001b[38;5;124mplaces\u001b[39m\u001b[38;5;124m\"\u001b[39m : [\u001b[38;5;124m\"\u001b[39m\u001b[38;5;124mhyderabad\u001b[39m\u001b[38;5;124m\"\u001b[39m,\u001b[38;5;124m\"\u001b[39m\u001b[38;5;124mchennai\u001b[39m\u001b[38;5;124m\"\u001b[39m,\u001b[38;5;124m\"\u001b[39m\u001b[38;5;124mbanglore\u001b[39m\u001b[38;5;124m\"\u001b[39m]}\n\u001b[1;32m      4\u001b[0m \u001b[38;5;28;01mdel\u001b[39;00m d1                    \u001b[38;5;66;03m#here deleting entire dictionary \u001b[39;00m\n\u001b[0;32m----> 5\u001b[0m \u001b[38;5;28mprint\u001b[39m(d1)\n",
      "\u001b[0;31mNameError\u001b[0m: name 'd1' is not defined"
     ]
    }
   ],
   "source": [
    "d1 = {\"name\" : \"python\",\n",
    "      \"dob\" : 1991,\n",
    "      \"places\" : [\"hyderabad\",\"chennai\",\"banglore\"]}\n",
    "del d1                    #here deleting entire dictionary \n",
    "print(d1)"
   ]
  },
  {
   "cell_type": "markdown",
   "id": "4ca728de-490e-4117-9357-c8802afeeb73",
   "metadata": {},
   "source": [
    "# clear method:\n",
    "- clear method is used to clear the entire dictionary items from the dictionary."
   ]
  },
  {
   "cell_type": "code",
   "execution_count": 49,
   "id": "3bac0bec-c1f9-4af8-803d-d0a1469164c1",
   "metadata": {},
   "outputs": [
    {
     "name": "stdout",
     "output_type": "stream",
     "text": [
      "{}\n"
     ]
    }
   ],
   "source": [
    "d1 = {\"name\" : \"python\",\n",
    "      \"dob\" : 1991,\n",
    "      \"places\" : [\"hyderabad\",\"chennai\",\"banglore\"]}\n",
    "d1.clear()\n",
    "print(d1)"
   ]
  },
  {
   "cell_type": "markdown",
   "id": "17625306-a0be-492a-9a66-e78784aece5b",
   "metadata": {},
   "source": [
    "# fromkeys method \n",
    "- fromkeys method is used to create a dictionary but has only default value for entire keys.\n",
    "                                                "
   ]
  },
  {
   "cell_type": "code",
   "execution_count": 61,
   "id": "e76274ce-ba1f-481c-a6ab-264f653b2448",
   "metadata": {},
   "outputs": [
    {
     "data": {
      "text/plain": [
       "{'name': 'sai', 'age': 'sai', 'location': 'sai'}"
      ]
     },
     "execution_count": 61,
     "metadata": {},
     "output_type": "execute_result"
    }
   ],
   "source": [
    "keys = [\"name\",\"age\",\"location\"]\n",
    "value = \"sai\"\n",
    "d = dict.fromkeys(keys,value)\n",
    "d"
   ]
  },
  {
   "cell_type": "markdown",
   "id": "daa091de-3327-4f78-9fec-ec90fcc48535",
   "metadata": {},
   "source": [
    "# ZIP method\n",
    "- zip method is also used to create a dictionary but has particular values for each keys."
   ]
  },
  {
   "cell_type": "code",
   "execution_count": 3,
   "id": "6adc1fae-2968-458e-8573-ba92db879864",
   "metadata": {},
   "outputs": [
    {
     "data": {
      "text/plain": [
       "{'name': 'sai', 'age': 21, 'location': 'hyderabad'}"
      ]
     },
     "execution_count": 3,
     "metadata": {},
     "output_type": "execute_result"
    }
   ],
   "source": [
    "keys = [\"name\",\"age\",\"location\"]\n",
    "values = [\"sai\",21,\"hyderabad\"]\n",
    "x = dict(zip(keys,values))\n",
    "x"
   ]
  },
  {
   "cell_type": "markdown",
   "id": "9b55f05f-c666-4149-8b40-e58dbbb9549d",
   "metadata": {},
   "source": [
    "# set\n",
    "- set is an unordered datatype.\n",
    "- set is mutable.\n",
    "- set allows all data types but it doesnot allows duplicates."
   ]
  },
  {
   "cell_type": "code",
   "execution_count": 64,
   "id": "2bbc2a6c-1fe2-4caf-9115-4835c034b299",
   "metadata": {},
   "outputs": [
    {
     "name": "stdout",
     "output_type": "stream",
     "text": [
      "<class 'dict'>\n",
      "<class 'set'>\n"
     ]
    }
   ],
   "source": [
    "s = {}\n",
    "s2 = set()               \n",
    "print(type(s))           #untill elements are defined this s is a dictionary only\n",
    "print(type(s2))         #it print type as a set because we mentioned set as a data type during assinging."
   ]
  },
  {
   "cell_type": "code",
   "execution_count": 67,
   "id": "c0382628-6847-43bd-9832-3b80db968825",
   "metadata": {},
   "outputs": [
    {
     "ename": "TypeError",
     "evalue": "set expected at most 1 argument, got 5",
     "output_type": "error",
     "traceback": [
      "\u001b[0;31m---------------------------------------------------------------------------\u001b[0m",
      "\u001b[0;31mTypeError\u001b[0m                                 Traceback (most recent call last)",
      "Cell \u001b[0;32mIn[67], line 2\u001b[0m\n\u001b[1;32m      1\u001b[0m s1 \u001b[38;5;241m=\u001b[39m {\u001b[38;5;241m1\u001b[39m,\u001b[38;5;241m2\u001b[39m,\u001b[38;5;241m3\u001b[39m,\u001b[38;5;241m4\u001b[39m,\u001b[38;5;241m5\u001b[39m}           \u001b[38;5;66;03m#here it is a set but\u001b[39;00m\n\u001b[0;32m----> 2\u001b[0m s2 \u001b[38;5;241m=\u001b[39m \u001b[38;5;28mset\u001b[39m(\u001b[38;5;241m1\u001b[39m,\u001b[38;5;241m2\u001b[39m,\u001b[38;5;241m3\u001b[39m,\u001b[38;5;241m4\u001b[39m,\u001b[38;5;241m5\u001b[39m)\n",
      "\u001b[0;31mTypeError\u001b[0m: set expected at most 1 argument, got 5"
     ]
    }
   ],
   "source": [
    "s1 = {1,2,3,4,5}           #here it is a set but\n",
    "s2 = set(1,2,3,4,5)  #throws an error beacuse we can include only one element at a time with this method."
   ]
  },
  {
   "cell_type": "code",
   "execution_count": 68,
   "id": "f2e2e674-2d26-4e46-bdf7-2c44d77a3c24",
   "metadata": {},
   "outputs": [
    {
     "data": {
      "text/plain": [
       "{1, 2, 3, 4}"
      ]
     },
     "execution_count": 68,
     "metadata": {},
     "output_type": "execute_result"
    }
   ],
   "source": [
    "#Another method of taking  set values\n",
    "s = set({1,2,3,4})\n",
    "s"
   ]
  },
  {
   "cell_type": "code",
   "execution_count": 14,
   "id": "8141fdf3-7191-4154-86d6-9ee332324cdf",
   "metadata": {},
   "outputs": [
    {
     "name": "stdout",
     "output_type": "stream",
     "text": [
      "{'h', 'l', 'e', 'o'}\n",
      "{'hello'}\n"
     ]
    }
   ],
   "source": [
    "s1 = set(\"hello\")                 #here hello is one value but has various elements in it so it prints all seperate elements.\n",
    "s2 = set({\"hello\"})              #here {} are mentioned so hello prints as it is.\n",
    "print(s1)\n",
    "print(s2)"
   ]
  },
  {
   "cell_type": "code",
   "execution_count": 25,
   "id": "17ff405e-fead-427c-9f29-1cb4859d4a99",
   "metadata": {
    "scrolled": true
   },
   "outputs": [
    {
     "name": "stdout",
     "output_type": "stream",
     "text": [
      "{0, 1, 1.5}\n",
      "{False, True, 1.5}\n",
      "{False, 1.5, True}\n"
     ]
    }
   ],
   "source": [
    "s1 = {0,1,True,False,1.5}     #order of the value comes into consideration.\n",
    "s2 = {True,False,1.5,0,1}    #if false or true comes first than 0 or 1 then false or true will be printed.  \n",
    "s3 = {1.5,True,1,False,0}\n",
    "print(s1)\n",
    "print(s2)\n",
    "print(s3)"
   ]
  },
  {
   "cell_type": "markdown",
   "id": "98882c33-4752-4f8a-8ced-e0bc38160044",
   "metadata": {},
   "source": [
    "# set operations/methods"
   ]
  },
  {
   "cell_type": "markdown",
   "id": "f5419d45-7207-4268-a423-ccac68beaa86",
   "metadata": {},
   "source": [
    "## 1.add method:\n",
    "- add method is used to add only single value at a time."
   ]
  },
  {
   "cell_type": "code",
   "execution_count": 77,
   "id": "cc435011-6590-4128-baae-f1b558149453",
   "metadata": {},
   "outputs": [
    {
     "data": {
      "text/plain": [
       "{1, 2, 3, 4, 5, 6, 8, 9}"
      ]
     },
     "execution_count": 77,
     "metadata": {},
     "output_type": "execute_result"
    }
   ],
   "source": [
    "s = {1,2,3,4,5,8,6}\n",
    "s.add(9)\n",
    "s"
   ]
  },
  {
   "cell_type": "markdown",
   "id": "785ea181-974e-4afe-a33e-3b40eb24c6b3",
   "metadata": {},
   "source": [
    "## 2.update method\n",
    "- update method is used to add more than single element at a time into the set\n",
    "- those adding elements should be in a list."
   ]
  },
  {
   "cell_type": "code",
   "execution_count": 79,
   "id": "2b695937-b851-4446-9410-dbb2147ef308",
   "metadata": {},
   "outputs": [
    {
     "data": {
      "text/plain": [
       "{1, 2, 3, 4, 5, 6, 8, 9, 12, 32, 222, 345, 987}"
      ]
     },
     "execution_count": 79,
     "metadata": {},
     "output_type": "execute_result"
    }
   ],
   "source": [
    "s.update([12,32,345,222,987])\n",
    "s"
   ]
  }
 ],
 "metadata": {
  "kernelspec": {
   "display_name": "Python [conda env:base] *",
   "language": "python",
   "name": "conda-base-py"
  },
  "language_info": {
   "codemirror_mode": {
    "name": "ipython",
    "version": 3
   },
   "file_extension": ".py",
   "mimetype": "text/x-python",
   "name": "python",
   "nbconvert_exporter": "python",
   "pygments_lexer": "ipython3",
   "version": "3.12.7"
  }
 },
 "nbformat": 4,
 "nbformat_minor": 5
}
