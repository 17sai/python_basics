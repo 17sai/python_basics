{
 "cells": [
  {
   "cell_type": "markdown",
   "id": "7fd47724-cfe5-4fe8-ba0e-fe269e2d839a",
   "metadata": {},
   "source": [
    "# discard \n",
    "- discard method is used to remove an element from the set.\n",
    "- It doesnt throw an error if the element is not present in the set."
   ]
  },
  {
   "cell_type": "code",
   "execution_count": 1,
   "id": "54ab852f-d423-495d-b063-f6d4df90df3d",
   "metadata": {},
   "outputs": [],
   "source": [
    "sr = {1,2,3,4,5,6}\n",
    "sr.discard(5)"
   ]
  },
  {
   "cell_type": "code",
   "execution_count": 3,
   "id": "02f411c3-206c-416f-9a63-1da6ce1c5a1c",
   "metadata": {},
   "outputs": [],
   "source": [
    "sr.discard(100)     # here 100 is not present in the set but it doesnt throw any error"
   ]
  },
  {
   "cell_type": "markdown",
   "id": "de083320-a317-4d6a-97d4-ccebbb70d7df",
   "metadata": {},
   "source": [
    "# remove\n",
    "- remove method is used as discard but here if any element is not present in the set it throws an error."
   ]
  },
  {
   "cell_type": "code",
   "execution_count": 5,
   "id": "169361ab-3db1-412d-9af7-2127a98bcb4b",
   "metadata": {},
   "outputs": [],
   "source": [
    "sr.remove(2)"
   ]
  },
  {
   "cell_type": "code",
   "execution_count": 6,
   "id": "9a7bebf4-a78c-4f1d-aed5-c2e104bb2f2b",
   "metadata": {},
   "outputs": [
    {
     "ename": "KeyError",
     "evalue": "200",
     "output_type": "error",
     "traceback": [
      "\u001b[0;31m---------------------------------------------------------------------------\u001b[0m",
      "\u001b[0;31mKeyError\u001b[0m                                  Traceback (most recent call last)",
      "Cell \u001b[0;32mIn[6], line 1\u001b[0m\n\u001b[0;32m----> 1\u001b[0m sr\u001b[38;5;241m.\u001b[39mremove(\u001b[38;5;241m200\u001b[39m)\n",
      "\u001b[0;31mKeyError\u001b[0m: 200"
     ]
    }
   ],
   "source": [
    "sr.remove(200)"
   ]
  },
  {
   "cell_type": "markdown",
   "id": "7833da98-6739-49ae-9c30-de2afc6490a2",
   "metadata": {},
   "source": [
    "# pop\n",
    "- pop is also a method to remove an element but is may remove any random element from the set.\n",
    "- because set is unordered collection."
   ]
  },
  {
   "cell_type": "code",
   "execution_count": 13,
   "id": "1d3b834e-e2d0-41ab-980c-8d1849ae06f4",
   "metadata": {},
   "outputs": [
    {
     "data": {
      "text/plain": [
       "1"
      ]
     },
     "execution_count": 13,
     "metadata": {},
     "output_type": "execute_result"
    }
   ],
   "source": [
    "sr = {1,2,3,4,5,6}\n",
    "sr.pop()"
   ]
  },
  {
   "cell_type": "markdown",
   "id": "6e35eb3d-c80e-4ba8-9dc0-4376ef1d2df9",
   "metadata": {},
   "source": [
    "# clear()\n",
    "- clear method is used to clear or remove entire set."
   ]
  },
  {
   "cell_type": "code",
   "execution_count": 9,
   "id": "c83567c8-92c1-4eda-bba6-4e313c4a5ef0",
   "metadata": {},
   "outputs": [
    {
     "data": {
      "text/plain": [
       "set()"
      ]
     },
     "execution_count": 9,
     "metadata": {},
     "output_type": "execute_result"
    }
   ],
   "source": [
    "sr = {1,2,3,4,5}\n",
    "sr.clear()\n",
    "sr"
   ]
  },
  {
   "cell_type": "code",
   "execution_count": 18,
   "id": "4e332783-a2eb-47a9-9985-423c5b27c902",
   "metadata": {},
   "outputs": [
    {
     "name": "stdout",
     "output_type": "stream",
     "text": [
      "6\n",
      "6\n",
      "6\n",
      "1\n",
      "True\n",
      "21\n"
     ]
    }
   ],
   "source": [
    "#Other operations on set\n",
    "sr = {1,2,3,4,5,6}\n",
    "print(max(sr))\n",
    "print(len(sr))\n",
    "print(max(sr))\n",
    "print(min(sr))\n",
    "print(3 in sr)\n",
    "print(sum(sr))"
   ]
  },
  {
   "cell_type": "markdown",
   "id": "57a84582-1ec9-4e16-831a-82c16651d3a4",
   "metadata": {},
   "source": [
    "# set operations"
   ]
  },
  {
   "cell_type": "markdown",
   "id": "203ccf09-ac0a-48aa-8358-f8818375c487",
   "metadata": {},
   "source": [
    "# 1.union\n",
    "- union method is use to combine both the set element with unique values.\n",
    "- here repetation of the values wont be there."
   ]
  },
  {
   "cell_type": "code",
   "execution_count": 20,
   "id": "b729844b-4f66-4411-9b92-0152f7f69cd1",
   "metadata": {},
   "outputs": [
    {
     "data": {
      "text/plain": [
       "{1, 2, 3, 4, 5, 6, 7, 8, 9}"
      ]
     },
     "execution_count": 20,
     "metadata": {},
     "output_type": "execute_result"
    }
   ],
   "source": [
    "s1 = {1,2,3,4,5,6}\n",
    "s2 = {3,5,6,7,8,9}\n",
    "s1.union(s2)"
   ]
  },
  {
   "cell_type": "markdown",
   "id": "bb671f34-db53-4e96-89b6-7ba31e6e6afd",
   "metadata": {},
   "source": [
    "# 2.intersection\n",
    "- intersection is the method used to find the common elements in both the set values."
   ]
  },
  {
   "cell_type": "code",
   "execution_count": 21,
   "id": "bc0e4abe-cd13-4a61-94dc-e1b2e20dde6d",
   "metadata": {},
   "outputs": [
    {
     "data": {
      "text/plain": [
       "{3, 5, 6}"
      ]
     },
     "execution_count": 21,
     "metadata": {},
     "output_type": "execute_result"
    }
   ],
   "source": [
    "s1 = {1,2,3,4,5,6}\n",
    "s2 = {3,5,6,7,8,9}\n",
    "s1.intersection(s2)"
   ]
  },
  {
   "cell_type": "markdown",
   "id": "99e40925-8c34-4ffd-95dc-3a2915789cb5",
   "metadata": {},
   "source": [
    "# 3.Difference\n",
    "- difference is the method used to get only values present in the only one set values.\n",
    "- here the common values will be removed from the set and returns diff values."
   ]
  },
  {
   "cell_type": "code",
   "execution_count": 23,
   "id": "a3cf1cef-5c87-4941-b9cf-f8795d92bd56",
   "metadata": {},
   "outputs": [
    {
     "name": "stdout",
     "output_type": "stream",
     "text": [
      "{1, 2, 4}\n",
      "{8, 9, 7}\n"
     ]
    }
   ],
   "source": [
    "s1 = {1,2,3,4,5,6}\n",
    "s2 = {3,5,6,7,8,9}\n",
    "print(s1.difference(s2))\n",
    "print(s2.difference(s1))"
   ]
  },
  {
   "cell_type": "markdown",
   "id": "e0c2cabb-8c55-4bca-8357-4ca24e35fed6",
   "metadata": {},
   "source": [
    "# 4.isdisjoint \n",
    "- isdisjoint method is used to check weather both the elements from both the sets are different."
   ]
  },
  {
   "cell_type": "code",
   "execution_count": 24,
   "id": "f3197a13-a35f-4a08-8768-7186df36c629",
   "metadata": {},
   "outputs": [
    {
     "data": {
      "text/plain": [
       "False"
      ]
     },
     "execution_count": 24,
     "metadata": {},
     "output_type": "execute_result"
    }
   ],
   "source": [
    "s1 = {1,2,3,4}\n",
    "s2 = {4,5,6}\n",
    "s1.isdisjoint(s2)"
   ]
  },
  {
   "cell_type": "code",
   "execution_count": 1,
   "id": "91ee9c68-4937-4787-a875-2c8e9800c058",
   "metadata": {},
   "outputs": [
    {
     "data": {
      "text/plain": [
       "True"
      ]
     },
     "execution_count": 1,
     "metadata": {},
     "output_type": "execute_result"
    }
   ],
   "source": [
    "s1 = {1,2,3}\n",
    "s2 = {4,5,6}\n",
    "s1.isdisjoint(s2)"
   ]
  },
  {
   "cell_type": "markdown",
   "id": "c2e64894-7790-49f0-985f-479bd46e2c7e",
   "metadata": {},
   "source": [
    "# frozen set\n",
    "- frozen set is a derived data type.\n",
    "- frozen set is a set which cannot be modified further.\n",
    "- frozen set can be created by mentioning \"frozenset\" keyword.\n",
    "- frozen set is used when no elements should be changed."
   ]
  },
  {
   "cell_type": "code",
   "execution_count": 27,
   "id": "22030786-1eec-4777-b7d3-aec9df3f4fdd",
   "metadata": {},
   "outputs": [
    {
     "name": "stdout",
     "output_type": "stream",
     "text": [
      "frozenset({1, 2, 3, 4, 5, 6, 7})\n",
      "<class 'frozenset'>\n"
     ]
    }
   ],
   "source": [
    "s = {1,2,3,4,5,6,7}\n",
    "fs = frozenset(s)\n",
    "print(fs)\n",
    "print(type(fs))"
   ]
  },
  {
   "cell_type": "markdown",
   "id": "702ec885-d5b0-4545-b637-39442be02378",
   "metadata": {},
   "source": [
    "# Programming constructs/control statements\n",
    "- programming construct are building blocks used to control flow of execution or structure of the execution.\n",
    "- there are 2 types 1.condoitional statements and 2.loop statements.    "
   ]
  },
  {
   "cell_type": "markdown",
   "id": "0e5968a4-6772-4b1e-800f-884b268cb1fe",
   "metadata": {},
   "source": [
    "# conditional statements:\n",
    "- conditions statements are used to control flow of execution \"based on given condition\".\n",
    "- \"if,if else,if elif else,nested if\" are the conditional statements in python."
   ]
  },
  {
   "cell_type": "markdown",
   "id": "016f9263-0df4-4def-95ba-a5bc1f799532",
   "metadata": {},
   "source": [
    "# 1.if condition:\n",
    "- if is used to check weather the conditon is true or false.\n",
    "- if true then the block of code inside if will execute.\n",
    "- here indentation takes about \"4 spaces\" or \"1 tab\"."
   ]
  },
  {
   "cell_type": "code",
   "execution_count": 33,
   "id": "02180fc4-e959-4034-95b7-275490366435",
   "metadata": {},
   "outputs": [
    {
     "name": "stdout",
     "output_type": "stream",
     "text": [
      "True\n"
     ]
    }
   ],
   "source": [
    "x = 5\n",
    "if x>4:\n",
    "    print(True)"
   ]
  },
  {
   "cell_type": "code",
   "execution_count": 35,
   "id": "ebff42a8-e8c2-4d4a-97bd-593485dd2620",
   "metadata": {},
   "outputs": [],
   "source": [
    "x = 9 \n",
    "y = 10\n",
    "if x>y and y>x:\n",
    "    print(True)"
   ]
  },
  {
   "cell_type": "code",
   "execution_count": 36,
   "id": "75ed9912-bfe6-4ae3-bd6b-32db3ae27e3d",
   "metadata": {},
   "outputs": [
    {
     "name": "stdout",
     "output_type": "stream",
     "text": [
      "True\n"
     ]
    }
   ],
   "source": [
    "x = 9 \n",
    "y = 10\n",
    "if x>y or y>x:\n",
    "    print(True)"
   ]
  },
  {
   "cell_type": "code",
   "execution_count": 38,
   "id": "40c2843b-55ff-4760-bdf4-ebd8f53751a7",
   "metadata": {},
   "outputs": [
    {
     "name": "stdout",
     "output_type": "stream",
     "text": [
      "hello python\n"
     ]
    }
   ],
   "source": [
    "x = 9 \n",
    "y = 10\n",
    "if x>y and y>x:              #here only one condition is true so the block wont execute directly jumps to print statement.\n",
    "    print(True)\n",
    "print(\"hello python\")    "
   ]
  },
  {
   "cell_type": "code",
   "execution_count": 41,
   "id": "cc732158-c858-4f70-8a0b-62db263a5f36",
   "metadata": {},
   "outputs": [
    {
     "name": "stdin",
     "output_type": "stream",
     "text": [
      " 3\n"
     ]
    }
   ],
   "source": [
    "i  = int(input())\n",
    "if i >4:\n",
    "    print(\"its greater then 4\")"
   ]
  },
  {
   "cell_type": "markdown",
   "id": "83683bd2-920f-4b0d-b709-565d56474b57",
   "metadata": {},
   "source": [
    "# 2.if else condition\n",
    "- here first if condition will be checked if true it executes if false it moves to else condtion."
   ]
  },
  {
   "cell_type": "code",
   "execution_count": 42,
   "id": "8290e5d3-e235-4678-a5fd-81d80a5b4850",
   "metadata": {},
   "outputs": [
    {
     "name": "stdout",
     "output_type": "stream",
     "text": [
      "x is greater than 3\n"
     ]
    }
   ],
   "source": [
    "x = 3\n",
    "if x<3:\n",
    "    print(\"x is less than 3\")\n",
    "else:\n",
    "    print(\"x is greater than 3\")"
   ]
  },
  {
   "cell_type": "code",
   "execution_count": 46,
   "id": "71496d38-6971-4571-8761-b1abb694b327",
   "metadata": {},
   "outputs": [
    {
     "name": "stdin",
     "output_type": "stream",
     "text": [
      " 23\n"
     ]
    },
    {
     "name": "stdout",
     "output_type": "stream",
     "text": [
      "odd number\n"
     ]
    }
   ],
   "source": [
    "#Even or Odd number\n",
    "x = int(input())\n",
    "if x%2==0:\n",
    "    print(\"even number\")\n",
    "else:\n",
    "    print(\"odd number\")"
   ]
  },
  {
   "cell_type": "code",
   "execution_count": 56,
   "id": "704f7231-1523-4bae-a6a5-7b73590b3a71",
   "metadata": {},
   "outputs": [
    {
     "name": "stdin",
     "output_type": "stream",
     "text": [
      " 2\n"
     ]
    },
    {
     "name": "stdout",
     "output_type": "stream",
     "text": [
      "positive number\n"
     ]
    }
   ],
   "source": [
    "#Positive or Negative number\n",
    "x = int(input())\n",
    "if x>0:\n",
    "    print(\"positive number\")\n",
    "else:\n",
    "    print(\"negative number\")\n",
    "    "
   ]
  },
  {
   "cell_type": "code",
   "execution_count": 53,
   "id": "21878f20-3de5-42dc-b86b-7d66cba91178",
   "metadata": {},
   "outputs": [
    {
     "name": "stdin",
     "output_type": "stream",
     "text": [
      " 18\n"
     ]
    },
    {
     "name": "stdout",
     "output_type": "stream",
     "text": [
      "can cast vote\n"
     ]
    }
   ],
   "source": [
    "#Can Vote or not\n",
    "age = int(input())\n",
    "if age>=18:\n",
    "    print(\"can cast vote\")\n",
    "else:\n",
    "    print(\"not eligible\")"
   ]
  },
  {
   "cell_type": "markdown",
   "id": "caf690d5-8c45-47e6-8201-57773193f09f",
   "metadata": {},
   "source": [
    "# 3.if elif else contion\n",
    "- here it checks from the start and executes the true condition.\n",
    "- starts from if then elif then atlast else condition."
   ]
  },
  {
   "cell_type": "code",
   "execution_count": 61,
   "id": "fb5149f8-ea3c-4f69-ae35-c67491120847",
   "metadata": {},
   "outputs": [
    {
     "name": "stdin",
     "output_type": "stream",
     "text": [
      " 0\n"
     ]
    },
    {
     "name": "stdout",
     "output_type": "stream",
     "text": [
      "x is zero\n"
     ]
    }
   ],
   "source": [
    "x = int(input())\n",
    "if x==0:\n",
    "    print(\"x is zero\")\n",
    "elif x>0:\n",
    "    print(\"x is positive\")\n",
    "else:\n",
    "    print(\"x is negative\")"
   ]
  },
  {
   "cell_type": "code",
   "execution_count": 68,
   "id": "ba51e3e4-6055-498a-b9c4-c19b2243a491",
   "metadata": {},
   "outputs": [
    {
     "name": "stdin",
     "output_type": "stream",
     "text": [
      " 23432\n"
     ]
    },
    {
     "name": "stdout",
     "output_type": "stream",
     "text": [
      "its a palindrome\n"
     ]
    }
   ],
   "source": [
    "#Palindrome\n",
    "x = (input())\n",
    "if x[::]==x[::-1]:\n",
    "    print(\"its a palindrome\")\n",
    "else:\n",
    "    print(\"not a palindrome\")"
   ]
  },
  {
   "cell_type": "code",
   "execution_count": 70,
   "id": "3d17fae1-f8b5-4f87-8d38-ba13d70d646e",
   "metadata": {},
   "outputs": [
    {
     "name": "stdin",
     "output_type": "stream",
     "text": [
      " 2345\n"
     ]
    },
    {
     "name": "stdout",
     "output_type": "stream",
     "text": [
      "not a strong password\n"
     ]
    }
   ],
   "source": [
    "#Strenth of a password\n",
    "x = input()\n",
    "if len(x)>8:\n",
    "    print(\"is strong password\")\n",
    "else:\n",
    "    print(\"not a strong password\")"
   ]
  },
  {
   "cell_type": "code",
   "execution_count": null,
   "id": "1c4dbd3b-bfd0-4913-9ccb-12fd9be60c5c",
   "metadata": {},
   "outputs": [],
   "source": [
    "#print the list items if there in smaller letters\n",
    "x = \n"
   ]
  }
 ],
 "metadata": {
  "kernelspec": {
   "display_name": "Python [conda env:base] *",
   "language": "python",
   "name": "conda-base-py"
  },
  "language_info": {
   "codemirror_mode": {
    "name": "ipython",
    "version": 3
   },
   "file_extension": ".py",
   "mimetype": "text/x-python",
   "name": "python",
   "nbconvert_exporter": "python",
   "pygments_lexer": "ipython3",
   "version": "3.12.7"
  }
 },
 "nbformat": 4,
 "nbformat_minor": 5
}
