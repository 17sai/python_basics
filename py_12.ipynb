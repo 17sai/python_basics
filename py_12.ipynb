{
 "cells": [
  {
   "cell_type": "markdown",
   "id": "6a85af9d-66e0-4ff1-8e62-5ffcc817fd93",
   "metadata": {},
   "source": [
    "# if-elif-else:\n",
    "- Here first if condtion comes into execution.\n",
    "- if condition is false then it moves to elif conditon.Here we can use multiple elif conditions.\n",
    "- and elif is also false then else comes into execution."
   ]
  },
  {
   "cell_type": "code",
   "execution_count": 6,
   "id": "7e6ee9dd-83f1-4779-b472-6cf6eedebcda",
   "metadata": {},
   "outputs": [
    {
     "name": "stdin",
     "output_type": "stream",
     "text": [
      " 3\n"
     ]
    },
    {
     "name": "stdout",
     "output_type": "stream",
     "text": [
      "x is positive\n"
     ]
    }
   ],
   "source": [
    "# check weather the num is positive,negative or zero\n",
    "x = int(input())\n",
    "if x>0:\n",
    "    print(\"x is positive\")\n",
    "elif x<0:\n",
    "    print(\"x is negative\")\n",
    "else:\n",
    "    print(\"x is zero\")"
   ]
  },
  {
   "cell_type": "code",
   "execution_count": 11,
   "id": "aa1c01dd-6726-45bd-a70d-b4389b139da4",
   "metadata": {},
   "outputs": [
    {
     "name": "stdin",
     "output_type": "stream",
     "text": [
      " 2\n",
      " 2\n",
      " 2\n"
     ]
    },
    {
     "name": "stdout",
     "output_type": "stream",
     "text": [
      "a is greater\n"
     ]
    }
   ],
   "source": [
    "# check the greater value among 3 numbers\n",
    "a = int(input())\n",
    "b = int(input())\n",
    "c = int(input())\n",
    "if a>=b and a>=c:\n",
    "    print(\"a is greater\")\n",
    "elif b>=a and b>=c:\n",
    "    print(\"b is greater\")\n",
    "else:\n",
    "    print(\"c is greater\")"
   ]
  },
  {
   "cell_type": "code",
   "execution_count": 17,
   "id": "39729b9f-4c3f-4b88-9c74-d4d7c17c12af",
   "metadata": {},
   "outputs": [
    {
     "name": "stdin",
     "output_type": "stream",
     "text": [
      " tuesday\n"
     ]
    },
    {
     "name": "stdout",
     "output_type": "stream",
     "text": [
      "its weekday\n"
     ]
    }
   ],
   "source": [
    "# check the day \n",
    "day = input().lower()\n",
    "if day == \"monday\" or day == \"tuesday\" or day == \"wednesday\" or day == \"thursday\" :\n",
    "    print(\"its weekday\")\n",
    "elif day == \"friday\":\n",
    "    print(\"its about to be weekend\")\n",
    "else:\n",
    "    print(\"its weekend go and party\")"
   ]
  },
  {
   "cell_type": "code",
   "execution_count": 19,
   "id": "11734320-a743-4520-9fb6-ef16db63b6f0",
   "metadata": {},
   "outputs": [
    {
     "name": "stdin",
     "output_type": "stream",
     "text": [
      " 2\n",
      " 3\n",
      " //\n"
     ]
    },
    {
     "name": "stdout",
     "output_type": "stream",
     "text": [
      "0\n"
     ]
    }
   ],
   "source": [
    "# simple calculator\n",
    "a = int(input())\n",
    "b = int(input())\n",
    "ope = input()\n",
    "if ope == \"+\":\n",
    "    print(a+b)\n",
    "elif ope == \"-\":\n",
    "    print(a-b)\n",
    "elif ope == \"*\":\n",
    "    print(a*b)\n",
    "elif ope == \"/\":\n",
    "    print(a/b)\n",
    "elif ope == \"//\":\n",
    "    print(a//b)\n",
    "elif ope == \"**\":\n",
    "    print(a**b)\n",
    "else:\n",
    "    print(\"enter a valid operator\")\n",
    "    "
   ]
  },
  {
   "cell_type": "code",
   "execution_count": 24,
   "id": "58bcdf55-67b7-461b-a963-73803254f6bc",
   "metadata": {},
   "outputs": [
    {
     "name": "stdin",
     "output_type": "stream",
     "text": [
      " 67\n"
     ]
    },
    {
     "name": "stdout",
     "output_type": "stream",
     "text": [
      "7rs discount\n"
     ]
    }
   ],
   "source": [
    "# discount calculator\n",
    "a = int(input())\n",
    "if a >90:\n",
    "    print(\"discont amount is 10rs\")\n",
    "elif a > 80:\n",
    "    print(\"9rs discount\")\n",
    "elif a > 70:\n",
    "    print(\"8rs discount\")\n",
    "elif a > 60:\n",
    "    print(\"7rs discount\")\n",
    "elif a > 50:\n",
    "    print(\"6rs discount\")\n",
    "elif a <= 50:\n",
    "    print(\"no discount\")\n",
    "else:\n",
    "    print(\"enter valid amount\")\n",
    "    "
   ]
  },
  {
   "cell_type": "markdown",
   "id": "6b8ae697-bbcc-4f5c-b1fe-fb65ce35ae80",
   "metadata": {},
   "source": [
    "# Nested if condition\n",
    "- nested if is nothing but if inside if.\n"
   ]
  },
  {
   "cell_type": "code",
   "execution_count": 31,
   "id": "173ac4de-86ea-4e27-8494-4e39db85e1e3",
   "metadata": {},
   "outputs": [
    {
     "name": "stdin",
     "output_type": "stream",
     "text": [
      " 23\n"
     ]
    },
    {
     "name": "stdout",
     "output_type": "stream",
     "text": [
      "value greater than zero...\n",
      "value less than 50\n"
     ]
    }
   ],
   "source": [
    "a = int(input())\n",
    "if a > 0:\n",
    "    print(\"value greater than zero...\")\n",
    "    if a < 50:\n",
    "        print(\"value less than 50\")\n",
    "        if a % 2 == 0:\n",
    "            print(\"value is even number\")"
   ]
  },
  {
   "cell_type": "code",
   "execution_count": 30,
   "id": "60e753fb-602d-4dea-b302-ce75fe61d77a",
   "metadata": {},
   "outputs": [
    {
     "name": "stdin",
     "output_type": "stream",
     "text": [
      " 23\n"
     ]
    },
    {
     "name": "stdout",
     "output_type": "stream",
     "text": [
      "value greater than zero...\n",
      "value less than 50\n",
      "value is odd number\n"
     ]
    }
   ],
   "source": [
    "a = int(input())\n",
    "if a > 0:\n",
    "    print(\"value greater than zero...\")\n",
    "    if a < 50:\n",
    "        print(\"value less than 50\")\n",
    "        if a % 2 == 0:\n",
    "            print(\"value is even number\")\n",
    "        else :\n",
    "            print(\"value is odd number\")\n",
    "    else:\n",
    "        print(\"value is greater than or equal to 50\")\n",
    "else:\n",
    "    print(\"value is negative or incorrect error\")"
   ]
  },
  {
   "cell_type": "code",
   "execution_count": 44,
   "id": "42df8495-0e2a-4c3d-a79f-17feaa6af2b0",
   "metadata": {},
   "outputs": [
    {
     "name": "stdin",
     "output_type": "stream",
     "text": [
      " 78\n",
      " 98\n"
     ]
    },
    {
     "name": "stdout",
     "output_type": "stream",
     "text": [
      "you are eligible for interview\n"
     ]
    }
   ],
   "source": [
    "# student grade and attendance check\n",
    "grade = int(input())\n",
    "att = int(input())\n",
    "if grade >75:\n",
    "    if att > 75:\n",
    "        print(\"you are eligible for interview\")\n",
    "else:\n",
    "    print(\"not eligible\")        "
   ]
  },
  {
   "cell_type": "code",
   "execution_count": 47,
   "id": "c2e1a013-d530-4466-91a9-4d5fe8958274",
   "metadata": {},
   "outputs": [
    {
     "name": "stdin",
     "output_type": "stream",
     "text": [
      " 45\n",
      " monday\n"
     ]
    },
    {
     "name": "stdout",
     "output_type": "stream",
     "text": [
      "ticket price is 200\n"
     ]
    }
   ],
   "source": [
    "# movie ticket pricing based on age and day\n",
    "age = int(input())\n",
    "day = input().lower()\n",
    "days = [\"monday\",\"tuesday\",\"wednesday\",\"thursday\",\"friday\"]\n",
    "if age > 18:\n",
    "    if day in days:\n",
    "        print(\"ticket price is 200\")\n",
    "    else:\n",
    "        print(\"ticket price is 150\")\n",
    "else:\n",
    "    print(\"ticket price is 100\")"
   ]
  },
  {
   "cell_type": "code",
   "execution_count": 1,
   "id": "614bcc2c-6896-4d56-8c30-a193a9b89b26",
   "metadata": {},
   "outputs": [
    {
     "name": "stdin",
     "output_type": "stream",
     "text": [
      " s\n",
      " s\n"
     ]
    }
   ],
   "source": [
    "# hotel booking\n",
    "room_ava = input()\n",
    "room_type = input().lower()\n",
    "if room_ava == \"yes\":\n",
    "    print(\"what type of room you need?\")\n",
    "    if room_type == \"single\":\n",
    "        print(\"yes sir available\")\n",
    "    else:\n",
    "        print(\"not available sir sorry\")\n",
    "    if room_type == \"double\":"
   ]
  },
  {
   "cell_type": "code",
   "execution_count": null,
   "id": "f7983e69-d3d5-4579-84ed-13800f58fde7",
   "metadata": {},
   "outputs": [],
   "source": []
  }
 ],
 "metadata": {
  "kernelspec": {
   "display_name": "Python [conda env:base] *",
   "language": "python",
   "name": "conda-base-py"
  },
  "language_info": {
   "codemirror_mode": {
    "name": "ipython",
    "version": 3
   },
   "file_extension": ".py",
   "mimetype": "text/x-python",
   "name": "python",
   "nbconvert_exporter": "python",
   "pygments_lexer": "ipython3",
   "version": "3.12.7"
  }
 },
 "nbformat": 4,
 "nbformat_minor": 5
}
