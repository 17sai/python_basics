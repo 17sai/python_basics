{
 "cells": [
  {
   "cell_type": "markdown",
   "id": "f4dc4343-eb89-434f-9f3c-8a970f67eb18",
   "metadata": {},
   "source": [
    "# Loops:\n",
    "- loops are used to repeate particular set of program multiple times.\n",
    "- here code resuability is done.\n",
    "- there are two types of loops present 1.for and 2.while."
   ]
  },
  {
   "cell_type": "markdown",
   "id": "ee9c97c1-4466-4e82-847b-65139bc9d162",
   "metadata": {},
   "source": [
    "# 1.for loop:\n",
    "- for loop is used to repeate set of istructions untill known number of times/iterations."
   ]
  },
  {
   "cell_type": "code",
   "execution_count": 2,
   "id": "5d5e2b0d-3f7d-4caf-96f1-b0f292f82400",
   "metadata": {},
   "outputs": [
    {
     "name": "stdout",
     "output_type": "stream",
     "text": [
      "1\n",
      "2\n",
      "3\n",
      "4\n",
      "5\n"
     ]
    }
   ],
   "source": [
    "a = [1,2,3,4,5]\n",
    "for i in a:\n",
    "    print(i)"
   ]
  },
  {
   "cell_type": "code",
   "execution_count": 11,
   "id": "4125e6c2-5a1b-4fb3-9e4c-dd60c457a0ae",
   "metadata": {},
   "outputs": [
    {
     "name": "stdout",
     "output_type": "stream",
     "text": [
      "i\n",
      "n\n",
      "n\n",
      "o\n",
      "m\n",
      "a\n",
      "t\n",
      "i\n",
      "c\n",
      "s\n",
      " \n",
      "r\n",
      "e\n",
      "s\n",
      "e\n",
      "a\n",
      "r\n",
      "c\n",
      "h\n",
      " \n",
      "l\n",
      "a\n",
      "b\n",
      "s\n"
     ]
    }
   ],
   "source": [
    "# print the alphabets seperately in a loop\n",
    "a = \"innomatics research labs\"\n",
    "for i in a:\n",
    "    print(i)"
   ]
  },
  {
   "cell_type": "code",
   "execution_count": 10,
   "id": "3ab28958-8e13-4f8d-bb01-6a95f430252b",
   "metadata": {},
   "outputs": [
    {
     "name": "stdout",
     "output_type": "stream",
     "text": [
      "2\n",
      "4\n",
      "6\n",
      "8\n",
      "10\n"
     ]
    }
   ],
   "source": [
    "# double the number\n",
    "a = [1,2,3,4,5]\n",
    "for i in a:\n",
    "    print(i*2)"
   ]
  },
  {
   "cell_type": "code",
   "execution_count": 9,
   "id": "fca93f51-bff3-4bc3-be47-9f466af775ea",
   "metadata": {},
   "outputs": [
    {
     "name": "stdout",
     "output_type": "stream",
     "text": [
      "odd number 1\n",
      "even number 2\n",
      "odd number 3\n",
      "even number 4\n",
      "odd number 5\n",
      "even number 6\n",
      "odd number 7\n",
      "even number 8\n",
      "odd number 9\n",
      "even number 10\n"
     ]
    }
   ],
   "source": [
    "# even and odd in a list\n",
    "a = [1,2,3,4,5,6,7,8,9,10]\n",
    "for i in a:\n",
    "    if i%2 == 0:\n",
    "        print(f\"even number {i}\")\n",
    "    else:\n",
    "        print(f\"odd number {i}\")"
   ]
  },
  {
   "cell_type": "markdown",
   "id": "90044f1e-241b-4d3f-87e2-d22b38b3a93f",
   "metadata": {},
   "source": [
    "# Range function:\n",
    "- range generator generates sequence of numbers within a specified range.\n",
    "- it is used to define the limit of iterations.\n",
    "- range consists of 3 parameters they are (start,exclusively stop,step)."
   ]
  },
  {
   "cell_type": "code",
   "execution_count": 15,
   "id": "d5ca7592-859e-46a3-b535-29fd3c90040b",
   "metadata": {},
   "outputs": [
    {
     "data": {
      "text/plain": [
       "[1, 2, 3, 4, 5, 6, 7, 8, 9, 10]"
      ]
     },
     "execution_count": 15,
     "metadata": {},
     "output_type": "execute_result"
    }
   ],
   "source": [
    "# we can directly include range if want set of iterable numbers in a list.\n",
    "a = list(range(1,11))\n",
    "a"
   ]
  },
  {
   "cell_type": "code",
   "execution_count": 21,
   "id": "22e6f110-eb7d-4fbf-bb3d-8a521f0d588d",
   "metadata": {},
   "outputs": [
    {
     "name": "stdout",
     "output_type": "stream",
     "text": [
      "0\n",
      "1\n",
      "2\n",
      "3\n",
      "4\n",
      "5\n",
      "6\n",
      "7\n",
      "8\n",
      "9\n",
      "10\n"
     ]
    }
   ],
   "source": [
    "# only single parameter(exclusively stop)\n",
    "for i in range(11):              # range starts from 0 if start is not given\n",
    "    print(i)"
   ]
  },
  {
   "cell_type": "code",
   "execution_count": 26,
   "id": "c34d3642-7551-435b-bd3f-1f3bcc6f0f24",
   "metadata": {},
   "outputs": [
    {
     "name": "stdout",
     "output_type": "stream",
     "text": [
      "1\n",
      "2\n",
      "3\n",
      "4\n",
      "5\n",
      "6\n",
      "7\n",
      "8\n",
      "9\n",
      "10\n"
     ]
    }
   ],
   "source": [
    "# start and exclusive stop\n",
    "for i in range(1,11):\n",
    "    print(i)"
   ]
  },
  {
   "cell_type": "code",
   "execution_count": 20,
   "id": "20008aed-bb21-46e6-b45d-380c9211faff",
   "metadata": {},
   "outputs": [
    {
     "name": "stdout",
     "output_type": "stream",
     "text": [
      "1\n",
      "3\n",
      "5\n",
      "7\n",
      "9\n"
     ]
    }
   ],
   "source": [
    "# step method \n",
    "for i in range(1,11,2):\n",
    "    print(i)"
   ]
  },
  {
   "cell_type": "code",
   "execution_count": 30,
   "id": "18c827c0-b692-4525-a45f-d434851d177f",
   "metadata": {},
   "outputs": [
    {
     "name": "stdin",
     "output_type": "stream",
     "text": [
      " 17\n"
     ]
    },
    {
     "name": "stdout",
     "output_type": "stream",
     "text": [
      "17 * 1 = 17\n",
      "17 * 2 = 34\n",
      "17 * 3 = 51\n",
      "17 * 4 = 68\n",
      "17 * 5 = 85\n",
      "17 * 6 = 102\n",
      "17 * 7 = 119\n",
      "17 * 8 = 136\n",
      "17 * 9 = 153\n",
      "17 * 10 = 170\n"
     ]
    }
   ],
   "source": [
    "# table \n",
    "n = int(input())\n",
    "for i in range(1,11):\n",
    "    print(f\"{\n",
    "    n} * {i} = {n*i}\")"
   ]
  },
  {
   "cell_type": "code",
   "execution_count": 38,
   "id": "4a30d256-1a05-4ea5-9590-b7835c59a91e",
   "metadata": {},
   "outputs": [
    {
     "name": "stdin",
     "output_type": "stream",
     "text": [
      " 5\n"
     ]
    },
    {
     "name": "stdout",
     "output_type": "stream",
     "text": [
      "120\n"
     ]
    }
   ],
   "source": [
    "# factorial\n",
    "n = int(input())\n",
    "fact = 1\n",
    "for i in range(1,n+1):\n",
    "    fact *=i\n",
    "print(fact)    "
   ]
  },
  {
   "cell_type": "code",
   "execution_count": 51,
   "id": "16cddf49-0683-4aa8-9383-6ae603d3fec1",
   "metadata": {},
   "outputs": [
    {
     "name": "stdout",
     "output_type": "stream",
     "text": [
      "720\n"
     ]
    }
   ],
   "source": [
    "# factorial using recursion function\n",
    "def myfun(n):\n",
    "    if n == 1:\n",
    "        return 1\n",
    "    return n * myfun(n - 1)\n",
    "print(myfun(6))  # Output: 720"
   ]
  },
  {
   "cell_type": "code",
   "execution_count": 53,
   "id": "c98cc009-245b-4e5d-babd-ade8033ee42c",
   "metadata": {},
   "outputs": [
    {
     "name": "stdout",
     "output_type": "stream",
     "text": [
      "210\n"
     ]
    }
   ],
   "source": [
    "# sum of numbers in an iteration\n",
    "sum = 0\n",
    "for i in range(1,21):\n",
    "    sum +=i\n",
    "print(sum)    "
   ]
  },
  {
   "cell_type": "markdown",
   "id": "2fefbfaa-e773-42b3-9726-7dae41e8e9c8",
   "metadata": {},
   "source": [
    "# Index based iteration \n",
    "- Here iteration is done based on indexed based."
   ]
  },
  {
   "cell_type": "code",
   "execution_count": 58,
   "id": "7eedde65-a166-4a17-9a77-1791f50bf44a",
   "metadata": {},
   "outputs": [
    {
     "name": "stdout",
     "output_type": "stream",
     "text": [
      "[2, 4, 6, 8]\n"
     ]
    }
   ],
   "source": [
    "l1 = [1,2,3,4]\n",
    "l2 = []\n",
    "for i in range(1,len(l1)+1):\n",
    "    l2.append(i*2)\n",
    "print(l2)    "
   ]
  },
  {
   "cell_type": "code",
   "execution_count": 68,
   "id": "8d8dc91f-4a81-4b8a-9553-8ae738cf8cc9",
   "metadata": {},
   "outputs": [
    {
     "name": "stdout",
     "output_type": "stream",
     "text": [
      "['45 : pass', '66 : pass', '45 : pass', '78 : pass']\n"
     ]
    }
   ],
   "source": [
    "# pass or fail\n",
    "l = [23,45,66,32,45,78]\n",
    "pass_list = []\n",
    "pass_marks = 35\n",
    "for i in l:\n",
    "    if i > pass_marks:\n",
    "        pass_list.append(f\"{i} : pass\")\n",
    "print(pass_list)        "
   ]
  },
  {
   "cell_type": "code",
   "execution_count": 35,
   "id": "7867f3e8-fbf7-4336-8c43-f00ba63b1f2b",
   "metadata": {},
   "outputs": [
    {
     "name": "stdout",
     "output_type": "stream",
     "text": [
      "yes sir room is available\n"
     ]
    },
    {
     "name": "stdin",
     "output_type": "stream",
     "text": [
      " double\n"
     ]
    },
    {
     "name": "stdout",
     "output_type": "stream",
     "text": [
      "price is 2000rs\n"
     ]
    }
   ],
   "source": [
    "# room booking\n",
    "import random\n",
    "avai = [\"Yes\",\"No\"]\n",
    "if random.choice(avai) == \"Yes\":\n",
    "    print(\"yes sir room is available\")\n",
    "    room_type = input().lower()\n",
    "    if room_type == \"single\":\n",
    "        print(\"price is 1500rs\")\n",
    "    elif room_type == \"double\":    \n",
    "        print(\"price is 2000rs\")\n",
    "    else:\n",
    "        print(\"Enter a valid room type\")\n",
    "else:\n",
    "    print(\"sorry sir room is not available\")"
   ]
  }
 ],
 "metadata": {
  "kernelspec": {
   "display_name": "Python [conda env:base] *",
   "language": "python",
   "name": "conda-base-py"
  },
  "language_info": {
   "codemirror_mode": {
    "name": "ipython",
    "version": 3
   },
   "file_extension": ".py",
   "mimetype": "text/x-python",
   "name": "python",
   "nbconvert_exporter": "python",
   "pygments_lexer": "ipython3",
   "version": "3.12.7"
  }
 },
 "nbformat": 4,
 "nbformat_minor": 5
}
