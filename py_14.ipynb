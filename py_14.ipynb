{
 "cells": [
  {
   "cell_type": "markdown",
   "id": "16451b62-396e-4e2d-9dac-476620476020",
   "metadata": {},
   "source": [
    "# Nested for loop\n",
    "- here netsed for loop is same as nested if condition,for loop inside a for loop.\n",
    "- here first for loop comes into action if the condition is true then it jumps into the inner loop.\n",
    "- untill the inner loop compoletes its iteration inner loop only executes.\n",
    "- after completion of inner for then it comes back to the outer for loop.\n",
    "- this process is done untill the iterations of outer for loop is done."
   ]
  },
  {
   "cell_type": "code",
   "execution_count": 2,
   "id": "e0c90daf-2fc1-4780-835c-06d8eadbdcdb",
   "metadata": {},
   "outputs": [
    {
     "name": "stdout",
     "output_type": "stream",
     "text": [
      "a 1\n",
      "a 2\n",
      "a 3\n",
      "b 1\n",
      "b 2\n",
      "b 3\n",
      "c 1\n",
      "c 2\n",
      "c 3\n"
     ]
    }
   ],
   "source": [
    "a = [\"a\",\"b\",\"c\"]\n",
    "b = [1,2,3]\n",
    "for i in a:\n",
    "    for j in b:\n",
    "        print(i,j)"
   ]
  },
  {
   "cell_type": "code",
   "execution_count": 4,
   "id": "f1004163-6344-4fe2-80c4-0d1c6de87057",
   "metadata": {},
   "outputs": [
    {
     "name": "stdout",
     "output_type": "stream",
     "text": [
      "0 10\n",
      "0 11\n",
      "0 12\n",
      "1 10\n",
      "1 11\n",
      "1 12\n"
     ]
    }
   ],
   "source": [
    "# random nested for loop \n",
    "for i in range(2):\n",
    "    for j in range(10,13):\n",
    "        print(i,j)"
   ]
  },
  {
   "cell_type": "code",
   "execution_count": 13,
   "id": "c60ed255-07aa-4411-bf08-85f19bf66f55",
   "metadata": {},
   "outputs": [
    {
     "name": "stdout",
     "output_type": "stream",
     "text": [
      "aa\n",
      "ab\n",
      "ac\n",
      "ba\n",
      "bb\n",
      "bc\n",
      "ca\n",
      "cb\n",
      "cc\n"
     ]
    }
   ],
   "source": [
    "a = \"abc\"\n",
    "for i in a:\n",
    "    for j in a:\n",
    "        print(i+j)"
   ]
  },
  {
   "cell_type": "code",
   "execution_count": 18,
   "id": "9331237f-38bf-4a62-b438-24c2c5673bfa",
   "metadata": {},
   "outputs": [
    {
     "name": "stdout",
     "output_type": "stream",
     "text": [
      "1 * 1 = 1 1 * 2 = 2 1 * 3 = 3 1 * 4 = 4 1 * 5 = 5 1 * 6 = 6 1 * 7 = 7 1 * 8 = 8 1 * 9 = 9 1 * 10 = 10 \n",
      "2 * 1 = 2 2 * 2 = 4 2 * 3 = 6 2 * 4 = 8 2 * 5 = 10 2 * 6 = 12 2 * 7 = 14 2 * 8 = 16 2 * 9 = 18 2 * 10 = 20 \n",
      "3 * 1 = 3 3 * 2 = 6 3 * 3 = 9 3 * 4 = 12 3 * 5 = 15 3 * 6 = 18 3 * 7 = 21 3 * 8 = 24 3 * 9 = 27 3 * 10 = 30 \n",
      "4 * 1 = 4 4 * 2 = 8 4 * 3 = 12 4 * 4 = 16 4 * 5 = 20 4 * 6 = 24 4 * 7 = 28 4 * 8 = 32 4 * 9 = 36 4 * 10 = 40 \n",
      "5 * 1 = 5 5 * 2 = 10 5 * 3 = 15 5 * 4 = 20 5 * 5 = 25 5 * 6 = 30 5 * 7 = 35 5 * 8 = 40 5 * 9 = 45 5 * 10 = 50 \n",
      "6 * 1 = 6 6 * 2 = 12 6 * 3 = 18 6 * 4 = 24 6 * 5 = 30 6 * 6 = 36 6 * 7 = 42 6 * 8 = 48 6 * 9 = 54 6 * 10 = 60 \n",
      "7 * 1 = 7 7 * 2 = 14 7 * 3 = 21 7 * 4 = 28 7 * 5 = 35 7 * 6 = 42 7 * 7 = 49 7 * 8 = 56 7 * 9 = 63 7 * 10 = 70 \n",
      "8 * 1 = 8 8 * 2 = 16 8 * 3 = 24 8 * 4 = 32 8 * 5 = 40 8 * 6 = 48 8 * 7 = 56 8 * 8 = 64 8 * 9 = 72 8 * 10 = 80 \n",
      "9 * 1 = 9 9 * 2 = 18 9 * 3 = 27 9 * 4 = 36 9 * 5 = 45 9 * 6 = 54 9 * 7 = 63 9 * 8 = 72 9 * 9 = 81 9 * 10 = 90 \n",
      "10 * 1 = 10 10 * 2 = 20 10 * 3 = 30 10 * 4 = 40 10 * 5 = 50 10 * 6 = 60 10 * 7 = 70 10 * 8 = 80 10 * 9 = 90 10 * 10 = 100 \n"
     ]
    }
   ],
   "source": [
    "a = [1,2,3,4,5,6,7,8,9,10]\n",
    "for i in a:\n",
    "    for j in a:\n",
    "        print(f\"{i} * {j} = {i*j}\",end=\" \")\n",
    "    print()    "
   ]
  },
  {
   "cell_type": "code",
   "execution_count": 21,
   "id": "140a2b10-7a5b-4458-9659-a21dfb34fc94",
   "metadata": {},
   "outputs": [
    {
     "name": "stdout",
     "output_type": "stream",
     "text": [
      "\n",
      "*\n",
      "**\n",
      "***\n",
      "****\n",
      "*****\n"
     ]
    }
   ],
   "source": [
    "for i in range(6):\n",
    "        print(i*\"*\")"
   ]
  },
  {
   "cell_type": "code",
   "execution_count": 48,
   "id": "fa9d1245-a14d-4eea-9195-cbcfeb1b9111",
   "metadata": {},
   "outputs": [
    {
     "name": "stdout",
     "output_type": "stream",
     "text": [
      "1 \n",
      "1 2 \n",
      "1 2 3 \n",
      "1 2 3 4 \n",
      "1 2 3 4 5 \n"
     ]
    }
   ],
   "source": [
    "for i in range(1,6):\n",
    "    for j in range(1,i+1):\n",
    "        print(j,end=\" \")\n",
    "    print()"
   ]
  },
  {
   "cell_type": "code",
   "execution_count": 76,
   "id": "045b57e8-859f-4eb9-b9f3-536b8079a4c9",
   "metadata": {},
   "outputs": [
    {
     "name": "stdout",
     "output_type": "stream",
     "text": [
      "    1 \n",
      "   1    2 \n",
      "  1   2   3 \n",
      " 1  2  3  4 \n",
      "1 2 3 4 5 \n"
     ]
    }
   ],
   "source": [
    "for i in range(1,6):\n",
    "    for j in range(1,i+1):\n",
    "        print(\" \" *(5-i) + str(j),end=\" \")\n",
    "    print()    "
   ]
  },
  {
   "cell_type": "markdown",
   "id": "4c3772d5-aa5d-48ce-a691-96f127f7c601",
   "metadata": {},
   "source": [
    "# pass\n",
    "- pass is used to pass the value when the given condition is true.\n",
    "- except the checking condition value other values prints in the order."
   ]
  },
  {
   "cell_type": "code",
   "execution_count": 62,
   "id": "ee4a05de-3c47-40a9-8072-fb1012d44011",
   "metadata": {},
   "outputs": [
    {
     "name": "stdout",
     "output_type": "stream",
     "text": [
      "1\n",
      "2\n",
      "4\n",
      "5\n"
     ]
    }
   ],
   "source": [
    "for i in range(1,6):\n",
    "    if i == 3:\n",
    "        pass\n",
    "    else:\n",
    "        print(i)\n",
    "        "
   ]
  },
  {
   "cell_type": "markdown",
   "id": "2ad8706e-7fe6-4a73-bb7a-20df42fdbbc9",
   "metadata": {},
   "source": [
    "# Break\n",
    "- Break will terminate the loop from execution if the condition is true,till then it prints the values."
   ]
  },
  {
   "cell_type": "code",
   "execution_count": 64,
   "id": "dfedfbed-81a3-407b-8c1c-342c4947edae",
   "metadata": {},
   "outputs": [
    {
     "name": "stdout",
     "output_type": "stream",
     "text": [
      "0\n",
      "1\n",
      "2\n"
     ]
    }
   ],
   "source": [
    "for i in range(6):\n",
    "    if i == 3:\n",
    "        break\n",
    "    else:\n",
    "        print(i)"
   ]
  },
  {
   "cell_type": "markdown",
   "id": "569c11d1-1502-41dd-9953-3e317ba8cf55",
   "metadata": {},
   "source": [
    "# continue\n",
    "- continue is same as pass but here no need to use else condition.\n",
    "- continue and break is used mostly in while loop."
   ]
  },
  {
   "cell_type": "code",
   "execution_count": 72,
   "id": "0ac35af0-615d-4cf7-b095-dac7e1678d08",
   "metadata": {},
   "outputs": [
    {
     "name": "stdout",
     "output_type": "stream",
     "text": [
      "0\n",
      "1\n",
      "2\n",
      "4\n",
      "5\n"
     ]
    }
   ],
   "source": [
    "for i in range(6):\n",
    "    if i == 3:\n",
    "        continue\n",
    "    print(i)"
   ]
  },
  {
   "cell_type": "markdown",
   "id": "43fb72c9-a51c-4bc9-be01-1a9f925b7b02",
   "metadata": {},
   "source": [
    "# While loop\n",
    "- while loop will execute set of instructions untill the condition is \"False\"."
   ]
  },
  {
   "cell_type": "code",
   "execution_count": 77,
   "id": "a7195d29-592e-41f4-84d2-fca2f03ba09a",
   "metadata": {},
   "outputs": [
    {
     "name": "stdout",
     "output_type": "stream",
     "text": [
      "1\n",
      "2\n",
      "3\n",
      "4\n",
      "5\n"
     ]
    }
   ],
   "source": [
    "i = 1\n",
    "while i <= 5:\n",
    "    print(i)\n",
    "    i += 1"
   ]
  },
  {
   "cell_type": "code",
   "execution_count": 78,
   "id": "1bc6390b-a943-4545-91fb-b5e018bc3a01",
   "metadata": {},
   "outputs": [
    {
     "name": "stdout",
     "output_type": "stream",
     "text": [
      "10\n",
      "9\n",
      "8\n",
      "7\n",
      "6\n",
      "5\n",
      "4\n",
      "3\n",
      "2\n",
      "1\n"
     ]
    }
   ],
   "source": [
    "i = 10\n",
    "while i>0:\n",
    "    print(i)\n",
    "    i -= 1"
   ]
  },
  {
   "cell_type": "code",
   "execution_count": 81,
   "id": "a88c9cf0-b4cf-4e0c-9816-ddce297f9506",
   "metadata": {},
   "outputs": [
    {
     "name": "stdout",
     "output_type": "stream",
     "text": [
      "sai\n",
      "sai\n",
      "sai\n",
      "sai\n",
      "sai\n",
      "loop ended\n"
     ]
    }
   ],
   "source": [
    "n = \"sai\"\n",
    "t = 5\n",
    "while t>0:\n",
    "    print(n)\n",
    "    t -=1\n",
    "else:\n",
    "    print(\"loop ended\")"
   ]
  },
  {
   "cell_type": "code",
   "execution_count": 88,
   "id": "a161fb36-2a7d-4c11-8357-9b86f43d4528",
   "metadata": {},
   "outputs": [
    {
     "name": "stdout",
     "output_type": "stream",
     "text": [
      "6 even\n",
      "5 odd\n",
      "4 even\n",
      "3 odd\n",
      "2 even\n",
      "1 odd\n"
     ]
    }
   ],
   "source": [
    "n = 6\n",
    "while n>0:\n",
    "    if n%2 == 0:\n",
    "        print(f\"{n} even\")\n",
    "    else:\n",
    "        print(f\"{n} odd\")\n",
    "    n -= 1    "
   ]
  },
  {
   "cell_type": "code",
   "execution_count": 93,
   "id": "453dc1d6-acfb-4d71-b1ed-d4a74d8aae24",
   "metadata": {},
   "outputs": [
    {
     "name": "stdout",
     "output_type": "stream",
     "text": [
      "*****\n",
      "****\n",
      "***\n",
      "**\n",
      "*\n"
     ]
    }
   ],
   "source": [
    "n = 5\n",
    "while n > 0:\n",
    "    print(\"*\" * n)\n",
    "    n -= 1"
   ]
  },
  {
   "cell_type": "code",
   "execution_count": null,
   "id": "554f0c69-394a-4608-9616-3c6851f55eb2",
   "metadata": {},
   "outputs": [],
   "source": []
  }
 ],
 "metadata": {
  "kernelspec": {
   "display_name": "Python [conda env:base] *",
   "language": "python",
   "name": "conda-base-py"
  },
  "language_info": {
   "codemirror_mode": {
    "name": "ipython",
    "version": 3
   },
   "file_extension": ".py",
   "mimetype": "text/x-python",
   "name": "python",
   "nbconvert_exporter": "python",
   "pygments_lexer": "ipython3",
   "version": "3.12.7"
  }
 },
 "nbformat": 4,
 "nbformat_minor": 5
}
