{
 "cells": [
  {
   "cell_type": "markdown",
   "id": "0dfe3644-e2ad-448e-85fc-6f6dc810361e",
   "metadata": {},
   "source": [
    "# Nested while loop:\n",
    "- nested while loop is same as nested for untill the condition is true the loops executes.\n",
    "- here first outer while loop executes followed by inner while loop."
   ]
  },
  {
   "cell_type": "code",
   "execution_count": 5,
   "id": "2c5e7db6-dcac-4368-bff8-746d58f8a46c",
   "metadata": {},
   "outputs": [
    {
     "name": "stdout",
     "output_type": "stream",
     "text": [
      "1 5\n",
      "2 6\n",
      "3 7\n",
      "4 8\n",
      "5 9\n",
      "6 10\n"
     ]
    }
   ],
   "source": [
    "a = 1\n",
    "b = 5\n",
    "while a <= 1:\n",
    "    while b <= 10:\n",
    "        print(a,b)\n",
    "        a += 1\n",
    "        b += 1\n",
    "        "
   ]
  },
  {
   "cell_type": "code",
   "execution_count": 3,
   "id": "93a5b571-cb95-4e31-a22b-49bca664daba",
   "metadata": {},
   "outputs": [
    {
     "name": "stdout",
     "output_type": "stream",
     "text": [
      "5 10\n",
      "4 9\n",
      "3 8\n",
      "2 7\n",
      "1 6\n"
     ]
    }
   ],
   "source": [
    "a = 5\n",
    "b = 10\n",
    "while a > 0:\n",
    "    while b > 5:\n",
    "        print(a,b)\n",
    "        a -= 1\n",
    "        b -= 1"
   ]
  },
  {
   "cell_type": "code",
   "execution_count": 6,
   "id": "20a35ea0-5837-41bd-b591-6eed99997c80",
   "metadata": {},
   "outputs": [],
   "source": [
    "# using nested while loop print right angle triangle with numbers"
   ]
  },
  {
   "cell_type": "code",
   "execution_count": 9,
   "id": "82283e12-e1a1-40b2-a5bf-6d96776bcf1f",
   "metadata": {},
   "outputs": [],
   "source": [
    "i = 1\n",
    "j = 5\n"
   ]
  },
  {
   "cell_type": "code",
   "execution_count": 14,
   "id": "0c204475-d318-4151-a242-4f1b4a300f33",
   "metadata": {},
   "outputs": [
    {
     "name": "stdout",
     "output_type": "stream",
     "text": [
      "1\n",
      "2\n",
      "3\n",
      "4\n"
     ]
    }
   ],
   "source": [
    "# pass\n",
    "i = 1\n",
    "while i < 5:\n",
    "    print(i)\n",
    "    if i ==3:\n",
    "        pass\n",
    "    i += 1"
   ]
  },
  {
   "cell_type": "code",
   "execution_count": 15,
   "id": "1aad0eac-a454-44e3-81ad-6c6e6bebbd71",
   "metadata": {},
   "outputs": [
    {
     "name": "stdout",
     "output_type": "stream",
     "text": [
      "1\n",
      "2\n",
      "3\n"
     ]
    }
   ],
   "source": [
    "# break\n",
    "i = 1\n",
    "while i < 5:\n",
    "    print(i)\n",
    "    if i == 3:\n",
    "        break\n",
    "    i += 1    "
   ]
  },
  {
   "cell_type": "code",
   "execution_count": 19,
   "id": "9ed5c951-21af-4a02-9df6-db97cb99bcf0",
   "metadata": {},
   "outputs": [
    {
     "name": "stdout",
     "output_type": "stream",
     "text": [
      "1\n",
      "2\n",
      "4\n",
      "5\n"
     ]
    }
   ],
   "source": [
    "# continue\n",
    "i = 0\n",
    "while i < 5:\n",
    "    i += 1\n",
    "    if i == 3:\n",
    "        continue\n",
    "    print(i)    "
   ]
  },
  {
   "cell_type": "markdown",
   "id": "0b2aaeff-90cc-46ee-be9e-557b55cf8d41",
   "metadata": {},
   "source": [
    "# list comprehensions\n",
    "- list comprehensions is decreasing the size of the list operations in a concise and readable way.\n",
    "- this list comprehensions helps us to bulid the logic in a single line.\n",
    "- syntax:      [expression for item in iterables]."
   ]
  },
  {
   "cell_type": "code",
   "execution_count": 21,
   "id": "98c05745-e94a-4966-8cec-d32f7b137a71",
   "metadata": {},
   "outputs": [
    {
     "data": {
      "text/plain": [
       "[2, 4, 6, 8, 10]"
      ]
     },
     "execution_count": 21,
     "metadata": {},
     "output_type": "execute_result"
    }
   ],
   "source": [
    "a = [1,2,3,4,5]\n",
    "[i * 2 for i in a]               # here no need to print the statement but include it in list is mandatory."
   ]
  },
  {
   "cell_type": "code",
   "execution_count": 22,
   "id": "c95cb433-b5c4-4471-bb16-1fff71e41271",
   "metadata": {},
   "outputs": [
    {
     "data": {
      "text/plain": [
       "[0, 2, 6, 12, 20]"
      ]
     },
     "execution_count": 22,
     "metadata": {},
     "output_type": "execute_result"
    }
   ],
   "source": [
    "fact = [1,2,3,4,5]\n",
    "[i * (i-1) for i in fact]"
   ]
  },
  {
   "cell_type": "code",
   "execution_count": 40,
   "id": "89035e80-d75f-4f41-8a00-cdc0fbf5cd0e",
   "metadata": {},
   "outputs": [
    {
     "data": {
      "text/plain": [
       "[2, 4, 6, 8, 10]"
      ]
     },
     "execution_count": 40,
     "metadata": {},
     "output_type": "execute_result"
    }
   ],
   "source": [
    "a = [1,2,3,4,5,6,7,8,9,10]\n",
    "[i for i in a if i%2 == 0]"
   ]
  },
  {
   "cell_type": "code",
   "execution_count": 51,
   "id": "8dec62bb-c569-4e35-96a9-0f0daddc2b16",
   "metadata": {},
   "outputs": [
    {
     "name": "stdout",
     "output_type": "stream",
     "text": [
      "['s', 'p', 'v', 'n']\n"
     ]
    }
   ],
   "source": [
    "a = [\"sai\",\"pranay\",\"vishwanth\",\"nitish\"]\n",
    "b = []\n",
    "for i in a:\n",
    "    b.append(i[0])\n",
    "print(b)"
   ]
  },
  {
   "cell_type": "code",
   "execution_count": 48,
   "id": "1400450b-7efd-497a-adb2-d01b2404f730",
   "metadata": {},
   "outputs": [
    {
     "data": {
      "text/plain": [
       "['s', 'p', 'v', 'n']"
      ]
     },
     "execution_count": 48,
     "metadata": {},
     "output_type": "execute_result"
    }
   ],
   "source": [
    "a = [\"sai\",\"pranay\",\"vishwanth\",\"nitish\"]\n",
    "[i[0] for i in a]"
   ]
  },
  {
   "cell_type": "code",
   "execution_count": 55,
   "id": "343c756f-070a-4481-8fa4-2480cc03b7a5",
   "metadata": {},
   "outputs": [
    {
     "name": "stdout",
     "output_type": "stream",
     "text": [
      "odd 1\n",
      "even 2\n",
      "odd 3\n",
      "even 4\n",
      "odd 5\n",
      "even 6\n",
      "odd 7\n",
      "even 8\n",
      "odd 9\n",
      "even 10\n"
     ]
    }
   ],
   "source": [
    "a = []\n",
    "for i in range(1,11):\n",
    "    if i%2 ==0:\n",
    "        print(f\"even {i}\")\n",
    "    else:\n",
    "        print(f\"odd {i}\")"
   ]
  },
  {
   "cell_type": "code",
   "execution_count": 54,
   "id": "47177507-901e-46b6-9f0e-b6bf45ee147f",
   "metadata": {},
   "outputs": [
    {
     "data": {
      "text/plain": [
       "[2, 4, 6, 8, 10]"
      ]
     },
     "execution_count": 54,
     "metadata": {},
     "output_type": "execute_result"
    }
   ],
   "source": [
    "# wap to filter out events and odds seperately in new list using list comprehension\n",
    "a = []\n",
    "[i for i in range(1,11) if i%2 == 0]"
   ]
  },
  {
   "cell_type": "code",
   "execution_count": 57,
   "id": "399c0053-968b-4e7b-826e-f45304ca77f4",
   "metadata": {},
   "outputs": [
    {
     "name": "stdout",
     "output_type": "stream",
     "text": [
      "{0: 0, 1: 2, 2: 4, 3: 6, 4: 8}\n"
     ]
    }
   ],
   "source": [
    "# dictionary comprehension\n",
    "d = {}\n",
    "for i in range(5):\n",
    "    d[i] = i*2\n",
    "print(d)"
   ]
  },
  {
   "cell_type": "code",
   "execution_count": 71,
   "id": "c475380c-6071-4db6-ab6e-529848720bfe",
   "metadata": {},
   "outputs": [
    {
     "data": {
      "text/plain": [
       "{0: 0, 1: 2, 2: 4, 3: 6, 4: 8, 5: 10}"
      ]
     },
     "execution_count": 71,
     "metadata": {},
     "output_type": "execute_result"
    }
   ],
   "source": [
    "{i:i*2 for i in range(6)}"
   ]
  },
  {
   "cell_type": "code",
   "execution_count": 80,
   "id": "f4f7f778-93da-471e-ac50-023df17abd3b",
   "metadata": {},
   "outputs": [
    {
     "data": {
      "text/plain": [
       "{'pranay': 6, 'vishwanth': 9, 'nitish': 6}"
      ]
     },
     "execution_count": 80,
     "metadata": {},
     "output_type": "execute_result"
    }
   ],
   "source": [
    "a = [\"sai\",\"pranay\",\"vishwanth\",\"nitish\"]\n",
    "{i:len(i) for i in a if len(i)>4}"
   ]
  },
  {
   "cell_type": "code",
   "execution_count": 84,
   "id": "36497ec3-829f-4d08-8644-d243dff2b96a",
   "metadata": {},
   "outputs": [
    {
     "data": {
      "text/plain": [
       "{'pranay': 6, 'vishwanth': 9, 'nitish': 6}"
      ]
     },
     "execution_count": 84,
     "metadata": {},
     "output_type": "execute_result"
    }
   ],
   "source": [
    "{i:len(i) for i in [\"sai\",\"pranay\",\"vishwanth\",\"nitish\"] if len(i)>4}"
   ]
  },
  {
   "cell_type": "markdown",
   "id": "5241f993-d747-4638-b55e-865d73475ea1",
   "metadata": {},
   "source": [
    "# Functions\n",
    "- functions is a organised block of code to do specific task.\n",
    "- with a keyword \"def\" we initialize the function followed by function name(any name except keywords) followed by ():\n",
    "- to the paranthesis pass your parameters.\n",
    "- n number of parameters we can pass.\n",
    "- call the function with function name by passing your arguments.\n",
    "- NOTE: parameters and arguments are similar not exactly same."
   ]
  },
  {
   "cell_type": "code",
   "execution_count": 87,
   "id": "61594c95-a288-4ba2-8da5-afb540e24fb3",
   "metadata": {},
   "outputs": [
    {
     "data": {
      "text/plain": [
       "5"
      ]
     },
     "execution_count": 87,
     "metadata": {},
     "output_type": "execute_result"
    }
   ],
   "source": [
    "def add(a,b):\n",
    "    return a+b\n",
    "add(2,3)"
   ]
  },
  {
   "cell_type": "code",
   "execution_count": 2,
   "id": "03274561-7c1c-43c5-9a8a-c1d1f5a2294a",
   "metadata": {},
   "outputs": [
    {
     "data": {
      "text/plain": [
       "78.5"
      ]
     },
     "execution_count": 2,
     "metadata": {},
     "output_type": "execute_result"
    }
   ],
   "source": [
    "# find the area of circle using functions.\n",
    "def area(r):\n",
    "    return 3.14 * (r*r)\n",
    "area(5)"
   ]
  },
  {
   "cell_type": "code",
   "execution_count": 91,
   "id": "f0e940fa-a7c8-4827-ac7e-d7e8eaafe075",
   "metadata": {},
   "outputs": [
    {
     "name": "stdout",
     "output_type": "stream",
     "text": [
      "odd\n"
     ]
    }
   ],
   "source": [
    "# find even and odd using functions.\n",
    "def even_odd(n):\n",
    "    if n%2 == 0:\n",
    "        print(\"even\")\n",
    "    else:\n",
    "        print(\"odd\")\n",
    "even_odd(5)"
   ]
  },
  {
   "cell_type": "code",
   "execution_count": null,
   "id": "1f19a8be-aa3b-4674-9f74-3b8ca989b7ad",
   "metadata": {},
   "outputs": [],
   "source": []
  }
 ],
 "metadata": {
  "kernelspec": {
   "display_name": "Python [conda env:base] *",
   "language": "python",
   "name": "conda-base-py"
  },
  "language_info": {
   "codemirror_mode": {
    "name": "ipython",
    "version": 3
   },
   "file_extension": ".py",
   "mimetype": "text/x-python",
   "name": "python",
   "nbconvert_exporter": "python",
   "pygments_lexer": "ipython3",
   "version": "3.12.7"
  }
 },
 "nbformat": 4,
 "nbformat_minor": 5
}
