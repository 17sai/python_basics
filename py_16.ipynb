{
 "cells": [
  {
   "cell_type": "code",
   "execution_count": 6,
   "id": "ef1a35b0-569c-437b-b8d6-468e79a82ef7",
   "metadata": {},
   "outputs": [
    {
     "name": "stdout",
     "output_type": "stream",
     "text": [
      "1\n",
      "2\n",
      "3\n",
      "4\n"
     ]
    }
   ],
   "source": [
    "l = [1,2,3,4]\n",
    "def myfun():\n",
    "    b = []\n",
    "    for i  in l:\n",
    "        print(i)\n",
    "myfun()"
   ]
  },
  {
   "cell_type": "markdown",
   "id": "292d4d10-6d6b-4cd0-9ad7-03b535d015b9",
   "metadata": {},
   "source": [
    "# Types of functions:\n",
    "- there are 3 types of functions in python.they are:\n",
    "### 1.Built-in functions 2.User defined functions 3. Anonymous functions"
   ]
  },
  {
   "cell_type": "markdown",
   "id": "02ad0ac6-bdd6-470b-b2f8-7bdbf4416b75",
   "metadata": {},
   "source": [
    "# Difference btw print and return\n",
    "- print statement directly assigns value to the variable inside the print(variable).It doesnt assign it to other variable.\n",
    "- where as return statement assigns the result value to the user defined variable untill user defines it."
   ]
  },
  {
   "cell_type": "code",
   "execution_count": 14,
   "id": "cb84262b-2519-40a5-9ce8-93e2660af31f",
   "metadata": {},
   "outputs": [
    {
     "name": "stdout",
     "output_type": "stream",
     "text": [
      "5\n",
      "11\n",
      "None\n"
     ]
    }
   ],
   "source": [
    "# print statement\n",
    "def myfun(a,b):\n",
    "    c = a+b\n",
    "    print(c)                  # here a+b value is stored in c variable it doesnt assign the value to other variable\n",
    "myfun(2,3)\n",
    "x = myfun(5,6)\n",
    "print(x)                    # heres the sample output where value is stored in only \"c\" variable"
   ]
  },
  {
   "cell_type": "code",
   "execution_count": 13,
   "id": "5f97896a-14fe-4ff6-af7a-3735a9e7a76e",
   "metadata": {},
   "outputs": [
    {
     "name": "stdout",
     "output_type": "stream",
     "text": [
      "11\n"
     ]
    }
   ],
   "source": [
    "# return statement\n",
    "def myfun(a,b):\n",
    "    return a+b                  \n",
    "myfun(2,3)              # here untill the value is assigned to other variable it wont prints the value\n",
    "x = myfun(5,6)\n",
    "print(x)               # here it stores the value in the variale x."
   ]
  },
  {
   "cell_type": "code",
   "execution_count": 26,
   "id": "f766bc46-18f1-4062-956f-a20a1c2a4879",
   "metadata": {},
   "outputs": [
    {
     "name": "stdin",
     "output_type": "stream",
     "text": [
      " 60\n",
      " 89\n",
      " 12\n"
     ]
    },
    {
     "name": "stdout",
     "output_type": "stream",
     "text": [
      "pass\n"
     ]
    }
   ],
   "source": [
    "# pass or fail \n",
    "def myfun():\n",
    "    m1 = int(input())\n",
    "    m2 = int(input())\n",
    "    m3 = int(input())\n",
    "    total_marks = m1+m2+m3\n",
    "    per = ((total_marks/300) * 100)\n",
    "    if per >= 50:\n",
    "        print(\"pass\")\n",
    "    else:\n",
    "        print(\"fail\")\n",
    "myfun()"
   ]
  },
  {
   "cell_type": "markdown",
   "id": "688f8308-c5c0-4228-ac7c-13f4f809a63a",
   "metadata": {},
   "source": [
    "# Types of arguments:\n",
    "- there are 2 types of arguments 1.fixed length arguments and 2.variable lenght arguments."
   ]
  },
  {
   "cell_type": "markdown",
   "id": "553debfe-a175-4df9-99c1-efc398bdc207",
   "metadata": {},
   "source": [
    "# 1.fixed lenght arguments:\n",
    "- fixed length arguments has a limit to give the arguments.\n",
    "- this is divided into 3 different types:\n",
    "- i.Required length argument ii.Default argument and iii.keyword argument"
   ]
  },
  {
   "cell_type": "markdown",
   "id": "afc6f83f-8e14-4c0e-9080-b49f8b4201d9",
   "metadata": {},
   "source": [
    "## i.Required length arguments\n",
    "- required length arguments are nothing but the parameters defined while initializing a function is called rla.\n",
    "- in the () number of paraments given is called required length arguments."
   ]
  },
  {
   "cell_type": "code",
   "execution_count": 27,
   "id": "9e21c191-0cd1-4dee-939f-4bf8267ba788",
   "metadata": {},
   "outputs": [
    {
     "data": {
      "text/plain": [
       "5"
      ]
     },
     "execution_count": 27,
     "metadata": {},
     "output_type": "execute_result"
    }
   ],
   "source": [
    "# addition of 2 numbers\n",
    "def myfun(a,b):\n",
    "    return a+b\n",
    "myfun(2,3)"
   ]
  },
  {
   "cell_type": "markdown",
   "id": "e0cf62a4-afed-4bb6-8360-32d4717cad17",
   "metadata": {},
   "source": [
    "## ii.Default arguments\n",
    "- default arguments are nothing but the values are predefined at global scope is called default arguments.\n",
    "- here if the values are not given during the calling values are taken from default values."
   ]
  },
  {
   "cell_type": "code",
   "execution_count": 32,
   "id": "dac09a04-92ec-4dd6-9ebf-b60694270797",
   "metadata": {},
   "outputs": [
    {
     "data": {
      "text/plain": [
       "12"
      ]
     },
     "execution_count": 32,
     "metadata": {},
     "output_type": "execute_result"
    }
   ],
   "source": [
    "def myfun(a=3,b=5):         # Here a and b values are given at start called default values\n",
    "    return a+b\n",
    "myfun(a,9)"
   ]
  },
  {
   "cell_type": "code",
   "execution_count": 35,
   "id": "e97802f1-d4c1-404f-8904-74f56a05d0f2",
   "metadata": {},
   "outputs": [
    {
     "name": "stdout",
     "output_type": "stream",
     "text": [
      "Hello python how are you\n"
     ]
    }
   ],
   "source": [
    "def greet(name = \"sai\"):\n",
    "    print(f\"Hello {name} how are you\")\n",
    "greet(\"python\")"
   ]
  },
  {
   "cell_type": "markdown",
   "id": "8a496072-05bb-41b8-8577-f10ada3de7a0",
   "metadata": {},
   "source": [
    "## iii.Keyword argument\n",
    "- keyword argument is nothing but passing keyword while calling the function irrecpective of the order.\n",
    "- according to the keywords present the values are assigned to the keywords not in order\n"
   ]
  },
  {
   "cell_type": "code",
   "execution_count": 37,
   "id": "a2c60b7f-c881-48d1-ac95-a95064b13765",
   "metadata": {},
   "outputs": [
    {
     "data": {
      "text/plain": [
       "20"
      ]
     },
     "execution_count": 37,
     "metadata": {},
     "output_type": "execute_result"
    }
   ],
   "source": [
    "def sub(a=2,b=1):\n",
    "    return a-b\n",
    "sub(b=21,a=41)"
   ]
  },
  {
   "cell_type": "code",
   "execution_count": 43,
   "id": "57dc555b-0ed7-4314-b04c-beb88fd8985f",
   "metadata": {},
   "outputs": [
    {
     "name": "stdout",
     "output_type": "stream",
     "text": [
      "hello python ur age is 34 and you are from jntu\n"
     ]
    }
   ],
   "source": [
    "def greet(name=\"sai\",age=22,place=\"hyd\"):\n",
    "    print(f\"hello {name} ur age is {age} and you are from {place}\")\n",
    "greet(place = \"jntu\",age = 34,name = \"python\")"
   ]
  },
  {
   "cell_type": "markdown",
   "id": "14b7971a-7886-459d-998a-71c2385338db",
   "metadata": {},
   "source": [
    "# variable length argument\n",
    "- variable length argument is nothing but we can give n number of arguments by passing single parameter.\n",
    "- to use this variable length argument we should use \"*\" so it wont show error and takes the arguments."
   ]
  },
  {
   "cell_type": "code",
   "execution_count": 52,
   "id": "fc2cbcd0-cea6-41b7-aa86-22634df18289",
   "metadata": {},
   "outputs": [
    {
     "name": "stdout",
     "output_type": "stream",
     "text": [
      "(1, 2, 3, 4, 5, 6, 7)\n",
      "(1,)\n"
     ]
    },
    {
     "data": {
      "text/plain": [
       "NoneType"
      ]
     },
     "execution_count": 52,
     "metadata": {},
     "output_type": "execute_result"
    }
   ],
   "source": [
    "def myfun(*a):                 # n number of arguments can be given \n",
    "    print(a)\n",
    "myfun(1,2,3,4,5,6,7)\n",
    "type(myfun(1))"
   ]
  },
  {
   "cell_type": "code",
   "execution_count": 56,
   "id": "a770ef70-0530-4958-ae55-4b16cb21746d",
   "metadata": {},
   "outputs": [
    {
     "name": "stdout",
     "output_type": "stream",
     "text": [
      "1 (2, 3, 4, 5, 6)\n"
     ]
    }
   ],
   "source": [
    "def myfun(a,*b):        # here a takes only one value but b takes all other arguments into it\n",
    "    print(a,b)\n",
    "myfun(1,2,3,4,5,6)     "
   ]
  },
  {
   "cell_type": "code",
   "execution_count": 1,
   "id": "867ec36d-6e75-4859-b0dd-3aa27bd83250",
   "metadata": {},
   "outputs": [
    {
     "ename": "TypeError",
     "evalue": "myfun() missing 1 required keyword-only argument: 'b'",
     "output_type": "error",
     "traceback": [
      "\u001b[0;31m---------------------------------------------------------------------------\u001b[0m",
      "\u001b[0;31mTypeError\u001b[0m                                 Traceback (most recent call last)",
      "Cell \u001b[0;32mIn[1], line 3\u001b[0m\n\u001b[1;32m      1\u001b[0m \u001b[38;5;28;01mdef\u001b[39;00m \u001b[38;5;21mmyfun\u001b[39m(\u001b[38;5;241m*\u001b[39ma,b):           \u001b[38;5;66;03m# here a takes all the arguments so there is nothing left to b it gives error\u001b[39;00m\n\u001b[1;32m      2\u001b[0m     \u001b[38;5;28mprint\u001b[39m(a,b)\n\u001b[0;32m----> 3\u001b[0m myfun(\u001b[38;5;241m1\u001b[39m,\u001b[38;5;241m2\u001b[39m,\u001b[38;5;241m3\u001b[39m,\u001b[38;5;241m4\u001b[39m,\u001b[38;5;241m5\u001b[39m,\u001b[38;5;241m6\u001b[39m)\n",
      "\u001b[0;31mTypeError\u001b[0m: myfun() missing 1 required keyword-only argument: 'b'"
     ]
    }
   ],
   "source": [
    "def myfun(*a,b):           # here a takes all the arguments so there is nothing left to b it gives error\n",
    "    print(a,b)\n",
    "myfun(1,2,3,4,5,6)"
   ]
  },
  {
   "cell_type": "markdown",
   "id": "d849a6e4-3b11-48e5-922f-640747feb73f",
   "metadata": {},
   "source": [
    "# Anonymous functions\n",
    "- anonymous functions are the functions which has no name.\n",
    "- there is a name called lambda function called as anonymous function.\n",
    "- here the whole operations can be done in a single line.\n",
    "- syntax:  variable_name = lambda parameters:expressions\n",
    "- NOTE: lambda fuctions only take single expression."
   ]
  },
  {
   "cell_type": "code",
   "execution_count": 60,
   "id": "c43883a9-5c36-4aa4-9361-1594498abfc4",
   "metadata": {},
   "outputs": [
    {
     "data": {
      "text/plain": [
       "5"
      ]
     },
     "execution_count": 60,
     "metadata": {},
     "output_type": "execute_result"
    }
   ],
   "source": [
    "add = lambda a,b:a+b\n",
    "add(2,3)"
   ]
  },
  {
   "cell_type": "code",
   "execution_count": 2,
   "id": "86bd25b2-18f5-4789-9d72-1f9772539204",
   "metadata": {},
   "outputs": [
    {
     "data": {
      "text/plain": [
       "20"
      ]
     },
     "execution_count": 2,
     "metadata": {},
     "output_type": "execute_result"
    }
   ],
   "source": [
    "fact = lambda n:n*(n-1)\n",
    "fact(5)"
   ]
  },
  {
   "cell_type": "markdown",
   "id": "16fdc9ca-2d75-4b22-ab39-cc4f2d37fc7b",
   "metadata": {},
   "source": [
    "- this anonymous functions are divided into 3 types\n",
    "- 1.map 2.reduce and 3.filter"
   ]
  },
  {
   "cell_type": "markdown",
   "id": "ab3be520-71dd-4fa5-ba30-eef750184610",
   "metadata": {},
   "source": [
    "# map function:\n",
    "- map function maps every value in a list or tuple and returns the value to the list or tuple.\n",
    "- syntax:  variable = list(map(lambda parameter:expression,list_name))"
   ]
  },
  {
   "cell_type": "code",
   "execution_count": 66,
   "id": "837c7642-e156-4104-9752-1cc27b859bea",
   "metadata": {},
   "outputs": [
    {
     "data": {
      "text/plain": [
       "[2, 4, 6, 8, 10, 12, 14, 16, 18]"
      ]
     },
     "execution_count": 66,
     "metadata": {},
     "output_type": "execute_result"
    }
   ],
   "source": [
    "a = [1,2,3,4,5,6,7,8,9]\n",
    "r = list(map(lambda i:i*2,a))\n",
    "r"
   ]
  },
  {
   "cell_type": "code",
   "execution_count": 67,
   "id": "a350dd3f-0d24-43a8-a028-224711387ca9",
   "metadata": {},
   "outputs": [
    {
     "data": {
      "text/plain": [
       "['sai', 'santhosh', 'maddibooyena', 'python']"
      ]
     },
     "execution_count": 67,
     "metadata": {},
     "output_type": "execute_result"
    }
   ],
   "source": [
    "a = [\"SAI\",\"SANTHOSH\",\"MADDIBOOYENA\",\"PYTHON\"]\n",
    "b = list(map(lambda i:i.lower(),a))\n",
    "b"
   ]
  }
 ],
 "metadata": {
  "kernelspec": {
   "display_name": "Python [conda env:base] *",
   "language": "python",
   "name": "conda-base-py"
  },
  "language_info": {
   "codemirror_mode": {
    "name": "ipython",
    "version": 3
   },
   "file_extension": ".py",
   "mimetype": "text/x-python",
   "name": "python",
   "nbconvert_exporter": "python",
   "pygments_lexer": "ipython3",
   "version": "3.12.7"
  }
 },
 "nbformat": 4,
 "nbformat_minor": 5
}
