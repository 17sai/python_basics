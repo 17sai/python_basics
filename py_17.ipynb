{
 "cells": [
  {
   "cell_type": "markdown",
   "id": "e1bb8044-5207-4a7b-ab66-6f0da70d6523",
   "metadata": {},
   "source": [
    "# filter function:\n",
    "- filter function is used to filter out the array with given condition.\n",
    "- generally this filter function returns new array or list of elements."
   ]
  },
  {
   "cell_type": "code",
   "execution_count": 2,
   "id": "117201ff-86f6-4ccc-a510-79eeb3f83531",
   "metadata": {},
   "outputs": [
    {
     "data": {
      "text/plain": [
       "[2, 4, 6, 8]"
      ]
     },
     "execution_count": 2,
     "metadata": {},
     "output_type": "execute_result"
    }
   ],
   "source": [
    "a = [1,2,3,4,5,6,7,8]\n",
    "b = list(filter(lambda x:x%2 == 0,a))\n",
    "b"
   ]
  },
  {
   "cell_type": "code",
   "execution_count": 3,
   "id": "857b5df8-e256-4878-9fbb-92cb5a7b1b52",
   "metadata": {},
   "outputs": [
    {
     "data": {
      "text/plain": [
       "['santhosh', 'prnay', 'nitish']"
      ]
     },
     "execution_count": 3,
     "metadata": {},
     "output_type": "execute_result"
    }
   ],
   "source": [
    "a = [\"sai\",\"santhosh\",\"prnay\",\"nitish\"]\n",
    "b = list(filter(lambda i:len(i)>4,a))\n",
    "b"
   ]
  },
  {
   "cell_type": "markdown",
   "id": "8cd21d6f-2e4f-4527-a8b4-55b910778248",
   "metadata": {},
   "source": [
    "# reduce function:\n",
    "- as name reduce function tells us that it reduces the list into single value.\n",
    "- to use this reduce function we need to import \"functools\" module to use reduce function.\n",
    "- and from that we need to import reduce function from functools."
   ]
  },
  {
   "cell_type": "code",
   "execution_count": 11,
   "id": "140d335d-a5f2-4cf0-9e4c-0b92c7c660a3",
   "metadata": {},
   "outputs": [
    {
     "data": {
      "text/plain": [
       "21"
      ]
     },
     "execution_count": 11,
     "metadata": {},
     "output_type": "execute_result"
    }
   ],
   "source": [
    "import functools\n",
    "from functools import reduce\n",
    "a = [1,2,3,4,5,6]\n",
    "b = reduce(lambda x,y:x+y,a)\n",
    "b"
   ]
  },
  {
   "cell_type": "markdown",
   "id": "0027fb70-56ec-4e49-b3b3-c03fddd47fad",
   "metadata": {},
   "source": [
    "# The Scope of Variables\n",
    "- scope of variables is nothing but the declaration of the variable.\n",
    "- there are two types 1.Local variable and 2.Global variable\n"
   ]
  },
  {
   "cell_type": "markdown",
   "id": "8d50857e-154d-4c3a-80d2-8d88bcd7db74",
   "metadata": {},
   "source": [
    "# 1.Local variable:\n",
    "- Local variable is nothing but which is declared in side of a function,which can be accessed by only declared function.\n",
    "- we cannot use this variable anywhere anytime except that function only."
   ]
  },
  {
   "cell_type": "markdown",
   "id": "f59086c9-a655-42ac-aa96-a4ea71970b03",
   "metadata": {},
   "source": [
    "# 2.Global variable:\n",
    "- global variable is nothing but which is declared out side of all the functions,which can be accessed by every function.\n",
    "- we can use this variable anywhere anytime."
   ]
  },
  {
   "cell_type": "code",
   "execution_count": 19,
   "id": "2f17001f-9a97-4ec6-a835-81178d0abcd1",
   "metadata": {},
   "outputs": [
    {
     "name": "stdout",
     "output_type": "stream",
     "text": [
      "5\n",
      "10\n"
     ]
    }
   ],
   "source": [
    "x = 5\n",
    "def myfun():\n",
    "    y = 10\n",
    "    print(x)                # Global Variable\n",
    "    print(y)               # Local variable\n",
    "myfun()"
   ]
  },
  {
   "cell_type": "code",
   "execution_count": 18,
   "id": "94517157-cbdb-4447-ac16-d87e2eb6c7c4",
   "metadata": {},
   "outputs": [
    {
     "name": "stdout",
     "output_type": "stream",
     "text": [
      "5\n",
      "10\n",
      "5\n"
     ]
    },
    {
     "ename": "NameError",
     "evalue": "name 'y' is not defined",
     "output_type": "error",
     "traceback": [
      "\u001b[0;31m---------------------------------------------------------------------------\u001b[0m",
      "\u001b[0;31mNameError\u001b[0m                                 Traceback (most recent call last)",
      "Cell \u001b[0;32mIn[18], line 8\u001b[0m\n\u001b[1;32m      6\u001b[0m myfun()\n\u001b[1;32m      7\u001b[0m \u001b[38;5;28mprint\u001b[39m(x)\n\u001b[0;32m----> 8\u001b[0m \u001b[38;5;28mprint\u001b[39m(y)\n",
      "\u001b[0;31mNameError\u001b[0m: name 'y' is not defined"
     ]
    }
   ],
   "source": [
    "x = 5\n",
    "def myfun():\n",
    "    y = 10\n",
    "    print(x)\n",
    "    print(y) \n",
    "myfun()\n",
    "print(x)\n",
    "print(y)            # Here it gives error because y is local variable which is declared inside a function"
   ]
  },
  {
   "cell_type": "code",
   "execution_count": 1,
   "id": "3169835b-20fa-45a2-8499-9bde0455d66d",
   "metadata": {},
   "outputs": [
    {
     "name": "stdout",
     "output_type": "stream",
     "text": [
      "5\n",
      "10\n",
      "5\n",
      "10\n"
     ]
    }
   ],
   "source": [
    "x = 5\n",
    "def myfun():\n",
    "    global y         # Here we declalared y as global variable so now y is a global variable.\n",
    "    y = 10\n",
    "    print(x)\n",
    "    print(y) \n",
    "myfun()\n",
    "print(x)\n",
    "print(y)            "
   ]
  },
  {
   "cell_type": "markdown",
   "id": "c8093488-aeba-40cf-bacc-19275bbbed89",
   "metadata": {},
   "source": [
    "# Recursive Function:\n",
    "- recursive function is nothing but a funcion which calls itself is called as recursive function.\n",
    "- if only a function which is called itself inside is called recursive call."
   ]
  },
  {
   "cell_type": "code",
   "execution_count": 38,
   "id": "e3ee9531-4d39-409f-97b3-4cea4ed00ed0",
   "metadata": {},
   "outputs": [
    {
     "data": {
      "text/plain": [
       "40320"
      ]
     },
     "execution_count": 38,
     "metadata": {},
     "output_type": "execute_result"
    }
   ],
   "source": [
    "def fact(n):\n",
    "    if n == 0 or n == 1:\n",
    "        return 1\n",
    "    else:\n",
    "        return n * fact(n-1)           # Here we called the fact function inside itself.\n",
    "fact(8)"
   ]
  },
  {
   "cell_type": "code",
   "execution_count": 41,
   "id": "16036c4a-2d4f-4109-9e43-aa4236c5b83a",
   "metadata": {},
   "outputs": [
    {
     "name": "stdin",
     "output_type": "stream",
     "text": [
      " 10\n",
      " 11\n",
      " 12\n",
      " 23\n",
      " 20\n"
     ]
    },
    {
     "data": {
      "text/plain": [
       "True"
      ]
     },
     "execution_count": 41,
     "metadata": {},
     "output_type": "execute_result"
    }
   ],
   "source": [
    "def myfunc():\n",
    "    num = 20\n",
    "    n = int(input())\n",
    "    if n == num:\n",
    "        return True\n",
    "    else:\n",
    "        return myfunc()\n",
    "myfunc()"
   ]
  },
  {
   "cell_type": "code",
   "execution_count": 64,
   "id": "fa42f901-fd4a-4dd6-b840-15b0a88d6d3e",
   "metadata": {},
   "outputs": [
    {
     "data": {
      "text/plain": [
       "89"
      ]
     },
     "execution_count": 64,
     "metadata": {},
     "output_type": "execute_result"
    }
   ],
   "source": [
    "# Fibonacci series using recursion function.\n",
    "def myfun(n):\n",
    "    if n == 0 :\n",
    "        return 0\n",
    "    elif n == 1:\n",
    "        return 1\n",
    "    else:\n",
    "        return myfun(n-1) +myfun(n-2)\n",
    "myfun(11)"
   ]
  },
  {
   "cell_type": "code",
   "execution_count": 65,
   "id": "d6ac2e5b-3e62-49ca-92b6-08ab0ac10766",
   "metadata": {},
   "outputs": [
    {
     "data": {
      "text/plain": [
       "66"
      ]
     },
     "execution_count": 65,
     "metadata": {},
     "output_type": "execute_result"
    }
   ],
   "source": [
    "# sum of numbers\n",
    "def myfun(n):\n",
    "    if n == 0:\n",
    "        return 0\n",
    "    else:\n",
    "        return n + myfun(n-1)\n",
    "myfun(11)"
   ]
  },
  {
   "cell_type": "markdown",
   "id": "1b341cdb-c8e6-44eb-bbf9-144a01085205",
   "metadata": {},
   "source": [
    "# File Handling:\n",
    "- File handling in Python allows you to create, read, write, and delete files.\n",
    "- there are various methods to file handle.They are:\n",
    "- \"r\" – Read (default)\n",
    "- \"w\" – Write (creates file if it doesn't exist or overwrites)\n",
    "- \"a\" – Append (creates file if it doesn't exist)\n",
    "- \"x\" – Create (fails if file exists)\n",
    "- \"b\" – Binary mode (e.g., \"rb\", \"wb\")\n",
    "- first we need to open the file which we need to do applications.\n",
    "- syntax: var = open(\"text_file.txt\",mode = \"r/w/a/x\")"
   ]
  },
  {
   "cell_type": "markdown",
   "id": "412195e3-5e05-4cc8-b29a-a1ae7e388618",
   "metadata": {},
   "source": [
    "- NOTE: we have to close the file before applying any methods.\n",
    "- syntax: file_name.close()"
   ]
  },
  {
   "cell_type": "markdown",
   "id": "8742544b-07ce-4bec-bb3e-a7b2c08fd56a",
   "metadata": {},
   "source": [
    "# 1.read method:\n",
    "- read method is used to read only the text files."
   ]
  },
  {
   "cell_type": "code",
   "execution_count": 8,
   "id": "00e99fbe-ccd8-4c25-82fe-098713ed5bf7",
   "metadata": {},
   "outputs": [],
   "source": [
    "x = open(\"text.txt\",mode=\"r\")"
   ]
  },
  {
   "cell_type": "code",
   "execution_count": 9,
   "id": "56d754dd-5fca-49fe-b702-0de844a32208",
   "metadata": {},
   "outputs": [],
   "source": [
    "x.close()"
   ]
  },
  {
   "cell_type": "code",
   "execution_count": 15,
   "id": "7e90a330-d332-4dc8-9d0f-33e3418253a3",
   "metadata": {},
   "outputs": [],
   "source": [
    "x = open(\"text.txt\",mode=\"r\")"
   ]
  },
  {
   "cell_type": "code",
   "execution_count": 17,
   "id": "03da48fa-35b7-4f9a-98ad-8b79a53c50d2",
   "metadata": {},
   "outputs": [
    {
     "data": {
      "text/plain": [
       "'hello everyone how are you!!!'"
      ]
     },
     "execution_count": 17,
     "metadata": {},
     "output_type": "execute_result"
    }
   ],
   "source": [
    "x.read()"
   ]
  },
  {
   "cell_type": "code",
   "execution_count": 18,
   "id": "6cd6a401-8510-48e8-b5c9-cb758669aae9",
   "metadata": {},
   "outputs": [
    {
     "data": {
      "text/plain": [
       "['\\n', 'ewkdcslvjnjkehbvefd\\n', 'chdjgvcyjechej\\n', 'ehwhkciwecwejoln']"
      ]
     },
     "execution_count": 18,
     "metadata": {},
     "output_type": "execute_result"
    }
   ],
   "source": [
    "x.readlines()"
   ]
  },
  {
   "cell_type": "code",
   "execution_count": 22,
   "id": "c95d7ebc-3312-4e6e-9390-e5a0a22db0e6",
   "metadata": {},
   "outputs": [
    {
     "data": {
      "text/plain": [
       "''"
      ]
     },
     "execution_count": 22,
     "metadata": {},
     "output_type": "execute_result"
    }
   ],
   "source": [
    "x.readline()"
   ]
  },
  {
   "cell_type": "code",
   "execution_count": 23,
   "id": "c7c11f94-7e53-4153-8203-28b82d0bae88",
   "metadata": {},
   "outputs": [],
   "source": [
    "x.close()"
   ]
  },
  {
   "cell_type": "code",
   "execution_count": 24,
   "id": "be74214f-36c2-4f06-b8ec-33cb2844c5b3",
   "metadata": {},
   "outputs": [],
   "source": [
    "x = open(\"text.txt\",mode=\"r\")"
   ]
  },
  {
   "cell_type": "code",
   "execution_count": 25,
   "id": "fa72706f-6f93-4ab1-b8bd-8453c2025aa6",
   "metadata": {},
   "outputs": [
    {
     "data": {
      "text/plain": [
       "'hello everyone how are you!!!\\n'"
      ]
     },
     "execution_count": 25,
     "metadata": {},
     "output_type": "execute_result"
    }
   ],
   "source": [
    "x.readline()"
   ]
  },
  {
   "cell_type": "code",
   "execution_count": 26,
   "id": "d95aff75-8b64-4617-acd1-16216beeaea1",
   "metadata": {},
   "outputs": [
    {
     "data": {
      "text/plain": [
       "'ewkdcslvjnjkehbvefd\\nchdjgvcyjechej\\nehwhkciwecwejoln'"
      ]
     },
     "execution_count": 26,
     "metadata": {},
     "output_type": "execute_result"
    }
   ],
   "source": [
    "x.read()"
   ]
  },
  {
   "cell_type": "code",
   "execution_count": 27,
   "id": "be7bbe63-b8f2-4097-829e-1736b5713584",
   "metadata": {},
   "outputs": [
    {
     "data": {
      "text/plain": [
       "[]"
      ]
     },
     "execution_count": 27,
     "metadata": {},
     "output_type": "execute_result"
    }
   ],
   "source": [
    "x.readlines()"
   ]
  },
  {
   "cell_type": "code",
   "execution_count": 28,
   "id": "e257ba40-8c2f-4008-8417-807f589dc3ba",
   "metadata": {},
   "outputs": [],
   "source": [
    "x.close()"
   ]
  },
  {
   "cell_type": "code",
   "execution_count": 29,
   "id": "dabbb31d-9167-4f40-a941-d643907f36b7",
   "metadata": {},
   "outputs": [
    {
     "ename": "ValueError",
     "evalue": "I/O operation on closed file.",
     "output_type": "error",
     "traceback": [
      "\u001b[0;31m---------------------------------------------------------------------------\u001b[0m",
      "\u001b[0;31mValueError\u001b[0m                                Traceback (most recent call last)",
      "Cell \u001b[0;32mIn[29], line 1\u001b[0m\n\u001b[0;32m----> 1\u001b[0m x\u001b[38;5;241m.\u001b[39mread()\n",
      "\u001b[0;31mValueError\u001b[0m: I/O operation on closed file."
     ]
    }
   ],
   "source": [
    "x.read()"
   ]
  },
  {
   "cell_type": "code",
   "execution_count": 30,
   "id": "59d478ef-126a-4e24-8da1-4f6b2546fd86",
   "metadata": {},
   "outputs": [],
   "source": [
    "x = open(\"text.txt\",mode=\"r\")"
   ]
  },
  {
   "cell_type": "code",
   "execution_count": 31,
   "id": "557a5b90-cecf-49da-9daf-e5e4c7854154",
   "metadata": {},
   "outputs": [
    {
     "data": {
      "text/plain": [
       "'hello everyone how are you!!!\\n'"
      ]
     },
     "execution_count": 31,
     "metadata": {},
     "output_type": "execute_result"
    }
   ],
   "source": [
    "x.readline()"
   ]
  },
  {
   "cell_type": "code",
   "execution_count": 32,
   "id": "938be355-6c68-4229-b269-2f80ae8ef676",
   "metadata": {},
   "outputs": [
    {
     "data": {
      "text/plain": [
       "['ewkdcslvjnjkehbvefd\\n', 'chdjgvcyjechej\\n', 'ehwhkciwecwejoln']"
      ]
     },
     "execution_count": 32,
     "metadata": {},
     "output_type": "execute_result"
    }
   ],
   "source": [
    "x.readlines()"
   ]
  },
  {
   "cell_type": "code",
   "execution_count": 33,
   "id": "05ab97ed-31e9-41f2-9d4b-9102fb8cb87c",
   "metadata": {},
   "outputs": [
    {
     "data": {
      "text/plain": [
       "''"
      ]
     },
     "execution_count": 33,
     "metadata": {},
     "output_type": "execute_result"
    }
   ],
   "source": [
    "x.read()"
   ]
  },
  {
   "cell_type": "code",
   "execution_count": 34,
   "id": "164b7d30-a54c-4896-b60c-bcf9cc2beac1",
   "metadata": {},
   "outputs": [],
   "source": [
    "x.close()"
   ]
  },
  {
   "cell_type": "code",
   "execution_count": 35,
   "id": "b20c2af2-7cdc-4ebc-843a-0472e73eaa71",
   "metadata": {},
   "outputs": [],
   "source": [
    "x = open(\"text.txt\",mode=\"r\")"
   ]
  },
  {
   "cell_type": "code",
   "execution_count": 36,
   "id": "c316d9fb-327c-4006-aa9f-b805c90baaaf",
   "metadata": {},
   "outputs": [
    {
     "data": {
      "text/plain": [
       "'hello everyone how are you!!!\\newkdcslvjnjkehbvefd\\nchdjgvcyjechej\\nehwhkciwecwejoln'"
      ]
     },
     "execution_count": 36,
     "metadata": {},
     "output_type": "execute_result"
    }
   ],
   "source": [
    "x.read()"
   ]
  },
  {
   "cell_type": "code",
   "execution_count": 37,
   "id": "fa5cf698-7b3b-44cb-8e9a-8a758e5a8b46",
   "metadata": {},
   "outputs": [],
   "source": [
    "x.close()"
   ]
  },
  {
   "cell_type": "markdown",
   "id": "4e86e755-3ac1-4d8d-ba25-066be314134f",
   "metadata": {},
   "source": [
    "# write method:\n",
    "- write method is used write something into the txt file.\n",
    "- write method overwrites the text that is already present and replace it with the new insertion."
   ]
  },
  {
   "cell_type": "code",
   "execution_count": 38,
   "id": "52abb190-ab22-4cc1-8bf2-045db9d3c16d",
   "metadata": {},
   "outputs": [],
   "source": [
    "x = open(\"text.txt\",mode=\"w\")"
   ]
  },
  {
   "cell_type": "code",
   "execution_count": 39,
   "id": "326da080-3285-412a-b433-bec48f3dd766",
   "metadata": {},
   "outputs": [
    {
     "data": {
      "text/plain": [
       "7"
      ]
     },
     "execution_count": 39,
     "metadata": {},
     "output_type": "execute_result"
    }
   ],
   "source": [
    "x.write(\"bye!!!!\")"
   ]
  },
  {
   "cell_type": "code",
   "execution_count": 40,
   "id": "7ffbdf2a-88b6-4539-8cf2-d70853419106",
   "metadata": {},
   "outputs": [],
   "source": [
    "x.close()"
   ]
  },
  {
   "cell_type": "code",
   "execution_count": 43,
   "id": "1b3c197d-458f-4cde-af69-e1a14f29ec96",
   "metadata": {},
   "outputs": [],
   "source": [
    "x = open(\"text.txt\",mode=\"r\")"
   ]
  },
  {
   "cell_type": "code",
   "execution_count": 45,
   "id": "f98e0e1d-ff66-4e95-b892-bcb9a6d78fac",
   "metadata": {},
   "outputs": [
    {
     "data": {
      "text/plain": [
       "[]"
      ]
     },
     "execution_count": 45,
     "metadata": {},
     "output_type": "execute_result"
    }
   ],
   "source": [
    "x.readlines()"
   ]
  },
  {
   "cell_type": "code",
   "execution_count": 46,
   "id": "7dc7cfb5-7fed-4687-a05c-3629884ff105",
   "metadata": {},
   "outputs": [],
   "source": [
    "x.close()"
   ]
  },
  {
   "cell_type": "code",
   "execution_count": 47,
   "id": "e6c0a3e9-5061-43b9-a01d-a4fba1c20df4",
   "metadata": {},
   "outputs": [],
   "source": [
    "x = open(\"text.txt\",mode=\"r\")"
   ]
  },
  {
   "cell_type": "code",
   "execution_count": 48,
   "id": "acbfb0ac-67ee-47d0-bf55-0537399d5feb",
   "metadata": {},
   "outputs": [
    {
     "data": {
      "text/plain": [
       "'bye!!!!'"
      ]
     },
     "execution_count": 48,
     "metadata": {},
     "output_type": "execute_result"
    }
   ],
   "source": [
    "x.read()"
   ]
  },
  {
   "cell_type": "code",
   "execution_count": 49,
   "id": "f423089b-ee41-4765-a3c0-5e6abd77e020",
   "metadata": {},
   "outputs": [],
   "source": [
    "x.close()"
   ]
  },
  {
   "cell_type": "markdown",
   "id": "aa70f48f-49b2-4e00-9702-b3b2405a45a0",
   "metadata": {},
   "source": [
    "# Append method:\n",
    "- Append method is used to append the text to the pre existing text in the txt file."
   ]
  },
  {
   "cell_type": "code",
   "execution_count": 50,
   "id": "a3e9582e-cddc-4249-9856-abc468b07786",
   "metadata": {},
   "outputs": [],
   "source": [
    "x = open(\"text.txt\",mode=\"a\")"
   ]
  },
  {
   "cell_type": "code",
   "execution_count": 51,
   "id": "d5556ea5-d678-4767-bcdc-e282cef18106",
   "metadata": {},
   "outputs": [
    {
     "data": {
      "text/plain": [
       "15"
      ]
     },
     "execution_count": 51,
     "metadata": {},
     "output_type": "execute_result"
    }
   ],
   "source": [
    "s = \"sasncjwehbwkjsf\"\n",
    "x.write(s)"
   ]
  },
  {
   "cell_type": "code",
   "execution_count": 52,
   "id": "c904d970-22ce-4c7b-9e5b-242012118188",
   "metadata": {},
   "outputs": [],
   "source": [
    "x.close()"
   ]
  },
  {
   "cell_type": "code",
   "execution_count": 53,
   "id": "15bccdd4-7c2f-4f01-a6cb-4de376ae8c08",
   "metadata": {},
   "outputs": [],
   "source": [
    "x = open(\"text.txt\",mode=\"r\")"
   ]
  },
  {
   "cell_type": "code",
   "execution_count": 54,
   "id": "153db3aa-5e53-4898-b09d-27b87709bf0e",
   "metadata": {},
   "outputs": [
    {
     "data": {
      "text/plain": [
       "'bye!!!!sasncjwehbwkjsf'"
      ]
     },
     "execution_count": 54,
     "metadata": {},
     "output_type": "execute_result"
    }
   ],
   "source": [
    "x.read()"
   ]
  },
  {
   "cell_type": "code",
   "execution_count": 56,
   "id": "cc8d55ec-b2f6-4a79-845e-d1b8cb268123",
   "metadata": {},
   "outputs": [],
   "source": [
    "x = open(\"text_1.txt\",mode=\"x\")"
   ]
  },
  {
   "cell_type": "code",
   "execution_count": 57,
   "id": "1959433f-351b-463d-9cc1-b3a8b15978c0",
   "metadata": {},
   "outputs": [],
   "source": [
    "x = open(\"text_1.txt\",mode=\"r\")"
   ]
  },
  {
   "cell_type": "code",
   "execution_count": 58,
   "id": "8c6fde2f-2c06-49b0-9154-28f786681669",
   "metadata": {},
   "outputs": [
    {
     "data": {
      "text/plain": [
       "''"
      ]
     },
     "execution_count": 58,
     "metadata": {},
     "output_type": "execute_result"
    }
   ],
   "source": [
    "x.read()"
   ]
  },
  {
   "cell_type": "code",
   "execution_count": 59,
   "id": "3e8f12ba-7b2f-4f09-9ba3-97c82f125117",
   "metadata": {},
   "outputs": [],
   "source": [
    "x.close()"
   ]
  },
  {
   "cell_type": "code",
   "execution_count": 60,
   "id": "81a0720b-631b-4f98-8588-9f2b7768a1ca",
   "metadata": {},
   "outputs": [],
   "source": [
    "x = open(\"text_1.txt\",mode=\"w\")"
   ]
  },
  {
   "cell_type": "code",
   "execution_count": 61,
   "id": "abe86812-6155-42a4-91e6-896920867ddc",
   "metadata": {},
   "outputs": [
    {
     "data": {
      "text/plain": [
       "15"
      ]
     },
     "execution_count": 61,
     "metadata": {},
     "output_type": "execute_result"
    }
   ],
   "source": [
    "x.write(\"hello python!!!\")"
   ]
  },
  {
   "cell_type": "code",
   "execution_count": 62,
   "id": "620a8001-e8c1-40e7-95e0-5a43c3c05c0b",
   "metadata": {},
   "outputs": [],
   "source": [
    "x.close()"
   ]
  },
  {
   "cell_type": "code",
   "execution_count": 63,
   "id": "4c9d3d75-6e79-4b70-a010-fdb21d2f1692",
   "metadata": {},
   "outputs": [],
   "source": [
    "x = open(\"text_1.txt\",mode=\"r\")"
   ]
  },
  {
   "cell_type": "code",
   "execution_count": 64,
   "id": "9e682383-b07a-4eef-98e4-ff463fd78c31",
   "metadata": {},
   "outputs": [
    {
     "data": {
      "text/plain": [
       "'hello python!!!'"
      ]
     },
     "execution_count": 64,
     "metadata": {},
     "output_type": "execute_result"
    }
   ],
   "source": [
    "x.read()"
   ]
  },
  {
   "cell_type": "code",
   "execution_count": 67,
   "id": "6a7d3463-9a0f-486d-a0f0-825e502689f6",
   "metadata": {},
   "outputs": [],
   "source": [
    "x.close()"
   ]
  },
  {
   "cell_type": "code",
   "execution_count": null,
   "id": "72e16a14-03aa-43f4-abb9-3cada9ca41a1",
   "metadata": {},
   "outputs": [],
   "source": []
  }
 ],
 "metadata": {
  "kernelspec": {
   "display_name": "Python [conda env:base] *",
   "language": "python",
   "name": "conda-base-py"
  },
  "language_info": {
   "codemirror_mode": {
    "name": "ipython",
    "version": 3
   },
   "file_extension": ".py",
   "mimetype": "text/x-python",
   "name": "python",
   "nbconvert_exporter": "python",
   "pygments_lexer": "ipython3",
   "version": "3.12.7"
  }
 },
 "nbformat": 4,
 "nbformat_minor": 5
}
