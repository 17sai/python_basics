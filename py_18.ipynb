{
 "cells": [
  {
   "cell_type": "markdown",
   "id": "503cc028-bea3-4648-9b26-5615dd166b07",
   "metadata": {},
   "source": [
    "# Exception Handling:\n",
    "- Exception handling in python is a mechanism that allows you to catch and handles error.\n",
    "- syntax:  \n",
    "    try:\n",
    "        statements\n",
    "    except exception_type:\n",
    "        statements\n",
    "else:\n",
    "    statements\n",
    "    finally:\n",
    "        statements\n",
    "    "
   ]
  },
  {
   "cell_type": "code",
   "execution_count": 3,
   "id": "07b21566-ca1d-4f89-b7d9-77f562cc2c2c",
   "metadata": {},
   "outputs": [
    {
     "ename": "NameError",
     "evalue": "name 'c' is not defined",
     "output_type": "error",
     "traceback": [
      "\u001b[0;31m---------------------------------------------------------------------------\u001b[0m",
      "\u001b[0;31mNameError\u001b[0m                                 Traceback (most recent call last)",
      "Cell \u001b[0;32mIn[3], line 3\u001b[0m\n\u001b[1;32m      1\u001b[0m a \u001b[38;5;241m=\u001b[39m \u001b[38;5;241m3\u001b[39m\n\u001b[1;32m      2\u001b[0m b \u001b[38;5;241m=\u001b[39m \u001b[38;5;241m4\u001b[39m\n\u001b[0;32m----> 3\u001b[0m \u001b[38;5;28mprint\u001b[39m(c)\n\u001b[1;32m      4\u001b[0m d \u001b[38;5;241m=\u001b[39m a \u001b[38;5;241m+\u001b[39m b\n\u001b[1;32m      5\u001b[0m \u001b[38;5;28mprint\u001b[39m(d)\n",
      "\u001b[0;31mNameError\u001b[0m: name 'c' is not defined"
     ]
    }
   ],
   "source": [
    "a = 3\n",
    "b = 4\n",
    "print(c)\n",
    "d = a + b\n",
    "print(d)"
   ]
  },
  {
   "cell_type": "code",
   "execution_count": 2,
   "id": "c50935ff-cee3-4fb6-801c-5b22ed05fc49",
   "metadata": {},
   "outputs": [
    {
     "name": "stdout",
     "output_type": "stream",
     "text": [
      "value not found\n",
      "this is from finally block\n",
      "7\n"
     ]
    }
   ],
   "source": [
    "a = 3\n",
    "b = 4\n",
    "try:\n",
    "    print(c)\n",
    "except NameError:\n",
    "    print(\"value not found\")\n",
    "else:\n",
    "    print(c)\n",
    "finally:\n",
    "    print(\"this is from finally block\")\n",
    "d = a + b\n",
    "print(d)"
   ]
  },
  {
   "cell_type": "code",
   "execution_count": 5,
   "id": "01af097c-b749-4d30-a712-e781183dee2d",
   "metadata": {},
   "outputs": [
    {
     "name": "stdout",
     "output_type": "stream",
     "text": [
      "5\n",
      "there is no error in try block\n",
      "this is from finally block\n",
      "7\n"
     ]
    }
   ],
   "source": [
    "a = 3\n",
    "b = 4\n",
    "c = 5\n",
    "try:\n",
    "    print(c)\n",
    "except NameError:\n",
    "    print(\"value not found\")\n",
    "else:\n",
    "    print(\"there is no error in try block\")\n",
    "finally:\n",
    "    print(\"this is from finally block\")\n",
    "d = a + b\n",
    "print(d)"
   ]
  },
  {
   "cell_type": "markdown",
   "id": "b962daaf-a13a-40f9-b075-8b524f06e1f7",
   "metadata": {},
   "source": [
    "# ZeroDivisionError:\n",
    "- when value is divided by zero it becomes infinity so we give zerodivisionerror."
   ]
  },
  {
   "cell_type": "code",
   "execution_count": 6,
   "id": "b413ffd7-59dc-44ca-8926-ddf0d53752fb",
   "metadata": {},
   "outputs": [
    {
     "name": "stdout",
     "output_type": "stream",
     "text": [
      "value cant divide by zero\n"
     ]
    }
   ],
   "source": [
    "a = 10\n",
    "b = 0\n",
    "try:\n",
    "    print(a/b)\n",
    "except ZeroDivisionError:\n",
    "    print(\"value cant divide by zero\")\n"
   ]
  },
  {
   "cell_type": "markdown",
   "id": "e1f06e67-bb79-4611-bf1a-58701b79b2b0",
   "metadata": {},
   "source": [
    "# ValueError:\n",
    "- here value error occurs when non-convertable datatype is forcefully converted into other data type."
   ]
  },
  {
   "cell_type": "code",
   "execution_count": 13,
   "id": "908d429e-4bdc-46fc-9667-a0803e039f91",
   "metadata": {},
   "outputs": [
    {
     "name": "stdout",
     "output_type": "stream",
     "text": [
      "cant convert into int\n",
      "Example of value error is done sucessfully\n"
     ]
    }
   ],
   "source": [
    "a = \"abc\"\n",
    "try:\n",
    "    print(int(a))\n",
    "except ValueError:\n",
    "    print(\"cant convert into int\")\n",
    "else:\n",
    "    print(\"converted sucessfully\")\n",
    "finally:\n",
    "    print(\"Example of value error is done sucessfully\")"
   ]
  },
  {
   "cell_type": "markdown",
   "id": "96b44e41-ba2d-4c90-8c31-7a9e154c1c78",
   "metadata": {},
   "source": [
    "# TypeError:\n",
    "- type error occurs when an operation is applied to an object of inappropriate type."
   ]
  },
  {
   "cell_type": "code",
   "execution_count": 14,
   "id": "f48eae31-a9a5-4e0d-bddc-b5342f405f1e",
   "metadata": {},
   "outputs": [
    {
     "name": "stdout",
     "output_type": "stream",
     "text": [
      "cant add/concartinate\n",
      "successfully completed TypeError example\n"
     ]
    }
   ],
   "source": [
    "a = 3\n",
    "b = \"a\"\n",
    "try:\n",
    "    print(a+b)\n",
    "except TypeError:\n",
    "    print(\"cant add/concartinate\")\n",
    "else:\n",
    "    print(\"added successfully\")\n",
    "finally:\n",
    "    print(\"successfully completed TypeError example\")\n"
   ]
  },
  {
   "cell_type": "code",
   "execution_count": null,
   "id": "b20e5f81-99d1-4aa0-aa05-e4961f85af1b",
   "metadata": {},
   "outputs": [],
   "source": [
    "# IndexError:\n",
    "- index error occur when we try to find the index value which is not present in the value."
   ]
  },
  {
   "cell_type": "code",
   "execution_count": 1,
   "id": "2dd5b3b8-ad00-44f7-94fb-6a734eaaa0a0",
   "metadata": {},
   "outputs": [
    {
     "name": "stdout",
     "output_type": "stream",
     "text": [
      "index out of bounce\n"
     ]
    }
   ],
   "source": [
    "a = [1,2,3,4]\n",
    "try:\n",
    "    print(a[7])\n",
    "except IndexError:\n",
    "    print(\"index out of bounce\")"
   ]
  },
  {
   "cell_type": "code",
   "execution_count": null,
   "id": "918dbc7a-e055-4bcd-923c-3ce858bf1a7a",
   "metadata": {},
   "outputs": [],
   "source": [
    "# NameError:\n",
    "- name error occurs when the name of the variable is  not present in the code."
   ]
  },
  {
   "cell_type": "code",
   "execution_count": null,
   "id": "0058bdca-937f-43a2-9111-ca7e9b9c55df",
   "metadata": {},
   "outputs": [],
   "source": [
    "# KeyError:\n",
    "- Raised when trying to acess the dictionary key that is not found"
   ]
  },
  {
   "cell_type": "code",
   "execution_count": null,
   "id": "158cf31b-6755-452b-a1a2-1b1b0cbde190",
   "metadata": {},
   "outputs": [],
   "source": [
    "# FileNotFoundError:\n",
    "- Raised when file is not found during file handling."
   ]
  },
  {
   "cell_type": "code",
   "execution_count": null,
   "id": "bfa0db2e-54da-448d-80c8-307d51d1a4f5",
   "metadata": {},
   "outputs": [],
   "source": [
    "# AttributeError:\n",
    "- Raised when proper attribute is not found"
   ]
  },
  {
   "cell_type": "code",
   "execution_count": null,
   "id": "672ecad4-f2d3-47a6-9e66-44b5eb2a1c16",
   "metadata": {},
   "outputs": [],
   "source": [
    "# ModuleNotFoundError:\n",
    "- Raised when invoked incorrect module"
   ]
  },
  {
   "cell_type": "markdown",
   "id": "3b6e9f26-e9da-49c5-8d5f-6871da745e6a",
   "metadata": {},
   "source": [
    "# OOPs(Object Oriented Programming):\n",
    "- Object:- Object is nothing but which we can physically feel it eg:table,car,etc...\n",
    "- Class:- class is like a imaginary/blueprint.\n",
    "- object consists of behavioural properties\n",
    "- i.Attributes:- like name,age,gender,etc...\n",
    "- ii.Actions:- walking,listening,etcc..."
   ]
  },
  {
   "cell_type": "markdown",
   "id": "cf394a4e-9f10-4918-963e-e2d5914826e4",
   "metadata": {},
   "source": [
    "- syntax:\n",
    "\n",
    "class class_name:\n",
    "\n",
    "    def attributes:\n",
    "\n",
    "    def actions:\n",
    "\n",
    "male = class_name(attributes)\n",
    "\n",
    "male()"
   ]
  },
  {
   "cell_type": "code",
   "execution_count": 22,
   "id": "7d4bdebd-85db-4fe1-87c0-3113b929cbb8",
   "metadata": {},
   "outputs": [
    {
     "name": "stdout",
     "output_type": "stream",
     "text": [
      "hello my name is sai santhosh and i am 22 years old\n",
      "i am anglepriya sleeping right now\n"
     ]
    }
   ],
   "source": [
    "class myclass:\n",
    "    def __init__(self,name,age):\n",
    "        self.name = name\n",
    "        self.age = age\n",
    "    def listen(self):\n",
    "        print(f\"hello my name is {self.name} and i am {self.age} years old\")\n",
    "    def sleeping(self):\n",
    "        print(f\"i am {self.name} sleeping right now\")\n",
    "male = myclass(\"sai santhosh\",22)\n",
    "male.listen()\n",
    "female = myclass(\"anglepriya\",21)\n",
    "female.sleeping()"
   ]
  },
  {
   "cell_type": "code",
   "execution_count": 30,
   "id": "949240ba-e255-47f7-8d64-8d5142402bf4",
   "metadata": {},
   "outputs": [
    {
     "name": "stdout",
     "output_type": "stream",
     "text": [
      "8\n",
      "-2\n",
      "15\n",
      "0.6\n"
     ]
    }
   ],
   "source": [
    "class calculator:\n",
    "    def __init__(self,a,b):\n",
    "        self.a = a\n",
    "        self.b = b\n",
    "    def add(self):\n",
    "        print(self.a+self.b)\n",
    "    def sub(self):\n",
    "        print(self.a-self.b)\n",
    "    def mult(self):\n",
    "        print(self.a*self.b)\n",
    "    def division(self):\n",
    "        print(self.a/self.b)\n",
    "n = calculator(3,5)\n",
    "n.add()\n",
    "n.sub()\n",
    "n.mult()\n",
    "n.division()"
   ]
  },
  {
   "cell_type": "code",
   "execution_count": 13,
   "id": "fdff020b-5d5a-47c0-b142-abec10c21b45",
   "metadata": {},
   "outputs": [
    {
     "name": "stdout",
     "output_type": "stream",
     "text": [
      "amount deposited 500\n",
      "balance left is 1500\n"
     ]
    }
   ],
   "source": [
    "class bank:\n",
    "    def __init__(self,balance):\n",
    "        self.balance = balance\n",
    "    def deposite(self,amount):\n",
    "        self.balance += amount\n",
    "        print(f\"amount deposited {amount}\")\n",
    "    def h_balance(self):\n",
    "        print(f\"balance left is {self.balance}\")\n",
    "a = bank(1000)\n",
    "a.deposite(500)\n",
    "a.h_balance()"
   ]
  },
  {
   "cell_type": "code",
   "execution_count": 2,
   "id": "7bab8f94-e84a-44fa-b83d-2c94d096de46",
   "metadata": {},
   "outputs": [
    {
     "name": "stdout",
     "output_type": "stream",
     "text": [
      "you added 5 and total price is 75\n"
     ]
    }
   ],
   "source": [
    "# super market billing\n",
    "class supermarket:\n",
    "    def __init__(self,cart,total):\n",
    "        self.cart = cart\n",
    "        self.total = total\n",
    "    def pen(self):\n",
    "        self.cart += 1\n",
    "        self.total += 10\n",
    "    def book(self):\n",
    "        self.cart +=1\n",
    "        self.total += 20\n",
    "    def scale(self):\n",
    "        self.cart += 1\n",
    "        self.total += 15\n",
    "    def billing(self):\n",
    "        print(f\"you added {self.cart} and total price is {self.total}\")\n",
    "s = supermarket(0,0)\n",
    "s.pen()\n",
    "s.book()\n",
    "s.scale()\n",
    "s.book()\n",
    "s.pen()\n",
    "s.billing()"
   ]
  },
  {
   "cell_type": "code",
   "execution_count": null,
   "id": "5a9db5dd-35c1-4999-b944-59c71e31e54e",
   "metadata": {},
   "outputs": [],
   "source": []
  }
 ],
 "metadata": {
  "kernelspec": {
   "display_name": "Python [conda env:base] *",
   "language": "python",
   "name": "conda-base-py"
  },
  "language_info": {
   "codemirror_mode": {
    "name": "ipython",
    "version": 3
   },
   "file_extension": ".py",
   "mimetype": "text/x-python",
   "name": "python",
   "nbconvert_exporter": "python",
   "pygments_lexer": "ipython3",
   "version": "3.12.7"
  }
 },
 "nbformat": 4,
 "nbformat_minor": 5
}
