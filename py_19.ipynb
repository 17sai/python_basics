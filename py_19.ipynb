{
 "cells": [
  {
   "cell_type": "markdown",
   "id": "57e02cae-6e3c-441e-bc00-cadbedd757ea",
   "metadata": {},
   "source": [
    "# properties of OOP's:\n",
    "- Inheritance\n",
    "- Polymorphism\n",
    "- Abstraction\n",
    "- Encapsulation"
   ]
  },
  {
   "cell_type": "markdown",
   "id": "90a3153a-0d8e-465d-985b-8af0c30090cb",
   "metadata": {},
   "source": [
    "# Inheritance:\n",
    "- Inheritance is nothing but child class inherits the properrties from parent class.\n",
    "- helps to acquire properties of parents class to child class."
   ]
  },
  {
   "cell_type": "markdown",
   "id": "05dac59c-28b8-4d6c-aaa8-a11f16cbc855",
   "metadata": {},
   "source": [
    "# single level inheritance:\n",
    "- single level inheritance is nothing but properties from parent class is inherited to single child.\n",
    "- here single parent and single child is involved in this inheritance"
   ]
  },
  {
   "cell_type": "code",
   "execution_count": 7,
   "id": "b7d054db-8690-4e7e-a3dc-569fbceb9616",
   "metadata": {},
   "outputs": [
    {
     "name": "stdout",
     "output_type": "stream",
     "text": [
      "billi is meowing\n",
      "mark is barking\n"
     ]
    }
   ],
   "source": [
    "class animal:\n",
    "    def __init__(self,name,color):\n",
    "        self.name = name\n",
    "        self.color = color\n",
    "    def bark(self):\n",
    "        print(f\"{self.name} is barking\")\n",
    "    def meow(self):\n",
    "        print(f\"{self.name} is meowing\")\n",
    "class cat(animal):\n",
    "    def __init__(self,name,color):\n",
    "        self.name = name\n",
    "        self.color = color\n",
    "class dog(animal):\n",
    "    def __init__(self,name,color):\n",
    "        animal.__init__(self,name,color)\n",
    "c = cat(\"billi\",\"white\")\n",
    "c.meow()\n",
    "d = dog(\"mark\",\"brown\")\n",
    "d.bark()"
   ]
  },
  {
   "cell_type": "markdown",
   "id": "08c5bfcb-a62d-4df0-a890-ea531bbfeb22",
   "metadata": {},
   "source": [
    "# multi-level inheritance\n",
    "- multi-level inheritance is nothing but a class is inherited from the parent class which is already inherited from grand parent class."
   ]
  },
  {
   "cell_type": "code",
   "execution_count": 21,
   "id": "7e1fc822-d49f-4424-ab3b-a1139fb180c1",
   "metadata": {},
   "outputs": [
    {
     "name": "stdout",
     "output_type": "stream",
     "text": [
      "child cat is meowing\n",
      "child cat which is black&white color of weight 2kgs is sleeping\n"
     ]
    }
   ],
   "source": [
    "class animal:\n",
    "    def __init__(self,name,color):\n",
    "        self.name = name\n",
    "        self.color = color\n",
    "    def bark(self):\n",
    "        print(f\"{self.name} is barking\")\n",
    "    def meow(self):\n",
    "        print(f\"{self.name} is meowing\")\n",
    "class cat(animal):\n",
    "    def __init__(self,name,color):\n",
    "        animal.__init__(self,name,color)\n",
    "class small_cat(cat):\n",
    "    def __init__(self,name,color,weight):\n",
    "        self.weight = weight\n",
    "        cat.__init__(self,name,color)\n",
    "    def sleep(self):\n",
    "        print(f\"{self.name} which is {self.color} color of weight {self.weight} is sleeping\")\n",
    "s_cat = small_cat(\"child cat\",\"black&white\",\"2kgs\")\n",
    "s_cat.meow()\n",
    "s_cat.sleep()"
   ]
  },
  {
   "cell_type": "markdown",
   "id": "ca55d81f-48a9-4778-b93d-168918224bb4",
   "metadata": {},
   "source": [
    "# multiple inheritance\n",
    "- multiple inheritance is nothing but the child class is inherited from more than one parent class."
   ]
  },
  {
   "cell_type": "code",
   "execution_count": 1,
   "id": "12d4b015-28b8-4a52-baf9-10f127427ff4",
   "metadata": {},
   "outputs": [
    {
     "name": "stdout",
     "output_type": "stream",
     "text": [
      "puppy is barking\n",
      "puppy is eating\n",
      "puppy is playing with ball\n"
     ]
    }
   ],
   "source": [
    "class male_dog:\n",
    "    def __init__(self,name,breed):\n",
    "        self.name = name\n",
    "        self.breed = breed\n",
    "    def bark(self):\n",
    "        print(f\"{self.name} is barking\")\n",
    "class femail_dog:\n",
    "    def __init__(self,name,breed):\n",
    "        self.name = name\n",
    "        self.breed = breed\n",
    "    def eat(self):\n",
    "        print(f\"{self.name} is eating\")\n",
    "class child_dog(male_dog,femail_dog):\n",
    "    def play(self):\n",
    "        print(f\"{self.name} is playing with ball\")\n",
    "c = child_dog(\"puppy\",\"german_shepard\")\n",
    "c.bark()\n",
    "c.eat()\n",
    "c.play()"
   ]
  },
  {
   "cell_type": "code",
   "execution_count": 24,
   "id": "be8ffeb0-fda0-44e7-8ed4-81a5b922ae55",
   "metadata": {},
   "outputs": [
    {
     "name": "stdout",
     "output_type": "stream",
     "text": [
      "hello my name is sai and my age is 21\n",
      "my height is 175cm and my weight is 70\n",
      "my color is Brown thank you good bye\n"
     ]
    }
   ],
   "source": [
    "class father:\n",
    "    def __init__(self,name,age):\n",
    "        self.name = name\n",
    "        self.age = age\n",
    "    def introduction(self):\n",
    "        print(f\"hello my name is {self.name} and my age is {self.age}\")\n",
    "class mother:\n",
    "    def __init__(self,height,weight):\n",
    "        self.height = height\n",
    "        self.weight = weight\n",
    "    def more_introduction(self):\n",
    "        print(f\"my height is {self.height} and my weight is {self.weight}\")\n",
    "class child(father,mother):\n",
    "    def __init__(self,name,age,height,weight,color):\n",
    "        self.color = color\n",
    "        father.__init__(self,name,age)\n",
    "        mother.__init__(self,height,weight)\n",
    "    def end(self):\n",
    "        print(f\"my color is {self.color} thank you good bye\")\n",
    "c = child(\"sai\",21,\"175cm\",70,\"Brown\")\n",
    "c.introduction()\n",
    "c.more_introduction()\n",
    "c.end()"
   ]
  },
  {
   "cell_type": "markdown",
   "id": "1ba4124f-fb85-4b40-ba81-abb668400f17",
   "metadata": {},
   "source": [
    "# Hierarchical inheritance\n",
    "- hierarchical inheritance is nothing but single parent class has multiple child classes in it.\n"
   ]
  },
  {
   "cell_type": "code",
   "execution_count": 2,
   "id": "456580dc-4c02-4f36-acfb-33e7e646319a",
   "metadata": {},
   "outputs": [
    {
     "name": "stdout",
     "output_type": "stream",
     "text": [
      "puppy is eating\n",
      "puppy is barking\n",
      "pilli is eating\n",
      "pilli is meowing\n"
     ]
    }
   ],
   "source": [
    "class animal:\n",
    "    def __init__(self,name,color):\n",
    "        self.name = name\n",
    "        self.color = color\n",
    "    def eat(self):\n",
    "        print(f\"{self.name} is eating\")\n",
    "class dog(animal):\n",
    "    def bark(self):\n",
    "        print(f\"{self.name} is barking\")\n",
    "class cat(animal):\n",
    "    def meow(self):\n",
    "        print(f\"{self.name} is meowing\")\n",
    "d = dog(\"puppy\",\"black\")\n",
    "d.eat()\n",
    "d.bark()\n",
    "c = cat(\"pilli\",\"white\")\n",
    "c.eat()\n",
    "c.meow()"
   ]
  },
  {
   "cell_type": "code",
   "execution_count": 29,
   "id": "81d3b482-2a79-4f75-b9fd-729bf77331b8",
   "metadata": {},
   "outputs": [
    {
     "name": "stdout",
     "output_type": "stream",
     "text": [
      "hello my name is sai and my age is 21 and i am 175 height\n",
      "hello my name is angle priya and my age is 20 and i am about 80kgs weight\n"
     ]
    }
   ],
   "source": [
    "class father:\n",
    "    def __init__(self,name,age):\n",
    "        self.name = name\n",
    "        self.age = age\n",
    "    def introduction(self):\n",
    "        print(f\"hello my name is {self.name} and my age is {self.age}\")\n",
    "class son(father):\n",
    "    def __init__(self,name,age,height):\n",
    "        self.height = height\n",
    "        father.__init__(self,name,age)\n",
    "    def son_intro(self):\n",
    "        print(f\"hello my name is {self.name} and my age is {self.age} and i am {self.height} height\")\n",
    "class daughter(father):\n",
    "    def __init__(self,name,age,weight):\n",
    "        self.weight = weight\n",
    "        father.__init__(self,name,age)\n",
    "    def daughter_intro(self):\n",
    "        print(f\"hello my name is {self.name} and my age is {self.age} and i am about {self.weight} weight\")\n",
    "s = son(\"sai\",21,175)\n",
    "s.son_intro()\n",
    "d = daughter(\"angle priya\",20,\"80kgs\")\n",
    "d.daughter_intro()"
   ]
  },
  {
   "cell_type": "code",
   "execution_count": 3,
   "id": "9e447b0f-843d-4e4f-88b4-997f2d883b2f",
   "metadata": {},
   "outputs": [
    {
     "name": "stdout",
     "output_type": "stream",
     "text": [
      "hello my name is sai and my age is 20\n"
     ]
    }
   ],
   "source": [
    "# we can directly use parent class instead of initializing the constructors again. \n",
    "class father:\n",
    "    def __init__(self,name,age):\n",
    "        self.name = name\n",
    "        self.age = age\n",
    "    def introduction(self):\n",
    "        print(f\"hello my name is {self.name} and my age is {self.age}\")\n",
    "class son(father):\n",
    "    def son_intro(self):                                                   \n",
    "        print(f\"hello my name is {self.name} and my age is {self.age}\")\n",
    "s = son(\"sai\",20)\n",
    "s.son_intro()"
   ]
  },
  {
   "cell_type": "markdown",
   "id": "59bff4d4-21f7-44df-a3b6-9a9d2820e0d0",
   "metadata": {},
   "source": [
    "# Hybrid Inheritance\n",
    "- hybrid inheritance is nothing but combinatoion of any two or more inheritances is called as hybrid inheritance."
   ]
  },
  {
   "cell_type": "code",
   "execution_count": 5,
   "id": "31bf7fcc-7aea-439d-beca-119e105f78ca",
   "metadata": {},
   "outputs": [
    {
     "name": "stdout",
     "output_type": "stream",
     "text": [
      "puppy is eating\n",
      "puppy is barking\n",
      "puppy is sleeping\n",
      "puppy is playing\n"
     ]
    }
   ],
   "source": [
    "class animal:\n",
    "    def __init__(self,name,color):\n",
    "        self.name = name\n",
    "        self.color = color\n",
    "    def eat(self):\n",
    "        print(f\"{self.name} is eating\")\n",
    "class father_dog(animal):\n",
    "    def bark(self):\n",
    "        print(f\"{self.name} is barking\")\n",
    "class mother_dog(animal):\n",
    "    def sleep(self):\n",
    "        print(f\"{self.name} is sleeping\")\n",
    "class child_dog(father_dog,mother_dog):\n",
    "    def play(self):\n",
    "        print(f\"{self.name} is playing\")\n",
    "d = child_dog(\"puppy\",\"white\")\n",
    "d.eat()\n",
    "d.bark()\n",
    "d.sleep()\n",
    "d.play()"
   ]
  },
  {
   "cell_type": "code",
   "execution_count": 32,
   "id": "da52c099-b450-4803-97c0-6c146ecf39e6",
   "metadata": {},
   "outputs": [
    {
     "name": "stdout",
     "output_type": "stream",
     "text": [
      "son is eating\n",
      "son is working\n",
      "son is taking care of home\n",
      "son is playing\n"
     ]
    }
   ],
   "source": [
    "class grand_father:\n",
    "    def __init__(self,name,age):\n",
    "        self.name = name\n",
    "        self.age = age\n",
    "    def eat(self):\n",
    "        print(f\"{self.name} is eating\")\n",
    "class father(grand_father):\n",
    "    def work(self):\n",
    "        print(f\"{self.name} is working\")\n",
    "class mother:\n",
    "    def __init__(self,name,age):\n",
    "        self.name = name\n",
    "        self.age = age\n",
    "    def take_care(self):\n",
    "        print(f\"{self.name} is taking care of home\")\n",
    "class child(father,mother):\n",
    "    def play(self):\n",
    "        print(f\"{self.name} is playing\")\n",
    "s = child(\"son\",20)\n",
    "s.eat()\n",
    "s.work()\n",
    "s.take_care()\n",
    "s.play()"
   ]
  },
  {
   "cell_type": "code",
   "execution_count": null,
   "id": "6ab1c90e-1f45-467c-b9a6-f0d4899966d1",
   "metadata": {},
   "outputs": [],
   "source": []
  }
 ],
 "metadata": {
  "kernelspec": {
   "display_name": "Python [conda env:base] *",
   "language": "python",
   "name": "conda-base-py"
  },
  "language_info": {
   "codemirror_mode": {
    "name": "ipython",
    "version": 3
   },
   "file_extension": ".py",
   "mimetype": "text/x-python",
   "name": "python",
   "nbconvert_exporter": "python",
   "pygments_lexer": "ipython3",
   "version": "3.12.7"
  }
 },
 "nbformat": 4,
 "nbformat_minor": 5
}
