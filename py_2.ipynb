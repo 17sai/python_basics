{
 "cells": [
  {
   "cell_type": "markdown",
   "id": "c072301b-195e-4bb5-8a97-1a777a949614",
   "metadata": {},
   "source": [
    "# data types:\n",
    "- numbers(int,float,double)\n",
    "- strings\n",
    "- list\n",
    "- tuple\n",
    "- dictionary\n",
    "- set\n",
    "- frozen set\n",
    "- byte\n",
    "- byte array\n",
    "- boolean"
   ]
  },
  {
   "cell_type": "markdown",
   "id": "23d4f0a2-4a82-480f-83d7-700d3d6922d7",
   "metadata": {},
   "source": [
    "# note:\n",
    "- numbers and strings are fundamental data types.\n",
    "- list,tuple and dictionary are advanced data types.\n",
    "- string,list and tuple are sequential data types.\n",
    "- dictionary is mapping data type.\n",
    "- set is unordered data type.\n",
    "- data types upto sets is standard data types.\n",
    "- frozen set,byte,byte array,and boolean are derived data types. "
   ]
  },
  {
   "cell_type": "markdown",
   "id": "474ced1b-4377-493a-af50-2b60343a332a",
   "metadata": {},
   "source": [
    "# i)numbers\n",
    "## integers\n"
   ]
  },
  {
   "cell_type": "code",
   "execution_count": 3,
   "id": "ac195099-5a0d-4d01-af58-cd6358a78fa0",
   "metadata": {},
   "outputs": [
    {
     "name": "stdout",
     "output_type": "stream",
     "text": [
      "5\n",
      "<class 'int'>\n"
     ]
    }
   ],
   "source": [
    "x=5;\n",
    "print(x);\n",
    "print(type(x))"
   ]
  },
  {
   "cell_type": "code",
   "execution_count": 5,
   "id": "20b75cd1-ce63-4364-a2c1-61dc895b8416",
   "metadata": {},
   "outputs": [
    {
     "name": "stdout",
     "output_type": "stream",
     "text": [
      "-4\n",
      "<class 'int'>\n"
     ]
    }
   ],
   "source": [
    "y=-4\n",
    "print(y)\n",
    "print(type(y))"
   ]
  },
  {
   "cell_type": "code",
   "execution_count": 6,
   "id": "5a97c529-e27d-48b4-a16f-44f2c127f985",
   "metadata": {},
   "outputs": [
    {
     "name": "stdout",
     "output_type": "stream",
     "text": [
      "1.0\n",
      "<class 'float'>\n"
     ]
    }
   ],
   "source": [
    "a=1.0\n",
    "print(a)\n",
    "print(type(a))"
   ]
  },
  {
   "cell_type": "code",
   "execution_count": 7,
   "id": "0ad380ab-7bf9-4885-aaf8-c05b2fa99b2f",
   "metadata": {},
   "outputs": [
    {
     "name": "stdout",
     "output_type": "stream",
     "text": [
      "-6.54333\n",
      "<class 'float'>\n"
     ]
    }
   ],
   "source": [
    "b=-6.54333\n",
    "print(b)\n",
    "print(type(b))"
   ]
  },
  {
   "cell_type": "code",
   "execution_count": 2,
   "id": "66fd0ee5-4896-4845-9775-8790cd148d33",
   "metadata": {},
   "outputs": [
    {
     "name": "stdout",
     "output_type": "stream",
     "text": [
      "<class 'float'>\n",
      "1000.0\n"
     ]
    }
   ],
   "source": [
    "x=1e3;\n",
    "print(type(x))\n",
    "print(x)"
   ]
  },
  {
   "cell_type": "code",
   "execution_count": 8,
   "id": "d033c922-d030-4ecf-8ad5-909353c7937b",
   "metadata": {},
   "outputs": [
    {
     "name": "stdout",
     "output_type": "stream",
     "text": [
      "-2.96e-06\n",
      "<class 'float'>\n"
     ]
    }
   ],
   "source": [
    "c=-2.96*10**-6\n",
    "print(c)\n",
    "print(type(c))"
   ]
  },
  {
   "cell_type": "code",
   "execution_count": 9,
   "id": "1f6fdad6-e5ce-4ada-a485-97dc25e3f896",
   "metadata": {},
   "outputs": [
    {
     "name": "stdout",
     "output_type": "stream",
     "text": [
      "(2+5j)\n",
      "<class 'complex'>\n"
     ]
    }
   ],
   "source": [
    "d=2+5j\n",
    "print(d)\n",
    "print(type(d))"
   ]
  },
  {
   "cell_type": "code",
   "execution_count": 10,
   "id": "8fed9578-fdbf-42bb-8fa5-9f928ba8f749",
   "metadata": {},
   "outputs": [
    {
     "name": "stdout",
     "output_type": "stream",
     "text": [
      "(-2-5j)\n",
      "<class 'complex'>\n"
     ]
    }
   ],
   "source": [
    "e=-2-5j\n",
    "print(e)\n",
    "print(type(e))"
   ]
  },
  {
   "cell_type": "code",
   "execution_count": 13,
   "id": "e90755a8-1fac-4165-811a-07828a98c35d",
   "metadata": {},
   "outputs": [
    {
     "name": "stdout",
     "output_type": "stream",
     "text": [
      "(1+0j)\n",
      "<class 'complex'>\n"
     ]
    }
   ],
   "source": [
    "f=1+0j\n",
    "print(f)\n",
    "print(type(f))"
   ]
  },
  {
   "cell_type": "markdown",
   "id": "f684268f-d5e5-44ad-859e-6a69412db176",
   "metadata": {},
   "source": [
    "# type casting\n",
    "- converting a data type into other data type is called type casting.\n",
    "- there are two types 1)auto typecating 2)forced type casting"
   ]
  },
  {
   "cell_type": "code",
   "execution_count": 16,
   "id": "5594c3fa-6379-45e8-9d9d-a3396d7637cc",
   "metadata": {},
   "outputs": [
    {
     "name": "stdout",
     "output_type": "stream",
     "text": [
      "4.6\n",
      "<class 'float'>\n"
     ]
    }
   ],
   "source": [
    "n=1+2.6+True;\n",
    "print(n)\n",
    "print(type(n))"
   ]
  },
  {
   "cell_type": "code",
   "execution_count": 15,
   "id": "45293235-774d-4e18-a0b6-29b3d2e77fc4",
   "metadata": {},
   "outputs": [
    {
     "name": "stdout",
     "output_type": "stream",
     "text": [
      "<class 'int'>\n",
      "<class 'float'>\n",
      "<class 'complex'>\n"
     ]
    }
   ],
   "source": [
    "m=2\n",
    "print(type(m))\n",
    "m=float(m)\n",
    "print(type(m))\n",
    "m=complex(m)\n",
    "print(type(m))"
   ]
  },
  {
   "cell_type": "code",
   "execution_count": 18,
   "id": "ca99653c-a696-4a62-a867-371b07482394",
   "metadata": {},
   "outputs": [
    {
     "name": "stdout",
     "output_type": "stream",
     "text": [
      "<class 'float'>\n",
      "<class 'int'>\n",
      "<class 'complex'>\n"
     ]
    }
   ],
   "source": [
    "h=2.98\n",
    "print(type(h))\n",
    "h=int(h)\n",
    "print(type(h))\n",
    "h=complex(h)\n",
    "print(type(h))"
   ]
  },
  {
   "cell_type": "code",
   "execution_count": 19,
   "id": "799fb15e-4d6d-4d49-9cbb-805ec0b4a498",
   "metadata": {},
   "outputs": [
    {
     "name": "stdout",
     "output_type": "stream",
     "text": [
      "<class 'complex'>\n"
     ]
    },
    {
     "ename": "TypeError",
     "evalue": "int() argument must be a string, a bytes-like object or a real number, not 'complex'",
     "output_type": "error",
     "traceback": [
      "\u001b[0;31m---------------------------------------------------------------------------\u001b[0m",
      "\u001b[0;31mTypeError\u001b[0m                                 Traceback (most recent call last)",
      "Cell \u001b[0;32mIn[19], line 3\u001b[0m\n\u001b[1;32m      1\u001b[0m w\u001b[38;5;241m=\u001b[39m\u001b[38;5;241m1\u001b[39m\u001b[38;5;241m+\u001b[39m\u001b[38;5;241m9\u001b[39mj\n\u001b[1;32m      2\u001b[0m \u001b[38;5;28mprint\u001b[39m(\u001b[38;5;28mtype\u001b[39m(w))\n\u001b[0;32m----> 3\u001b[0m w\u001b[38;5;241m=\u001b[39m\u001b[38;5;28mint\u001b[39m(w)\n\u001b[1;32m      4\u001b[0m \u001b[38;5;28mprint\u001b[39m(\u001b[38;5;28mtype\u001b[39m(w))\n\u001b[1;32m      5\u001b[0m w\u001b[38;5;241m=\u001b[39m\u001b[38;5;28mfloat\u001b[39m(w)\n",
      "\u001b[0;31mTypeError\u001b[0m: int() argument must be a string, a bytes-like object or a real number, not 'complex'"
     ]
    }
   ],
   "source": [
    "w=1+9j\n",
    "print(type(w))\n",
    "w=int(w)\n",
    "print(type(w))\n",
    "w=float(w)\n",
    "print(type(w))"
   ]
  },
  {
   "cell_type": "markdown",
   "id": "613bb146-d141-45f3-ab19-c9660ff3910b",
   "metadata": {},
   "source": [
    "# operators\n",
    "- operators are used to do operations\n",
    "- or operators are the symbols/constructs used to manipulate operandsm"
   ]
  },
  {
   "cell_type": "markdown",
   "id": "15d5aade-6de6-4a35-86f3-5543d36e5c0b",
   "metadata": {},
   "source": [
    "## types of operators\n",
    "- arithematic operators\n",
    "- comparison operators\n",
    "- assignment operators\n",
    "- logical operators\n",
    "- membership operators\n",
    "- identity operators\n",
    "- bitwise operators"
   ]
  },
  {
   "cell_type": "markdown",
   "id": "8faac2a8-9c9a-4f0b-bb01-147a02b74121",
   "metadata": {},
   "source": [
    "### 1.arithematic operators:\n",
    "- addition(+)\n",
    "- sub(-)\n",
    "- division(/)\n",
    "- multi(*)\n",
    "- floor division(//)\n",
    "- remainder(%)\n",
    "- exponential(**)"
   ]
  },
  {
   "cell_type": "code",
   "execution_count": 24,
   "id": "f7c5e3a3-c39e-4492-99eb-e9a0242ccd13",
   "metadata": {},
   "outputs": [
    {
     "name": "stdout",
     "output_type": "stream",
     "text": [
      "15\n",
      "5\n",
      "2.0\n",
      "50\n",
      "2\n",
      "0\n",
      "100000\n"
     ]
    }
   ],
   "source": [
    "a=10\n",
    "b=5\n",
    "c=a+b\n",
    "d=a-b\n",
    "e=a/b\n",
    "f=a*b\n",
    "g=a//b\n",
    "h=a%b\n",
    "i=a**b\n",
    "print(c)\n",
    "print(d)\n",
    "print(e)\n",
    "print(f)\n",
    "print(g)\n",
    "print(h)\n",
    "print(i)"
   ]
  },
  {
   "cell_type": "markdown",
   "id": "11a95b60-f7dc-46be-8652-64740cb56e9c",
   "metadata": {},
   "source": [
    "### 2.comparison operator\n",
    "- >,<,>=,<=,==,!=."
   ]
  },
  {
   "cell_type": "code",
   "execution_count": 25,
   "id": "5d1cb36c-b0c2-4dce-a984-d0b2e238769c",
   "metadata": {},
   "outputs": [
    {
     "name": "stdout",
     "output_type": "stream",
     "text": [
      "False\n",
      "True\n",
      "False\n",
      "True\n",
      "False\n",
      "True\n"
     ]
    }
   ],
   "source": [
    "x=6\n",
    "y=8\n",
    "print(x>y)\n",
    "print(x<y)\n",
    "print(x>=y)\n",
    "print(x<=y)\n",
    "print(x==y)\n",
    "print(x!=y)"
   ]
  },
  {
   "cell_type": "markdown",
   "id": "5e3f9254-a37c-460c-b9a1-12676ce835dc",
   "metadata": {},
   "source": [
    "# comments \n",
    "- comments is written with \"#\".\n",
    "- comments are of 2 types(single line,multi-line comments)\n",
    "- single line comments can be defined by \"#\"\n",
    "- multiple line comments can be defined by(\"\"\"  \"\"\" or '''  ''')"
   ]
  }
 ],
 "metadata": {
  "kernelspec": {
   "display_name": "Python [conda env:base] *",
   "language": "python",
   "name": "conda-base-py"
  },
  "language_info": {
   "codemirror_mode": {
    "name": "ipython",
    "version": 3
   },
   "file_extension": ".py",
   "mimetype": "text/x-python",
   "name": "python",
   "nbconvert_exporter": "python",
   "pygments_lexer": "ipython3",
   "version": "3.12.7"
  }
 },
 "nbformat": 4,
 "nbformat_minor": 5
}
