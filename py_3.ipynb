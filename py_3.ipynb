{
 "cells": [
  {
   "cell_type": "markdown",
   "id": "d0b82976-7972-4ea4-80d5-9d9a3f105edb",
   "metadata": {},
   "source": [
    "# assignment operator\n",
    "- assignment operators are used to assign valuses(=).\n",
    "- modification/change,value will be assigned to left side of the variable.\n",
    "## note:\n",
    "- assignment operator uses arthametic operators but the process of assignment changes."
   ]
  },
  {
   "cell_type": "code",
   "execution_count": 10,
   "id": "4859db14-213d-488e-895b-9e1572101347",
   "metadata": {},
   "outputs": [
    {
     "name": "stdout",
     "output_type": "stream",
     "text": [
      "14\n",
      "19\n",
      "15\n",
      "75\n",
      "15.0\n"
     ]
    }
   ],
   "source": [
    "a = 5\n",
    "b = 4\n",
    "c = a + b\n",
    "c += a      #here this += defines the assignment operator\n",
    "print(c)\n",
    "c += a\n",
    "print(c)\n",
    "c -= b\n",
    "print(c)\n",
    "c *= a\n",
    "print(c)\n",
    "c /= a\n",
    "print(c)"
   ]
  },
  {
   "cell_type": "markdown",
   "id": "a1119fcc-cc6f-407e-bfd2-e2b3cb7cf103",
   "metadata": {},
   "source": [
    "# logical operators\n",
    "- logical and\n",
    "- logical or\n",
    "- logical not"
   ]
  },
  {
   "cell_type": "markdown",
   "id": "f4ab7ae8-bb42-4ac2-a13c-e3b31d12d99b",
   "metadata": {},
   "source": [
    "## 1.logical and:\n",
    "- here both the conditions should be true to get output as true"
   ]
  },
  {
   "cell_type": "code",
   "execution_count": 12,
   "id": "3630fa3f-fc9d-48cb-8101-195718ab0fe8",
   "metadata": {},
   "outputs": [
    {
     "name": "stdout",
     "output_type": "stream",
     "text": [
      "False\n"
     ]
    }
   ],
   "source": [
    "a = 5\n",
    "b = 4\n",
    "print(a>b and b>a)"
   ]
  },
  {
   "cell_type": "code",
   "execution_count": 18,
   "id": "2611265e-1d73-4e7a-a8da-5d0e7253233a",
   "metadata": {},
   "outputs": [
    {
     "name": "stdout",
     "output_type": "stream",
     "text": [
      "4\n"
     ]
    }
   ],
   "source": [
    "print(a and b)   #here if left side value of and is non-zero then it prints right side value as output."
   ]
  },
  {
   "cell_type": "code",
   "execution_count": 17,
   "id": "5f91abaa-d959-40c9-89cb-1fb74d49ad15",
   "metadata": {},
   "outputs": [
    {
     "name": "stdout",
     "output_type": "stream",
     "text": [
      "0\n"
     ]
    }
   ],
   "source": [
    "x = 0\n",
    "y = 5\n",
    "print(x and y)   #here left value is zero so it prints 0 directly as output"
   ]
  },
  {
   "cell_type": "markdown",
   "id": "25d9f40f-3200-42aa-b74e-5144872114da",
   "metadata": {},
   "source": [
    "## 2.logical or:\n",
    "- here at least one condition should be true to get output as true"
   ]
  },
  {
   "cell_type": "code",
   "execution_count": 23,
   "id": "18881deb-26d6-49b0-8203-eb52e2453c8c",
   "metadata": {},
   "outputs": [
    {
     "name": "stdout",
     "output_type": "stream",
     "text": [
      "True\n"
     ]
    }
   ],
   "source": [
    "a = 5\n",
    "b = 6\n",
    "print(a>b or b>a)"
   ]
  },
  {
   "cell_type": "code",
   "execution_count": 30,
   "id": "103f2163-e8a8-43f5-99cc-ccc26d4cdb73",
   "metadata": {},
   "outputs": [
    {
     "name": "stdout",
     "output_type": "stream",
     "text": [
      "2\n"
     ]
    }
   ],
   "source": [
    "x = 0 \n",
    "y = 2\n",
    "print(x or y)    #here left value is 0 then it gives right value as output"
   ]
  },
  {
   "cell_type": "code",
   "execution_count": 31,
   "id": "f17d96e1-50c8-4ccc-a771-c8528f8972c9",
   "metadata": {},
   "outputs": [
    {
     "name": "stdout",
     "output_type": "stream",
     "text": [
      "2\n"
     ]
    }
   ],
   "source": [
    "m = 2\n",
    "n = 0\n",
    "print(m or n)   #And if left side value is not 0 then it prints left value only   "
   ]
  },
  {
   "cell_type": "code",
   "execution_count": 32,
   "id": "246d1418-08d2-4cf6-a2d2-0e4a769c28a6",
   "metadata": {},
   "outputs": [
    {
     "name": "stdout",
     "output_type": "stream",
     "text": [
      "3\n"
     ]
    }
   ],
   "source": [
    "q = 3\n",
    "u = 2\n",
    "print(q or u)    #here it prints the left value itself only because both the values are not 0"
   ]
  },
  {
   "cell_type": "code",
   "execution_count": 29,
   "id": "af2f2f5e-ebe0-4edb-afd1-d09e57c934bb",
   "metadata": {},
   "outputs": [
    {
     "name": "stdout",
     "output_type": "stream",
     "text": [
      "2\n"
     ]
    }
   ],
   "source": [
    "d = 2\n",
    "e = 3\n",
    "print(d or e)"
   ]
  },
  {
   "cell_type": "markdown",
   "id": "89fa697f-9456-4952-aa3f-6d8a4f0b6564",
   "metadata": {},
   "source": [
    "## 3.logical not:\n",
    "- it gives opposite output to the given input\n",
    "### note:\n",
    "- if value of a variable is other then 0 then its \"True\" or else its \"false\"."
   ]
  },
  {
   "cell_type": "code",
   "execution_count": 35,
   "id": "e53f4167-cb18-4a48-8452-6485dbb2c50b",
   "metadata": {},
   "outputs": [
    {
     "name": "stdout",
     "output_type": "stream",
     "text": [
      "False\n"
     ]
    }
   ],
   "source": [
    "a = True\n",
    "print(not a)"
   ]
  },
  {
   "cell_type": "code",
   "execution_count": 36,
   "id": "1bdf954b-c589-4e94-8cad-e7bc7193de9d",
   "metadata": {},
   "outputs": [
    {
     "name": "stdout",
     "output_type": "stream",
     "text": [
      "True\n"
     ]
    }
   ],
   "source": [
    "b = False\n",
    "print( not b)"
   ]
  },
  {
   "cell_type": "code",
   "execution_count": 37,
   "id": "115ca5a3-42ce-447b-8e11-355bb0b62222",
   "metadata": {},
   "outputs": [
    {
     "name": "stdout",
     "output_type": "stream",
     "text": [
      "False\n"
     ]
    }
   ],
   "source": [
    "a = 3\n",
    "print( not a)"
   ]
  },
  {
   "cell_type": "code",
   "execution_count": 38,
   "id": "ecf8940f-e586-4cd8-a5c8-08c48882560b",
   "metadata": {},
   "outputs": [
    {
     "name": "stdout",
     "output_type": "stream",
     "text": [
      "True\n"
     ]
    }
   ],
   "source": [
    "b = 0\n",
    "print( not b)"
   ]
  },
  {
   "cell_type": "code",
   "execution_count": 39,
   "id": "5b9f2c2f-4986-46d8-9522-4968290243c0",
   "metadata": {},
   "outputs": [
    {
     "name": "stdout",
     "output_type": "stream",
     "text": [
      "False\n"
     ]
    }
   ],
   "source": [
    "c = 5.6\n",
    "print(not c)"
   ]
  },
  {
   "cell_type": "code",
   "execution_count": 40,
   "id": "cbd5e0c5-8d1b-42ce-b501-48eeeceb404e",
   "metadata": {},
   "outputs": [
    {
     "name": "stdout",
     "output_type": "stream",
     "text": [
      "False\n"
     ]
    }
   ],
   "source": [
    "d = -4.7\n",
    "print( not d)"
   ]
  },
  {
   "cell_type": "markdown",
   "id": "4b433534-6da9-4cdd-8626-8aac718ae334",
   "metadata": {},
   "source": [
    "# membership operator\n",
    "- \"in\" is the membership operator in python"
   ]
  },
  {
   "cell_type": "code",
   "execution_count": 42,
   "id": "a3044e9c-6b11-4ed0-8794-156714c45b19",
   "metadata": {},
   "outputs": [
    {
     "name": "stdout",
     "output_type": "stream",
     "text": [
      "True\n"
     ]
    }
   ],
   "source": [
    "a=\"sai santhosh\"\n",
    "print(\"a\" in a)"
   ]
  },
  {
   "cell_type": "code",
   "execution_count": 44,
   "id": "40f8c898-653b-4fb0-80da-1e83c6338d81",
   "metadata": {},
   "outputs": [
    {
     "name": "stdout",
     "output_type": "stream",
     "text": [
      "True\n"
     ]
    }
   ],
   "source": [
    "print(\" \" in a)    #it checks the space in a."
   ]
  },
  {
   "cell_type": "markdown",
   "id": "3e65eb00-7e46-4996-a3f1-517f11bee4dc",
   "metadata": {},
   "source": [
    "# identity operator \n",
    "- \"is\" is the identity operator in python\n",
    "## note:\n",
    "- \"is\" is used to compare both value and memory address.\n",
    "- and \"==\" is used only to campare both the values."
   ]
  },
  {
   "cell_type": "code",
   "execution_count": 49,
   "id": "064c17af-becb-41a6-ae63-bbaf7059f8cb",
   "metadata": {},
   "outputs": [
    {
     "name": "stdout",
     "output_type": "stream",
     "text": [
      "True\n"
     ]
    },
    {
     "name": "stderr",
     "output_type": "stream",
     "text": [
      "<>:1: SyntaxWarning: \"is\" with 'str' literal. Did you mean \"==\"?\n",
      "<>:1: SyntaxWarning: \"is\" with 'str' literal. Did you mean \"==\"?\n",
      "/var/folders/ts/2fk00y9s3yd_bbtmwh9z_x580000gn/T/ipykernel_1270/88953525.py:1: SyntaxWarning: \"is\" with 'str' literal. Did you mean \"==\"?\n",
      "  print(\"data\" is \"data\")\n"
     ]
    }
   ],
   "source": [
    "print(\"data\" is \"data\")"
   ]
  },
  {
   "cell_type": "markdown",
   "id": "549fdea7-05cd-4934-9243-2430a7b7a624",
   "metadata": {},
   "source": [
    "# bitwise operator\n",
    "- bitwise and\n",
    "- bitwise or\n",
    "- bitwise not\n",
    "- right shift\n",
    "- left shift"
   ]
  },
  {
   "cell_type": "markdown",
   "id": "1de2daf1-7aab-4cd2-8ca6-02df8718cb34",
   "metadata": {},
   "source": [
    "## 1.bitwise and (&)\n",
    "- it multiplies the binary values of the values and gives output"
   ]
  },
  {
   "cell_type": "code",
   "execution_count": 50,
   "id": "e8340871-4006-46b2-854e-d89673a2c9ea",
   "metadata": {},
   "outputs": [
    {
     "name": "stdout",
     "output_type": "stream",
     "text": [
      "0\n"
     ]
    }
   ],
   "source": [
    "a = 3\n",
    "b = 4\n",
    "print(a & b)"
   ]
  },
  {
   "cell_type": "code",
   "execution_count": null,
   "id": "1792609a-861d-4503-b52f-62794be8e94c",
   "metadata": {},
   "outputs": [],
   "source": []
  }
 ],
 "metadata": {
  "kernelspec": {
   "display_name": "Python [conda env:base] *",
   "language": "python",
   "name": "conda-base-py"
  },
  "language_info": {
   "codemirror_mode": {
    "name": "ipython",
    "version": 3
   },
   "file_extension": ".py",
   "mimetype": "text/x-python",
   "name": "python",
   "nbconvert_exporter": "python",
   "pygments_lexer": "ipython3",
   "version": "3.12.7"
  }
 },
 "nbformat": 4,
 "nbformat_minor": 5
}
