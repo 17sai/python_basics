{
 "cells": [
  {
   "cell_type": "markdown",
   "id": "473b7e88-21c0-4ea4-8f7a-23e7065b9f21",
   "metadata": {},
   "source": [
    "## bitwise or\n",
    "- bitwise or is represented by (|).\n",
    "- here addition between the binary numbers are done to get the result."
   ]
  },
  {
   "cell_type": "code",
   "execution_count": 3,
   "id": "99a2730a-808f-4689-869e-e0a316a4e191",
   "metadata": {},
   "outputs": [
    {
     "name": "stdout",
     "output_type": "stream",
     "text": [
      "5\n"
     ]
    }
   ],
   "source": [
    "a = 5                #o101\n",
    "b = 4                #0100              \n",
    "print(a | b)         #result:-0101"
   ]
  },
  {
   "cell_type": "markdown",
   "id": "b2ea4de1-de1f-4169-b8c3-ac86fc1ce1a1",
   "metadata": {},
   "source": [
    "## bitwise not\n",
    "- bitwise not is defined by tilda(~)."
   ]
  },
  {
   "cell_type": "code",
   "execution_count": 5,
   "id": "365b179e-6dc4-4fc6-8adc-3e3bea1cd4d2",
   "metadata": {},
   "outputs": [
    {
     "name": "stdout",
     "output_type": "stream",
     "text": [
      "-7\n"
     ]
    }
   ],
   "source": [
    "a = 6\n",
    "print(~a)       #it follows \"-(a + 1)\"."
   ]
  },
  {
   "cell_type": "markdown",
   "id": "105e8904-55f2-436e-b885-810412dc311f",
   "metadata": {},
   "source": [
    "## right shift\n",
    "- right shift is defined by (>>).\n",
    "- here right shift is ntg but shifting the binary values 1 step to there right side.\n",
    "- we can shift as many times as possible by mentioning >>1,>>2,>>3....but until the value is 0 we can shift after that it wont work.\n",
    "- here is a formulae to find the value ((operant 1)/(2**operant2))"
   ]
  },
  {
   "cell_type": "code",
   "execution_count": 10,
   "id": "88e613cf-5be0-477b-a2e9-16b7a1a35885",
   "metadata": {},
   "outputs": [
    {
     "name": "stdout",
     "output_type": "stream",
     "text": [
      "3\n"
     ]
    }
   ],
   "source": [
    "a = 7\n",
    "print(a>>1)      #single right shift is done "
   ]
  },
  {
   "cell_type": "code",
   "execution_count": 9,
   "id": "795ec234-1000-45f0-9fbf-f0bd81bd07f7",
   "metadata": {},
   "outputs": [
    {
     "name": "stdout",
     "output_type": "stream",
     "text": [
      "2\n"
     ]
    }
   ],
   "source": [
    "a = 10\n",
    "print(a>>2)      #2 times the right shift is done "
   ]
  },
  {
   "cell_type": "markdown",
   "id": "22cc8eaa-0ccb-4556-b500-372dc4c027a8",
   "metadata": {},
   "source": [
    "## left shift\n",
    "- left shift is defined by(<<).\n",
    "- here shifting the binary values to its left side is done.\n",
    "- we can shift as many times as possible like a<<1,a<<2,a<<3......\n",
    "- here is a formulae to find the value (ope1 * 2**ope2)"
   ]
  },
  {
   "cell_type": "code",
   "execution_count": 14,
   "id": "fcdff08e-5342-4f51-8fad-c9bdbee21f6e",
   "metadata": {},
   "outputs": [
    {
     "name": "stdout",
     "output_type": "stream",
     "text": [
      "8\n",
      "16\n",
      "32\n"
     ]
    }
   ],
   "source": [
    "x = 4\n",
    "print(x<<1)\n",
    "print(x<<2)\n",
    "print(x<<3)"
   ]
  },
  {
   "cell_type": "markdown",
   "id": "336c9322-6f34-4efd-80f4-9a760b29c7c3",
   "metadata": {},
   "source": [
    "# strings\n",
    "- string is a collection of characters.\n",
    "- it includes characters,numbers,symbols,special characters.\n",
    "- we can represents by single quotes('') or double quotes(\"\") or single triple quotes(''' ''') or double triple quotes(\"\"\" \"\"\").\n",
    "- for single line we use single quotes and double quotes.\n",
    "- for multiple line we use single triple quotes and double triple quotes."
   ]
  },
  {
   "cell_type": "code",
   "execution_count": 16,
   "id": "2e272881-9771-4f28-ac03-fd8d347e0d8b",
   "metadata": {},
   "outputs": [
    {
     "name": "stdout",
     "output_type": "stream",
     "text": [
      "<class 'str'>\n"
     ]
    }
   ],
   "source": [
    "a = \"sai santhosh\"\n",
    "print(type(a))"
   ]
  },
  {
   "cell_type": "code",
   "execution_count": 19,
   "id": "a44845c8-7b8f-47cc-b236-d0999f78fafd",
   "metadata": {},
   "outputs": [
    {
     "name": "stdout",
     "output_type": "stream",
     "text": [
      "hello world,\n",
      "good moring\n",
      "<class 'str'>\n"
     ]
    }
   ],
   "source": [
    "\"\"\" this progeram is about\n",
    "triple quotes\"\"\"\n",
    "b = \"\"\"hello world,\n",
    "good moring\"\"\"\n",
    "print(b)\n",
    "print(type(b))"
   ]
  },
  {
   "cell_type": "markdown",
   "id": "603f908a-1f59-4e52-8488-f0f30a0f1b30",
   "metadata": {},
   "source": [
    "# string indexing\n",
    "- index will represent what is the position of the element.\n",
    "- indexing in python starts from \"0\".\n",
    "- there are two types of indexing in python 1.positive indexing 2.negative indexing\n",
    "- positive indexing starts from left to right.\n",
    "- negative indexing starts from right to left and not \"0\" its \"-1\"."
   ]
  },
  {
   "cell_type": "code",
   "execution_count": 28,
   "id": "ab27485a-ae42-4d23-aef5-b47f9abc480e",
   "metadata": {},
   "outputs": [
    {
     "name": "stdout",
     "output_type": "stream",
     "text": [
      "i\n",
      "a\n",
      "n\n",
      "o\n"
     ]
    }
   ],
   "source": [
    "a = \"sai santhosh\"\n",
    "print(a[2])\n",
    "print(a[5])\n",
    "print(a[-6])\n",
    "print(a[-3])"
   ]
  },
  {
   "cell_type": "markdown",
   "id": "830a9cb1-a084-484e-8aa4-e41ad3546b30",
   "metadata": {},
   "source": [
    "# string slicing\n",
    "- slicing is seperating the values from an element or bunch of elements.\n",
    "- there are two types of slicing 1.positive slicing 2.negative slicing.\n",
    "- string slicing cna be done using the syntax \"[starting_index_value : next_to_end_index_value]\"\n",
    "- here slicing is done from given index but stops before the end given value(n-1).\n",
    "- here we can use \"step\" method to skip the elements in between example:- x[start:stop:step].\n",
    "- NOTE: negative slicing require \"-1\" to get string in reverse order. "
   ]
  },
  {
   "cell_type": "code",
   "execution_count": 49,
   "id": "56ca3fd1-ccf8-4097-b328-abb7e9d763d4",
   "metadata": {},
   "outputs": [
    {
     "name": "stdout",
     "output_type": "stream",
     "text": [
      "ai san\n",
      "sai sa\n",
      "\n",
      "nthosh maddibooyena\n",
      "santhosh maddiboo\n",
      "isn\n",
      "\n",
      "sa\n"
     ]
    }
   ],
   "source": [
    "x = \"sai santhosh maddibooyena\"\n",
    "print(x[1:7])\n",
    "print(x[ :6])\n",
    "print(x[-1:-4])       #here it gives blank because python slicing only slices from left to right \n",
    "print(x[6:])\n",
    "print(x[4:-4])\n",
    "print(x[2:8:2])\n",
    "print(x[4:10:-5])     #here it gives blank because start index should be greater than end index value.\n",
    "print(x[10:4:-5])"
   ]
  },
  {
   "cell_type": "code",
   "execution_count": 48,
   "id": "521ee258-0c74-40c0-9857-bb99a60a6483",
   "metadata": {},
   "outputs": [
    {
     "name": "stdout",
     "output_type": "stream",
     "text": [
      "e\n",
      "pyt\n",
      "typ\n",
      "nohtyp olleh\n"
     ]
    }
   ],
   "source": [
    "y = \"hello python\"\n",
    "print(y[-11])\n",
    "print(y[-6:-3])     #slicing always starts from left to right.\n",
    "print(y[-4:-7:-1])  #here negative step gives in reverse order.\n",
    "print(y[-1::-1])"
   ]
  },
  {
   "cell_type": "code",
   "execution_count": 10,
   "id": "83c2408d-e7e3-41af-b5fa-0e7be354a86d",
   "metadata": {},
   "outputs": [
    {
     "name": "stdout",
     "output_type": "stream",
     "text": [
      "innomatics\n",
      "research\n",
      "labs\n"
     ]
    }
   ],
   "source": [
    "s = \"innomatics research labs\"\n",
    "print(s[-24:-14])\n",
    "print(s[-13:-5])\n",
    "print(s[-4:])"
   ]
  }
 ],
 "metadata": {
  "kernelspec": {
   "display_name": "Python [conda env:base] *",
   "language": "python",
   "name": "conda-base-py"
  },
  "language_info": {
   "codemirror_mode": {
    "name": "ipython",
    "version": 3
   },
   "file_extension": ".py",
   "mimetype": "text/x-python",
   "name": "python",
   "nbconvert_exporter": "python",
   "pygments_lexer": "ipython3",
   "version": "3.12.7"
  }
 },
 "nbformat": 4,
 "nbformat_minor": 5
}
