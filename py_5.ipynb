{
 "cells": [
  {
   "cell_type": "markdown",
   "id": "22ebd8ee-cbf5-4a4d-9173-740c31e1f455",
   "metadata": {},
   "source": [
    "# monthly expenditure"
   ]
  },
  {
   "cell_type": "code",
   "execution_count": 3,
   "id": "6e7deda5-369b-4570-9117-11d26257e4da",
   "metadata": {},
   "outputs": [
    {
     "name": "stdin",
     "output_type": "stream",
     "text": [
      " 20000\n",
      " 10000\n",
      " 1500\n",
      " 500\n",
      " 500\n"
     ]
    },
    {
     "name": "stdout",
     "output_type": "stream",
     "text": [
      "your salary is 20000.0\n",
      "your total expenditure is 12500.0\n",
      "your savings is 7500.0\n"
     ]
    }
   ],
   "source": [
    "salary = float(input())\n",
    "rent = float(input())\n",
    "groc_exp = float(input())\n",
    "mobile_recharge = float(input())\n",
    "other_exp=float(input())\n",
    "total_exp = rent + groc_exp + mobile_recharge + other_exp\n",
    "print(f\"your salary is {salary}\")\n",
    "print(f\"your total expenditure is {total_exp}\")\n",
    "print(f\"your savings is {salary - total_exp}\")"
   ]
  },
  {
   "cell_type": "markdown",
   "id": "7150da84-0d3f-4105-ac33-4552a878fb00",
   "metadata": {},
   "source": [
    "# student marksheet mini-project"
   ]
  },
  {
   "cell_type": "code",
   "execution_count": 4,
   "id": "985f2751-0dc7-4ab7-8b84-d883d07c149d",
   "metadata": {},
   "outputs": [
    {
     "name": "stdin",
     "output_type": "stream",
     "text": [
      " sai santhosh\n",
      " 93\n",
      " 83\n",
      " 73\n"
     ]
    },
    {
     "name": "stdout",
     "output_type": "stream",
     "text": [
      "student name is sai santhosh\n",
      "your total marks is 249\n",
      "percentage is 83.0\n"
     ]
    }
   ],
   "source": [
    "stu_name = input()\n",
    "math_marks = int(input())\n",
    "science_marks = int(input())\n",
    "english_marks = int(input())\n",
    "total_marks = math_marks + science_marks + english_marks\n",
    "percentage = (total_marks/300)*100\n",
    "print(f\"student name is {stu_name}\")\n",
    "print(f\"your total marks is {total_marks}\")\n",
    "print(f\"percentage is {percentage}\")"
   ]
  },
  {
   "cell_type": "markdown",
   "id": "f6e4141d-02be-4772-879d-85b1391e9b71",
   "metadata": {},
   "source": [
    "# Body Mass Index mini-project"
   ]
  },
  {
   "cell_type": "code",
   "execution_count": 6,
   "id": "809eaa46-892d-44c9-b9f0-44c3aa64aa19",
   "metadata": {},
   "outputs": [
    {
     "name": "stdin",
     "output_type": "stream",
     "text": [
      " sai santhosh\n",
      " 75\n",
      " 1.65\n"
     ]
    },
    {
     "name": "stdout",
     "output_type": "stream",
     "text": [
      "sai santhosh\n",
      "your body mass index is 27.55\n"
     ]
    }
   ],
   "source": [
    "user_name = input()\n",
    "weight = float(input())\n",
    "height = float(input())\n",
    "BMI = weight / (height ** 2)\n",
    "print(user_name)\n",
    "print(f\"your body mass index is {round(BMI,2)}\")"
   ]
  },
  {
   "cell_type": "code",
   "execution_count": null,
   "id": "89c8584f-d59e-4a8b-957b-fc26d31ca590",
   "metadata": {},
   "outputs": [],
   "source": []
  }
 ],
 "metadata": {
  "kernelspec": {
   "display_name": "Python [conda env:base] *",
   "language": "python",
   "name": "conda-base-py"
  },
  "language_info": {
   "codemirror_mode": {
    "name": "ipython",
    "version": 3
   },
   "file_extension": ".py",
   "mimetype": "text/x-python",
   "name": "python",
   "nbconvert_exporter": "python",
   "pygments_lexer": "ipython3",
   "version": "3.12.7"
  }
 },
 "nbformat": 4,
 "nbformat_minor": 5
}
