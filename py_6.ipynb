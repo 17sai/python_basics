{
 "cells": [
  {
   "cell_type": "markdown",
   "id": "27602f2c-cfe6-4c91-b892-4ba0fa87894f",
   "metadata": {},
   "source": [
    "# string methods/built-in functions"
   ]
  },
  {
   "cell_type": "markdown",
   "id": "e96fa294-a5b1-4f44-b609-7a98e1884fff",
   "metadata": {},
   "source": [
    "## 1.lenght function(len()):\n",
    "- to know the lenght/no.of characters in a string of the string."
   ]
  },
  {
   "cell_type": "code",
   "execution_count": 65,
   "id": "fef95df3-ac20-48d5-a287-a93b72585366",
   "metadata": {},
   "outputs": [
    {
     "name": "stdout",
     "output_type": "stream",
     "text": [
      "12\n"
     ]
    }
   ],
   "source": [
    "x = \"sai santhosh\"\n",
    "print(len(x))"
   ]
  },
  {
   "cell_type": "markdown",
   "id": "55863b5d-b9aa-4582-b9ce-2a0a27fdb9f2",
   "metadata": {},
   "source": [
    "## 2.upper and lower functions:\n",
    "- upper() method converts all characters into captial letters.\n",
    "- lower() method converts all characters into lower letters."
   ]
  },
  {
   "cell_type": "code",
   "execution_count": 66,
   "id": "faf6d67f-5ab7-4a37-975d-2004b41d8c91",
   "metadata": {},
   "outputs": [
    {
     "name": "stdout",
     "output_type": "stream",
     "text": [
      "SAI SANTHOSH\n",
      "sai santhosh\n"
     ]
    }
   ],
   "source": [
    "x = \"sai santhosh\"\n",
    "print(x.upper())\n",
    "print(x.lower())"
   ]
  },
  {
   "cell_type": "markdown",
   "id": "c2f266ca-2e5a-48a2-91da-4de3ba8286e1",
   "metadata": {},
   "source": [
    "## 3.capitalize() method:\n",
    "- it converts first letter into capital "
   ]
  },
  {
   "cell_type": "code",
   "execution_count": 67,
   "id": "4991acc8-7b85-43e5-889e-bd39f8ab24f9",
   "metadata": {},
   "outputs": [
    {
     "name": "stdout",
     "output_type": "stream",
     "text": [
      "Sai santhosh\n"
     ]
    }
   ],
   "source": [
    "print(x.capitalize())"
   ]
  },
  {
   "cell_type": "markdown",
   "id": "08f201e8-76bb-4130-9329-ed515140cabc",
   "metadata": {},
   "source": [
    "## 4.title() method:\n",
    "- it converts every word first letter into capital letter"
   ]
  },
  {
   "cell_type": "code",
   "execution_count": 68,
   "id": "a9022650-e7fc-47bd-b924-df1d5f4f6b77",
   "metadata": {},
   "outputs": [
    {
     "name": "stdout",
     "output_type": "stream",
     "text": [
      "Sai Santhosh\n"
     ]
    }
   ],
   "source": [
    "print(x.title())"
   ]
  },
  {
   "cell_type": "markdown",
   "id": "34cb58fe-2e6b-4b64-acd7-bafbac841c21",
   "metadata": {},
   "source": [
    "## 5.count() method\n",
    "- count is used to count the number of characters in a main string."
   ]
  },
  {
   "cell_type": "code",
   "execution_count": 69,
   "id": "52914031-9b77-4335-be2c-778f1a92248b",
   "metadata": {},
   "outputs": [
    {
     "name": "stdout",
     "output_type": "stream",
     "text": [
      "3\n",
      "2\n",
      "1\n"
     ]
    }
   ],
   "source": [
    "print(x.count(\"s\"))\n",
    "print(x.count(\"a\"))\n",
    "print(x.count(\"n\"))"
   ]
  },
  {
   "cell_type": "markdown",
   "id": "054851e9-d92d-45c9-8e45-b18402c32cb3",
   "metadata": {},
   "source": [
    "## 6.startswith() and endswith() methods:\n",
    "- startswith method is used to check wheather it starts with particular character or not.\n",
    "- similary endswith() is used to check weather it ends with the particular character or not."
   ]
  },
  {
   "cell_type": "code",
   "execution_count": 70,
   "id": "928e95c7-422a-4e28-bc98-bfba857a82b1",
   "metadata": {},
   "outputs": [
    {
     "name": "stdout",
     "output_type": "stream",
     "text": [
      "True\n",
      "False\n",
      "False\n",
      "True\n",
      "False\n"
     ]
    }
   ],
   "source": [
    "print(x.startswith(\"s\"))\n",
    "print(x.startswith(\"S\"))\n",
    "print(x.endswith(\"f\"))\n",
    "print(x.endswith(\"h\"))\n",
    "print(x.endswith(\"H\"))        #as python is case sensitive it gives false as output"
   ]
  },
  {
   "cell_type": "markdown",
   "id": "85c10f70-5f7c-4ee3-b825-b05c1c9122eb",
   "metadata": {},
   "source": [
    "## 7.find() and index methods\n",
    "- find() is used to get the index value same as index method.\n",
    "- both gives only the first occurance of the given charater."
   ]
  },
  {
   "cell_type": "code",
   "execution_count": 71,
   "id": "6fb7966d-1c62-4513-958d-8ab665c71c1d",
   "metadata": {},
   "outputs": [
    {
     "name": "stdout",
     "output_type": "stream",
     "text": [
      "1\n",
      "1\n",
      "15\n",
      "21\n"
     ]
    }
   ],
   "source": [
    "y = \"innomatics research labs\"\n",
    "print(y.find(\"n\"))\n",
    "print(y.index(\"n\"))\n",
    "print(y.find(\"ar\"))\n",
    "print(y.index(\"ab\"))"
   ]
  },
  {
   "cell_type": "markdown",
   "id": "94a8e649-cb58-4853-9017-99fdb2d14aac",
   "metadata": {},
   "source": [
    "## 8.isdigit() method:\n",
    "- it is used to check weather the given string consist of numeric or not.\n",
    "- here evrey substring should be numeric to get true."
   ]
  },
  {
   "cell_type": "code",
   "execution_count": 72,
   "id": "351a8879-305b-4542-85a8-f87c33f105de",
   "metadata": {},
   "outputs": [
    {
     "name": "stdout",
     "output_type": "stream",
     "text": [
      "False\n",
      "True\n"
     ]
    }
   ],
   "source": [
    "q = \"hello123\"                #here string has characters in it so it gives false. \n",
    "print(q.isdigit())\n",
    "m = \"123\"\n",
    "print(m.isdigit())           #here the whole string consist of numbers in it so it gives true."
   ]
  },
  {
   "cell_type": "markdown",
   "id": "425d16c2-ead6-4905-8c38-170d79486d43",
   "metadata": {},
   "source": [
    "## 9.replace() method\n",
    "- replace method is used to replace any sub-string with new replacement value."
   ]
  },
  {
   "cell_type": "code",
   "execution_count": 73,
   "id": "09f803a2-1f2c-40f5-bfdd-43bea5c587c1",
   "metadata": {},
   "outputs": [
    {
     "name": "stdout",
     "output_type": "stream",
     "text": [
      "smi smnthosh\n"
     ]
    }
   ],
   "source": [
    "x = \"sai santhosh\"\n",
    "y = x.replace(\"a\",\"m\")         #as strings as immutable so it can be saved in other variables.      \n",
    "print(y)"
   ]
  },
  {
   "cell_type": "code",
   "execution_count": 74,
   "id": "2781e48f-f48e-463e-b18f-82fcdeca9a67",
   "metadata": {},
   "outputs": [
    {
     "name": "stdout",
     "output_type": "stream",
     "text": [
      "hmnlo\n",
      "hello\n"
     ]
    }
   ],
   "source": [
    "a = \"hello\"\n",
    "print(a.replace(\"el\",\"mn\"))      #temporarily replaced.\n",
    "print(a)"
   ]
  },
  {
   "cell_type": "markdown",
   "id": "15a7074b-f3e1-4c70-87e2-256ce257f66c",
   "metadata": {},
   "source": [
    "## 10.strip() method\n",
    "- strip method is used to remove leading and trailing spaces of the string.\n",
    "- nothing but used to remove the starting and ending spaces in the string.\n",
    "- strip() method has two types i)lstrip() and ii)rstrip().\n",
    "- lstrip() is used to remove left side spaces i.e starting spaces.\n",
    "- rstrip() is used to remove right side spaces i.e ending spaces in a string."
   ]
  },
  {
   "cell_type": "code",
   "execution_count": 75,
   "id": "7d06b0c2-6825-42c2-be45-5f8c85ec643a",
   "metadata": {},
   "outputs": [
    {
     "name": "stdout",
     "output_type": "stream",
     "text": [
      "39\n",
      "hello world,how are you guys!!!\n",
      "39\n"
     ]
    }
   ],
   "source": [
    "a = \"   hello world,how are you guys!!!     \"\n",
    "print(len(a))\n",
    "print(a.strip())\n",
    "print(len(a))         #as strings are immutable length remains same and strip() doesnot change it."
   ]
  },
  {
   "cell_type": "code",
   "execution_count": 76,
   "id": "e3798674-0b2a-4bc9-a5d8-e9f86e274d69",
   "metadata": {},
   "outputs": [
    {
     "data": {
      "text/plain": [
       "'innomatics***research***labs'"
      ]
     },
     "execution_count": 76,
     "metadata": {},
     "output_type": "execute_result"
    }
   ],
   "source": [
    "b = \"****innomatics***research***labs***\"\n",
    "b.strip(\"*\")"
   ]
  },
  {
   "cell_type": "markdown",
   "id": "f821e7cb-405b-477c-b101-991c83d1224f",
   "metadata": {},
   "source": [
    "## 11.split() method\n",
    "- split method is used to seperate the main string into sub-strings based on delimter(space)."
   ]
  },
  {
   "cell_type": "code",
   "execution_count": 77,
   "id": "0059a24a-6187-4bfd-9851-7e2be4315ea2",
   "metadata": {},
   "outputs": [
    {
     "name": "stdout",
     "output_type": "stream",
     "text": [
      "['innomatics', 'research', 'labs']\n",
      "['maddiboooyena', 'sai', 'santhosh']\n"
     ]
    }
   ],
   "source": [
    "a = \"innomatics research labs\"\n",
    "print(a.split())\n",
    "b = \"maddiboooyena@sai@santhosh\"\n",
    "print(b.split(\"@\"))"
   ]
  },
  {
   "cell_type": "markdown",
   "id": "b9e361cf-e91b-4af6-8a36-b937bf3557b2",
   "metadata": {},
   "source": [
    "## 12.delete method\n",
    "- delete method is used to delete whole string not single character.\n",
    "- because strings are immutable so entire string gets deleted.\n",
    "- keyword to use delete method is del"
   ]
  },
  {
   "cell_type": "code",
   "execution_count": 78,
   "id": "caffc275-cce9-43d2-81df-61a091aa191d",
   "metadata": {},
   "outputs": [
    {
     "ename": "NameError",
     "evalue": "name 'a' is not defined",
     "output_type": "error",
     "traceback": [
      "\u001b[0;31m---------------------------------------------------------------------------\u001b[0m",
      "\u001b[0;31mNameError\u001b[0m                                 Traceback (most recent call last)",
      "Cell \u001b[0;32mIn[78], line 3\u001b[0m\n\u001b[1;32m      1\u001b[0m a \u001b[38;5;241m=\u001b[39m \u001b[38;5;124m\"\u001b[39m\u001b[38;5;124mhello world\u001b[39m\u001b[38;5;124m\"\u001b[39m\n\u001b[1;32m      2\u001b[0m \u001b[38;5;28;01mdel\u001b[39;00m a\n\u001b[0;32m----> 3\u001b[0m \u001b[38;5;28mprint\u001b[39m(a)\n",
      "\u001b[0;31mNameError\u001b[0m: name 'a' is not defined"
     ]
    }
   ],
   "source": [
    "a = \"hello world\"\n",
    "del a\n",
    "print(a)              #because \"a\" is deleted completely"
   ]
  },
  {
   "cell_type": "markdown",
   "id": "11dc20b4-a320-4d4d-b3e4-d8aeb9848cf1",
   "metadata": {},
   "source": [
    "# Step 1: Take Input and Remove Extra Spaces\n",
    "-  Ask the user to enter a sentence.\n",
    "- Remove extra spaces from the beginning and end using the strip() method.\n",
    "- Print the cleaned sentence."
   ]
  },
  {
   "cell_type": "code",
   "execution_count": null,
   "id": "039e2bf1-66c6-44a6-b730-fa8a7f740aa9",
   "metadata": {},
   "outputs": [],
   "source": [
    "a = input()\n",
    "print(a.strip())"
   ]
  },
  {
   "cell_type": "markdown",
   "id": "dcb7fa48-9e80-42a4-a092-ac4141c3e67e",
   "metadata": {},
   "source": [
    "# Step 2: Find Length of the Sentence\n",
    "- Find and print the total number of characters in the cleaned sentence using the len() function."
   ]
  },
  {
   "cell_type": "code",
   "execution_count": null,
   "id": "177f86ff-14b9-4761-a572-e4729bb15c8e",
   "metadata": {},
   "outputs": [],
   "source": [
    "b = input()\n",
    "print(len(b))"
   ]
  },
  {
   "cell_type": "markdown",
   "id": "68c4094e-06ee-4851-a441-d13f2ad118fd",
   "metadata": {},
   "source": [
    "# Step 3: Check Start and End\n",
    "- Check if the sentence starts with the word \"Hello\" using startswith().\n",
    "- Check if the sentence ends with a period (.) using endswith().\n",
    "- Print the result as True or False."
   ]
  },
  {
   "cell_type": "code",
   "execution_count": null,
   "id": "6aebe456-943d-4d40-8cb3-80fe376cd6ac",
   "metadata": {},
   "outputs": [],
   "source": [
    "c = input()\n",
    "print(c.startswith(\"hello\"))\n",
    "print(c.endswith(\".\"))"
   ]
  },
  {
   "cell_type": "markdown",
   "id": "6e71680b-8a94-494f-95bb-e313c4239b6f",
   "metadata": {},
   "source": [
    "# Step 4: Count a Specific Letter\n",
    "- Count how many times the letter \"a\" appears in the sentence using the count() method.\n",
    "- Print the result."
   ]
  },
  {
   "cell_type": "code",
   "execution_count": null,
   "id": "a8c89206-b0c5-40b9-990c-ba7e842f8827",
   "metadata": {},
   "outputs": [],
   "source": [
    "d = input()\n",
    "print(d.count(\"a\"))"
   ]
  },
  {
   "cell_type": "markdown",
   "id": "9edd071a-65e7-4a88-9a0b-7447db327af2",
   "metadata": {},
   "source": [
    "# Step 5: Split Sentence and Delete a Word\n",
    "- Split the sentence into words using split().\n",
    "- If there are two or more words, delete the second word using the del keyword.\n",
    "- Print the new list of words."
   ]
  },
  {
   "cell_type": "code",
   "execution_count": null,
   "id": "3114c55f-2ef7-4837-934e-fab048dc9603",
   "metadata": {},
   "outputs": [],
   "source": [
    "e = input()\n",
    "f = e.split()\n",
    "if len(f)>1:\n",
    "    del f[1]\n",
    "    print(f)"
   ]
  },
  {
   "cell_type": "markdown",
   "id": "2c5f90c2-8b33-4c0e-969d-c401936ac9c4",
   "metadata": {},
   "source": [
    "# Step 6: Replace a Word\n",
    "- Join the list of words back into a sentence.\n",
    "- Replace the word \"bad\" with \"good\" using the replace() method.\n",
    "- Print the modified sentence."
   ]
  },
  {
   "cell_type": "code",
   "execution_count": null,
   "id": "35ce37d8-b88e-4ecb-a4e1-f5cc5c59ccd6",
   "metadata": {
    "scrolled": true
   },
   "outputs": [],
   "source": [
    "a = \"good morning\"\n",
    "b = a.split()\n",
    "a.replace(\"good\",\"bad\")\n",
    "print(b)\n",
    "print(a)"
   ]
  },
  {
   "cell_type": "markdown",
   "id": "c2a50b6f-984d-439d-a47d-133c8d3a1ddb",
   "metadata": {},
   "source": [
    "# Step 7: Capitalize the Sentence\n",
    "- Capitalize the sentence using the capitalize() method.\n",
    "- Print the result."
   ]
  },
  {
   "cell_type": "code",
   "execution_count": null,
   "id": "1f5407a2-60fb-40e1-bc71-b5a0c6e31b15",
   "metadata": {},
   "outputs": [],
   "source": [
    "print(a.capitalize())"
   ]
  },
  {
   "cell_type": "code",
   "execution_count": 3,
   "id": "03b17655-c424-4704-ac3b-7d491df9ef96",
   "metadata": {},
   "outputs": [
    {
     "name": "stdout",
     "output_type": "stream",
     "text": [
      "-1\n"
     ]
    },
    {
     "ename": "ValueError",
     "evalue": "substring not found",
     "output_type": "error",
     "traceback": [
      "\u001b[0;31m---------------------------------------------------------------------------\u001b[0m",
      "\u001b[0;31mValueError\u001b[0m                                Traceback (most recent call last)",
      "Cell \u001b[0;32mIn[3], line 4\u001b[0m\n\u001b[1;32m      2\u001b[0m a \u001b[38;5;241m=\u001b[39m \u001b[38;5;124m\"\u001b[39m\u001b[38;5;124msai\u001b[39m\u001b[38;5;124m\"\u001b[39m\n\u001b[1;32m      3\u001b[0m \u001b[38;5;28mprint\u001b[39m(a\u001b[38;5;241m.\u001b[39mfind(\u001b[38;5;124m\"\u001b[39m\u001b[38;5;124mm\u001b[39m\u001b[38;5;124m\"\u001b[39m))\n\u001b[0;32m----> 4\u001b[0m \u001b[38;5;28mprint\u001b[39m(a\u001b[38;5;241m.\u001b[39mindex(\u001b[38;5;124m\"\u001b[39m\u001b[38;5;124mm\u001b[39m\u001b[38;5;124m\"\u001b[39m))\n",
      "\u001b[0;31mValueError\u001b[0m: substring not found"
     ]
    }
   ],
   "source": [
    "#difference between find and index \n",
    "a = \"sai\"\n",
    "print(a.find(\"m\"))\n",
    "print(a.index(\"m\"))"
   ]
  },
  {
   "cell_type": "code",
   "execution_count": null,
   "id": "18415e67-0f86-4797-906b-a1faaf4d0d10",
   "metadata": {},
   "outputs": [],
   "source": []
  }
 ],
 "metadata": {
  "kernelspec": {
   "display_name": "Python [conda env:base] *",
   "language": "python",
   "name": "conda-base-py"
  },
  "language_info": {
   "codemirror_mode": {
    "name": "ipython",
    "version": 3
   },
   "file_extension": ".py",
   "mimetype": "text/x-python",
   "name": "python",
   "nbconvert_exporter": "python",
   "pygments_lexer": "ipython3",
   "version": "3.12.7"
  }
 },
 "nbformat": 4,
 "nbformat_minor": 5
}
