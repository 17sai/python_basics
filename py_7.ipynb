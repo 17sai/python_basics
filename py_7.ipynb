{
 "cells": [
  {
   "cell_type": "markdown",
   "id": "f7c3a87c-22a0-42ae-9a84-e71b86f57eab",
   "metadata": {},
   "source": [
    "# format\n",
    "- format is used to combine a string with values."
   ]
  },
  {
   "cell_type": "code",
   "execution_count": 1,
   "id": "646409d1-430b-4eee-ba16-878f310ac301",
   "metadata": {},
   "outputs": [
    {
     "name": "stdout",
     "output_type": "stream",
     "text": [
      "cost of pen a is 5 and pen b is 6 and pen c is 10\n"
     ]
    }
   ],
   "source": [
    "a = 5\n",
    "b = 6\n",
    "c = 10\n",
    "print(\"cost of pen a is {} and pen b is {} and pen c is {}\".format(a,b,c))    #in btween {} space should not be given."
   ]
  },
  {
   "cell_type": "code",
   "execution_count": 2,
   "id": "10fd4405-634b-414f-bc18-0995af4e6d26",
   "metadata": {},
   "outputs": [
    {
     "name": "stdout",
     "output_type": "stream",
     "text": [
      "hello my name is sai santhosh i am 21 yrs old am from hyd\n"
     ]
    }
   ],
   "source": [
    "name = \"sai santhosh\"\n",
    "age = 21\n",
    "address = \"hyd\"\n",
    "print(\"hello my name is {} i am {} yrs old am from {}\".format(name,age,address))"
   ]
  },
  {
   "cell_type": "markdown",
   "id": "e0fa0973-eed6-4ce5-823e-d660eafd94dd",
   "metadata": {},
   "source": [
    "# string concatenation\n",
    "- string concatenation combines both the string values together using \"+\" operator.\n"
   ]
  },
  {
   "cell_type": "code",
   "execution_count": 4,
   "id": "1a1d4a3d-2fb9-4fa9-983b-f4a2e6f9a93f",
   "metadata": {},
   "outputs": [
    {
     "name": "stdout",
     "output_type": "stream",
     "text": [
      "saisanthosh\n"
     ]
    }
   ],
   "source": [
    "a = \"sai\"\n",
    "b = \"santhosh\"\n",
    "print(a + b)      #in string space also counts a value."
   ]
  },
  {
   "cell_type": "markdown",
   "id": "f2fe822d-5f5d-4b25-bceb-dce26b9aa76f",
   "metadata": {},
   "source": [
    "# string membership\n",
    "- string membership is nothing but checks weather the substring is present in main string or not.\n",
    "- \"in\" is the keyword used to perform string membership."
   ]
  },
  {
   "cell_type": "code",
   "execution_count": 7,
   "id": "820c1c8f-4547-41b3-a9ef-fa3349f1b059",
   "metadata": {},
   "outputs": [
    {
     "name": "stdout",
     "output_type": "stream",
     "text": [
      "True\n",
      "True\n"
     ]
    }
   ],
   "source": [
    "a = \"sai santhosh\"\n",
    "print(\"a\" in a)\n",
    "print(\"m\" not in a)      #not in is exactly opposite to in."
   ]
  },
  {
   "cell_type": "markdown",
   "id": "a6f4e9da-c36f-4df1-9526-d8069fa55ada",
   "metadata": {},
   "source": [
    "# type casting on strings \n",
    "- changing the data type."
   ]
  },
  {
   "cell_type": "code",
   "execution_count": 8,
   "id": "fee90440-fb64-4c45-ad9f-11f34152666f",
   "metadata": {},
   "outputs": [
    {
     "ename": "ValueError",
     "evalue": "invalid literal for int() with base 10: 'sai'",
     "output_type": "error",
     "traceback": [
      "\u001b[0;31m---------------------------------------------------------------------------\u001b[0m",
      "\u001b[0;31mValueError\u001b[0m                                Traceback (most recent call last)",
      "Cell \u001b[0;32mIn[8], line 2\u001b[0m\n\u001b[1;32m      1\u001b[0m a \u001b[38;5;241m=\u001b[39m \u001b[38;5;124m\"\u001b[39m\u001b[38;5;124msai\u001b[39m\u001b[38;5;124m\"\u001b[39m\n\u001b[0;32m----> 2\u001b[0m \u001b[38;5;28mprint\u001b[39m(\u001b[38;5;28mint\u001b[39m(a))\n",
      "\u001b[0;31mValueError\u001b[0m: invalid literal for int() with base 10: 'sai'"
     ]
    }
   ],
   "source": [
    "a = \"sai\"\n",
    "print(int(a))"
   ]
  },
  {
   "cell_type": "code",
   "execution_count": 9,
   "id": "6aeb6bc0-ca64-46c8-a459-e537fe2cea67",
   "metadata": {},
   "outputs": [
    {
     "ename": "ValueError",
     "evalue": "could not convert string to float: 'sai'",
     "output_type": "error",
     "traceback": [
      "\u001b[0;31m---------------------------------------------------------------------------\u001b[0m",
      "\u001b[0;31mValueError\u001b[0m                                Traceback (most recent call last)",
      "Cell \u001b[0;32mIn[9], line 1\u001b[0m\n\u001b[0;32m----> 1\u001b[0m \u001b[38;5;28mprint\u001b[39m(\u001b[38;5;28mfloat\u001b[39m(a))\n",
      "\u001b[0;31mValueError\u001b[0m: could not convert string to float: 'sai'"
     ]
    }
   ],
   "source": [
    "print(float(a))"
   ]
  },
  {
   "cell_type": "code",
   "execution_count": 10,
   "id": "8f0a6d72-a4b3-4c07-8701-18ee40503fa3",
   "metadata": {},
   "outputs": [
    {
     "ename": "ValueError",
     "evalue": "complex() arg is a malformed string",
     "output_type": "error",
     "traceback": [
      "\u001b[0;31m---------------------------------------------------------------------------\u001b[0m",
      "\u001b[0;31mValueError\u001b[0m                                Traceback (most recent call last)",
      "Cell \u001b[0;32mIn[10], line 1\u001b[0m\n\u001b[0;32m----> 1\u001b[0m \u001b[38;5;28mprint\u001b[39m(\u001b[38;5;28mcomplex\u001b[39m(a))\n",
      "\u001b[0;31mValueError\u001b[0m: complex() arg is a malformed string"
     ]
    }
   ],
   "source": [
    "print(complex(a))"
   ]
  },
  {
   "cell_type": "code",
   "execution_count": 11,
   "id": "c8621f78-3bf2-4785-b229-2430c2b14312",
   "metadata": {},
   "outputs": [
    {
     "name": "stdout",
     "output_type": "stream",
     "text": [
      "17\n",
      "17.0\n",
      "(17+0j)\n"
     ]
    }
   ],
   "source": [
    "b = \"17\"\n",
    "print(int(b))\n",
    "print(float(b))\n",
    "print(complex(b))"
   ]
  },
  {
   "cell_type": "code",
   "execution_count": 20,
   "id": "7eaa55e3-c557-497b-8569-7c8251beefbd",
   "metadata": {},
   "outputs": [
    {
     "ename": "ValueError",
     "evalue": "invalid literal for int() with base 10: '1.34'",
     "output_type": "error",
     "traceback": [
      "\u001b[0;31m---------------------------------------------------------------------------\u001b[0m",
      "\u001b[0;31mValueError\u001b[0m                                Traceback (most recent call last)",
      "Cell \u001b[0;32mIn[20], line 2\u001b[0m\n\u001b[1;32m      1\u001b[0m c \u001b[38;5;241m=\u001b[39m \u001b[38;5;124m\"\u001b[39m\u001b[38;5;124m1.34\u001b[39m\u001b[38;5;124m\"\u001b[39m\n\u001b[0;32m----> 2\u001b[0m \u001b[38;5;28mprint\u001b[39m(\u001b[38;5;28mint\u001b[39m(c))\n",
      "\u001b[0;31mValueError\u001b[0m: invalid literal for int() with base 10: '1.34'"
     ]
    }
   ],
   "source": [
    "c = \"1.34\"\n",
    "print(int(c))        #float value cannot be converted into int."
   ]
  },
  {
   "cell_type": "code",
   "execution_count": 15,
   "id": "958f2e56-a413-4c32-82fb-05f10c3baab0",
   "metadata": {},
   "outputs": [
    {
     "name": "stdout",
     "output_type": "stream",
     "text": [
      "1.34\n"
     ]
    }
   ],
   "source": [
    "print(float(c))"
   ]
  },
  {
   "cell_type": "code",
   "execution_count": 16,
   "id": "3a53c566-a6ad-42f1-9f98-1afb86c46e4c",
   "metadata": {},
   "outputs": [
    {
     "name": "stdout",
     "output_type": "stream",
     "text": [
      "(1.34+0j)\n"
     ]
    }
   ],
   "source": [
    "print(complex(c))"
   ]
  },
  {
   "cell_type": "code",
   "execution_count": 17,
   "id": "675508b9-5887-414d-9b0e-8c0472753212",
   "metadata": {},
   "outputs": [
    {
     "ename": "ValueError",
     "evalue": "invalid literal for int() with base 10: '1+2j'",
     "output_type": "error",
     "traceback": [
      "\u001b[0;31m---------------------------------------------------------------------------\u001b[0m",
      "\u001b[0;31mValueError\u001b[0m                                Traceback (most recent call last)",
      "Cell \u001b[0;32mIn[17], line 2\u001b[0m\n\u001b[1;32m      1\u001b[0m d \u001b[38;5;241m=\u001b[39m \u001b[38;5;124m\"\u001b[39m\u001b[38;5;124m1+2j\u001b[39m\u001b[38;5;124m\"\u001b[39m\n\u001b[0;32m----> 2\u001b[0m \u001b[38;5;28mprint\u001b[39m(\u001b[38;5;28mint\u001b[39m(d))\n",
      "\u001b[0;31mValueError\u001b[0m: invalid literal for int() with base 10: '1+2j'"
     ]
    }
   ],
   "source": [
    "d = \"1+2j\"\n",
    "print(int(d))"
   ]
  },
  {
   "cell_type": "code",
   "execution_count": 18,
   "id": "36554cc6-e232-498d-b6dd-a327c8467647",
   "metadata": {},
   "outputs": [
    {
     "ename": "ValueError",
     "evalue": "could not convert string to float: '1+2j'",
     "output_type": "error",
     "traceback": [
      "\u001b[0;31m---------------------------------------------------------------------------\u001b[0m",
      "\u001b[0;31mValueError\u001b[0m                                Traceback (most recent call last)",
      "Cell \u001b[0;32mIn[18], line 1\u001b[0m\n\u001b[0;32m----> 1\u001b[0m \u001b[38;5;28mprint\u001b[39m(\u001b[38;5;28mfloat\u001b[39m(d))\n",
      "\u001b[0;31mValueError\u001b[0m: could not convert string to float: '1+2j'"
     ]
    }
   ],
   "source": [
    "print(float(d))"
   ]
  },
  {
   "cell_type": "code",
   "execution_count": 19,
   "id": "11c5721d-88bc-4a19-997d-07206e2d91fb",
   "metadata": {},
   "outputs": [
    {
     "name": "stdout",
     "output_type": "stream",
     "text": [
      "(1+2j)\n"
     ]
    }
   ],
   "source": [
    "print(complex(d))"
   ]
  },
  {
   "cell_type": "markdown",
   "id": "b7f1de91-cecc-4897-8b95-b11e127c1969",
   "metadata": {},
   "source": [
    "# input function\n",
    "- this input function is nothing but taking input from the user or dynamic entry.\n",
    "- this input is a \"built-in-function\" in python.\n",
    "- by default input function holds string data type."
   ]
  },
  {
   "cell_type": "code",
   "execution_count": 24,
   "id": "728cb12b-210b-44a7-a16f-cbb32af2434b",
   "metadata": {},
   "outputs": [
    {
     "name": "stdin",
     "output_type": "stream",
     "text": [
      " sai santhosh\n"
     ]
    },
    {
     "name": "stdout",
     "output_type": "stream",
     "text": [
      "sai santhosh\n",
      "<class 'str'>\n"
     ]
    }
   ],
   "source": [
    "x = input()\n",
    "print(x)\n",
    "print(type(x))"
   ]
  },
  {
   "cell_type": "code",
   "execution_count": 34,
   "id": "2812377e-a3c8-4ebe-9f25-a816e6505779",
   "metadata": {},
   "outputs": [
    {
     "name": "stdin",
     "output_type": "stream",
     "text": [
      " 123\n"
     ]
    },
    {
     "name": "stdout",
     "output_type": "stream",
     "text": [
      "<class 'int'>\n"
     ]
    }
   ],
   "source": [
    "y = int(input())\n",
    "print(type(y))         #here we cannot give a float value becauseit does not convert it into int."
   ]
  },
  {
   "cell_type": "code",
   "execution_count": 31,
   "id": "5b2ad50e-deec-48bb-98f6-d86530ca8bf9",
   "metadata": {},
   "outputs": [
    {
     "name": "stdin",
     "output_type": "stream",
     "text": [
      " 12\n"
     ]
    },
    {
     "name": "stdout",
     "output_type": "stream",
     "text": [
      "<class 'float'>\n",
      "12.0\n"
     ]
    }
   ],
   "source": [
    "z = float(input())\n",
    "print(type(z))           #we can give integer as a value for float input it converts it into float value.\n",
    "print(z)"
   ]
  },
  {
   "cell_type": "code",
   "execution_count": 36,
   "id": "2bb36255-954f-4fba-8e67-30d606d64229",
   "metadata": {},
   "outputs": [
    {
     "name": "stdin",
     "output_type": "stream",
     "text": [
      "         weeewqdwcevrev\n"
     ]
    }
   ],
   "source": [
    "x = input()          #we can give spaces at the start as input."
   ]
  },
  {
   "cell_type": "markdown",
   "id": "9d175d89-1004-499f-88c6-2fa83325c15d",
   "metadata": {},
   "source": [
    "# variable assignment\n",
    "- assigning a value to a variable \n",
    "- it is of two types 1.single value assignment 2.multi-value assignment."
   ]
  },
  {
   "cell_type": "code",
   "execution_count": 38,
   "id": "01c0c5b8-994e-4fb6-ae51-658355566d63",
   "metadata": {},
   "outputs": [
    {
     "name": "stdout",
     "output_type": "stream",
     "text": [
      "5\n"
     ]
    }
   ],
   "source": [
    "#single value assignment\n",
    "a = 5\n",
    "a                  #calling\n",
    "print(a)           #printing"
   ]
  },
  {
   "cell_type": "code",
   "execution_count": 42,
   "id": "e52b54d8-1d53-4263-a380-09b4d2dc8860",
   "metadata": {},
   "outputs": [
    {
     "data": {
      "text/plain": [
       "3"
      ]
     },
     "execution_count": 42,
     "metadata": {},
     "output_type": "execute_result"
    }
   ],
   "source": [
    "#multi-value assignment\n",
    "x,y,z = 3,4,5\n",
    "x                    #calling"
   ]
  },
  {
   "cell_type": "code",
   "execution_count": 40,
   "id": "810e408e-9154-4fed-9a85-437d0263d39d",
   "metadata": {},
   "outputs": [
    {
     "data": {
      "text/plain": [
       "4"
      ]
     },
     "execution_count": 40,
     "metadata": {},
     "output_type": "execute_result"
    }
   ],
   "source": [
    "y"
   ]
  },
  {
   "cell_type": "code",
   "execution_count": 41,
   "id": "5ddd74ac-9458-440e-ad8a-5e6c8a54cf0e",
   "metadata": {},
   "outputs": [
    {
     "data": {
      "text/plain": [
       "5"
      ]
     },
     "execution_count": 41,
     "metadata": {},
     "output_type": "execute_result"
    }
   ],
   "source": [
    "z"
   ]
  },
  {
   "cell_type": "code",
   "execution_count": 44,
   "id": "64ac01e2-e46c-4501-b594-4de705239a76",
   "metadata": {},
   "outputs": [
    {
     "name": "stdout",
     "output_type": "stream",
     "text": [
      "3 4 5\n"
     ]
    }
   ],
   "source": [
    "print(x,y,z)      #printing"
   ]
  },
  {
   "cell_type": "markdown",
   "id": "25bab9cc-7b4f-4dd8-80d4-c8275557156d",
   "metadata": {},
   "source": [
    "# f string(formatted string)\n",
    "- formatted string is used to write a string which includes variables directly into the string using \"{}\"."
   ]
  },
  {
   "cell_type": "code",
   "execution_count": 46,
   "id": "cffc5b19-dbe7-41e3-97cf-e585cd43c83b",
   "metadata": {},
   "outputs": [
    {
     "name": "stdout",
     "output_type": "stream",
     "text": [
      "ur a value is 4 and b value is 7 and the sum of a + b is 11\n"
     ]
    }
   ],
   "source": [
    "a = 4\n",
    "b = 7\n",
    "print(f\"ur a value is {a} and b value is {b} and the sum of a + b is {a+b}\")"
   ]
  },
  {
   "cell_type": "code",
   "execution_count": 47,
   "id": "f0a9a13f-d101-44f1-9fce-61cde9acf137",
   "metadata": {},
   "outputs": [
    {
     "name": "stdin",
     "output_type": "stream",
     "text": [
      " sai santhosh\n",
      " 21\n"
     ]
    },
    {
     "name": "stdout",
     "output_type": "stream",
     "text": [
      "ur name is sai santhosh and you mentioned your age is 21\n"
     ]
    }
   ],
   "source": [
    "name = input()\n",
    "age = int(input())\n",
    "print(f\"ur name is {name} and you mentioned your age is {age}\")"
   ]
  },
  {
   "cell_type": "markdown",
   "id": "fea9def8-d8f6-4a62-9a0e-d480f2fc26a7",
   "metadata": {},
   "source": [
    "# eval function\n",
    "- it will evaluate weather your expression  is valid or not.\n",
    "- it checks the data type of the expression and converts into valid data type."
   ]
  },
  {
   "cell_type": "code",
   "execution_count": 51,
   "id": "8687256a-bff9-4034-aaea-7b074c840de4",
   "metadata": {},
   "outputs": [
    {
     "name": "stdout",
     "output_type": "stream",
     "text": [
      "a+b\n"
     ]
    },
    {
     "data": {
      "text/plain": [
       "'43'"
      ]
     },
     "execution_count": 51,
     "metadata": {},
     "output_type": "execute_result"
    }
   ],
   "source": [
    "a = \"4\"\n",
    "b = \"3\"\n",
    "print(\"a+b\")\n",
    "eval(\"a+b\")"
   ]
  },
  {
   "cell_type": "code",
   "execution_count": 57,
   "id": "ff7febf8-04b2-421c-8a13-01e75a486460",
   "metadata": {},
   "outputs": [
    {
     "data": {
      "text/plain": [
       "27"
      ]
     },
     "execution_count": 57,
     "metadata": {},
     "output_type": "execute_result"
    }
   ],
   "source": [
    "code = \"3 * (4 + 5)\"\n",
    "result = eval(code)  # result is 27\n",
    "result"
   ]
  }
 ],
 "metadata": {
  "kernelspec": {
   "display_name": "Python [conda env:base] *",
   "language": "python",
   "name": "conda-base-py"
  },
  "language_info": {
   "codemirror_mode": {
    "name": "ipython",
    "version": 3
   },
   "file_extension": ".py",
   "mimetype": "text/x-python",
   "name": "python",
   "nbconvert_exporter": "python",
   "pygments_lexer": "ipython3",
   "version": "3.12.7"
  }
 },
 "nbformat": 4,
 "nbformat_minor": 5
}
