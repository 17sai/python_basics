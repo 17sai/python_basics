{
 "cells": [
  {
   "cell_type": "markdown",
   "id": "d563d9b5-20e8-4fde-b346-642d96d090f3",
   "metadata": {},
   "source": [
    "# List\n",
    "- list is a sequential/ordered collection of elements.\n",
    "- represented by []\n",
    "- list allows all data types(int,float,strings,booleans,mixed data types,nested list).\n",
    "- list is mutable data type and allows duplicates."
   ]
  },
  {
   "cell_type": "code",
   "execution_count": 5,
   "id": "a8e12e94-fd4f-4452-8dc8-edf9ff6d90e6",
   "metadata": {},
   "outputs": [
    {
     "name": "stdout",
     "output_type": "stream",
     "text": [
      "[]\n",
      "<class 'list'>\n"
     ]
    }
   ],
   "source": [
    "a = []\n",
    "print(a)\n",
    "print(type(a))"
   ]
  },
  {
   "cell_type": "code",
   "execution_count": 7,
   "id": "79cd3cae-436f-40b8-867a-7d07ba4728dc",
   "metadata": {},
   "outputs": [
    {
     "name": "stdout",
     "output_type": "stream",
     "text": [
      "[1, 2, 3, 4, 5]\n",
      "<class 'list'>\n"
     ]
    }
   ],
   "source": [
    "#integers in a list\n",
    "li = [1,2,3,4,5]\n",
    "print(li)\n",
    "print(type(li))"
   ]
  },
  {
   "cell_type": "code",
   "execution_count": 8,
   "id": "79a7cad6-0b00-422b-b3a0-731448a6712e",
   "metadata": {},
   "outputs": [
    {
     "name": "stdout",
     "output_type": "stream",
     "text": [
      "[1.2, 34.3, 23.4]\n",
      "<class 'list'>\n"
     ]
    }
   ],
   "source": [
    "#float values in a list\n",
    "li2 = [1.2,34.3,23.4]\n",
    "print(li2)\n",
    "print(type(li2))"
   ]
  },
  {
   "cell_type": "code",
   "execution_count": 9,
   "id": "75be809e-9e30-420d-86ef-332f7a9c81b0",
   "metadata": {},
   "outputs": [
    {
     "name": "stdout",
     "output_type": "stream",
     "text": [
      "['sai', 'santhosh', 'maddiboyena']\n",
      "<class 'list'>\n"
     ]
    }
   ],
   "source": [
    "#strings in a list\n",
    "li3 = [\"sai\",\"santhosh\",\"maddiboyena\"]\n",
    "print(li3)\n",
    "print(type(li3))"
   ]
  },
  {
   "cell_type": "code",
   "execution_count": 10,
   "id": "19529981-e826-45ca-9697-e7ec3e39a23e",
   "metadata": {},
   "outputs": [
    {
     "name": "stdout",
     "output_type": "stream",
     "text": [
      "[1, True, 1.23, 'sai', (4+3j)]\n",
      "<class 'list'>\n"
     ]
    }
   ],
   "source": [
    "#mixed data types in a list\n",
    "li4 = [1,True,1.23,\"sai\",4+3j]\n",
    "print(li4)\n",
    "print(type(li4))"
   ]
  },
  {
   "cell_type": "code",
   "execution_count": 11,
   "id": "3c50a611-dc55-4c92-9172-357d22919413",
   "metadata": {},
   "outputs": [
    {
     "name": "stdout",
     "output_type": "stream",
     "text": [
      "['sai', [1, 3, True], 1.23, ['maddiboyena', 17]]\n"
     ]
    }
   ],
   "source": [
    "#nested list\n",
    "li5 = [\"sai\",[1,3,True],1.23,[\"maddiboyena\",17]]\n",
    "print(li5)"
   ]
  },
  {
   "cell_type": "markdown",
   "id": "c95c6973-74d2-4cd2-9cf6-5432dee68183",
   "metadata": {},
   "source": [
    "# list indexing"
   ]
  },
  {
   "cell_type": "code",
   "execution_count": 15,
   "id": "c4174194-da0f-4f91-8aeb-f07064e8d87c",
   "metadata": {},
   "outputs": [
    {
     "name": "stdout",
     "output_type": "stream",
     "text": [
      "1\n",
      "5\n",
      "3\n"
     ]
    }
   ],
   "source": [
    "l = [1,True,1.23,\"sai\",4+3j]\n",
    "print(l[0])\n",
    "print(len(l))\n",
    "print(l.index(\"sai\"))"
   ]
  },
  {
   "cell_type": "markdown",
   "id": "9d85a59c-006e-43b3-90ea-6bf088582b37",
   "metadata": {},
   "source": [
    "# list slicing"
   ]
  },
  {
   "cell_type": "code",
   "execution_count": 24,
   "id": "b98a2887-01b2-419c-b408-1443f98965f7",
   "metadata": {},
   "outputs": [
    {
     "name": "stdout",
     "output_type": "stream",
     "text": [
      "[1, True, 1.23, 'sai', (4+3j)]\n",
      "[1, True, 1.23, 'sai', (4+3j)]\n",
      "[1, 1.23]\n",
      "[(4+3j), 1.23, 1]\n",
      "[1.23, 'sai']\n",
      "['sai', 1.23]\n"
     ]
    }
   ],
   "source": [
    "l = [1,True,1.23,\"sai\",4+3j]\n",
    "print(l[:])\n",
    "print(l[0:5])\n",
    "print(l[0:4:2])\n",
    "print(l[::-2])\n",
    "print(l[2:4])\n",
    "print(l[-2:-4:-1])"
   ]
  },
  {
   "cell_type": "code",
   "execution_count": 34,
   "id": "2d08ed29-31b9-47f0-9041-02013eed113f",
   "metadata": {},
   "outputs": [
    {
     "name": "stdout",
     "output_type": "stream",
     "text": [
      "17\n",
      "['sai', [1, 3, True], 1.23, ['maddiboyena', 17]]\n",
      "[[1, 3, True], 1.23, ['maddiboyena', 17]]\n",
      "[['maddiboyena', 17], 1.23, [1, 3, True], 'sai']\n",
      "['sai', [1, 3, True], 1.23, ['maddiboyena', 17]]\n",
      "[['maddiboyena', 17], 1.23]\n",
      "[[1, 3, True], 1.23]\n"
     ]
    }
   ],
   "source": [
    "#Nested list slicing and slicing\n",
    "l2 = [\"sai\",[1,3,True],1.23,[\"maddiboyena\",17]]\n",
    "print(l2[3][1])\n",
    "print(l2[0:4])\n",
    "print(l2[1:])\n",
    "print(l2[::-1])\n",
    "print(l2[0:34])\n",
    "print(l2[-1:-3:-1])\n",
    "print(l2[-3:-1])"
   ]
  },
  {
   "cell_type": "markdown",
   "id": "0d6502b8-9ca2-4e21-ae2d-8b9486745084",
   "metadata": {},
   "source": [
    "# list built-in-functions/methods:"
   ]
  },
  {
   "cell_type": "markdown",
   "id": "4a064fb1-ee31-4064-84e5-c93fe77fb932",
   "metadata": {},
   "source": [
    "## 1.append:\n",
    "- we can add a single element to the end of the list by using apend.\n",
    "- we cannot add more elements at once."
   ]
  },
  {
   "cell_type": "code",
   "execution_count": 37,
   "id": "5655ac94-2a0a-449a-9d8e-13b262ecee3c",
   "metadata": {},
   "outputs": [
    {
     "name": "stdout",
     "output_type": "stream",
     "text": [
      "[1, 2, 3, 4, 10]\n"
     ]
    }
   ],
   "source": [
    "l = [1,2,3,4]\n",
    "l.append(10)\n",
    "print(l)"
   ]
  },
  {
   "cell_type": "markdown",
   "id": "27ecc28f-70bb-47b7-8a53-af6930ad79a0",
   "metadata": {},
   "source": [
    "## 2.extend:\n",
    "- if you want to add more than one value to the list we use extend.\n",
    "- all the extended elements will be added to the end of the list.`\n",
    "- syntax:  list_name.extend([elements])."
   ]
  },
  {
   "cell_type": "code",
   "execution_count": 40,
   "id": "18c12923-1eaf-4533-b409-e2c8368bc72c",
   "metadata": {},
   "outputs": [
    {
     "name": "stdout",
     "output_type": "stream",
     "text": [
      "[1, 2, 3, 4, 5, 2, 3, 4]\n"
     ]
    }
   ],
   "source": [
    "l2 = [1,2,3,4,5]\n",
    "l2.extend([2,3,4])\n",
    "print(l2)"
   ]
  },
  {
   "cell_type": "code",
   "execution_count": 41,
   "id": "bde33123-fdf7-4aa2-8089-4dbfbdd87da3",
   "metadata": {},
   "outputs": [
    {
     "name": "stdout",
     "output_type": "stream",
     "text": [
      "[1, 2, 3, 4, 5, 2, 3, 4, 'sai', 17.23, True]\n"
     ]
    }
   ],
   "source": [
    "l2.extend([\"sai\",17.23,True])\n",
    "print(l2)"
   ]
  },
  {
   "cell_type": "markdown",
   "id": "e6ae3a74-6758-4769-aa38-7161dc6de72f",
   "metadata": {},
   "source": [
    "## 3.changing the values in a list\n",
    "- As list is mutable we can change the existing values by using index values."
   ]
  },
  {
   "cell_type": "code",
   "execution_count": 48,
   "id": "2d873d4d-72c8-416c-84de-1aa6c0ff6a2d",
   "metadata": {},
   "outputs": [
    {
     "name": "stdout",
     "output_type": "stream",
     "text": [
      "[1, 2, 3, 100, 5]\n",
      "[1, 2, 3, 100, 2, 4]\n"
     ]
    }
   ],
   "source": [
    "l3 = [1,2,3,4,5]\n",
    "l3[3]=100                #we can change the value directly by assigning value to the index number.\n",
    "print(l3)\n",
    "lis = [1,2,3,[3,4],2,4]\n",
    "lis[3] = 100          \n",
    "print(lis)"
   ]
  },
  {
   "cell_type": "markdown",
   "id": "b621717c-718b-4c30-93b2-0c42c028fc77",
   "metadata": {},
   "source": [
    "## 4.insert\n",
    "- inserting a value into a particular position in a list.\n",
    "- here it won't delete any pre-existing element in the list."
   ]
  },
  {
   "cell_type": "code",
   "execution_count": 45,
   "id": "7051941f-fed0-468f-a73a-81af133e05fb",
   "metadata": {},
   "outputs": [
    {
     "name": "stdout",
     "output_type": "stream",
     "text": [
      "[1, 2, 3, 4, 'sai santhosh', 5]\n"
     ]
    }
   ],
   "source": [
    "l4 = [1,2,3,4,5]\n",
    "l4.insert(4,\"sai santhosh\")\n",
    "print(l4)"
   ]
  },
  {
   "cell_type": "code",
   "execution_count": 46,
   "id": "ce0600e1-a892-4c47-9aea-1310d7e2e9af",
   "metadata": {},
   "outputs": [
    {
     "name": "stdout",
     "output_type": "stream",
     "text": [
      "[1, 2, 3, ['sai', 17], 4]\n"
     ]
    }
   ],
   "source": [
    "l5 = [1,2,3,4]\n",
    "l5.insert(3,[\"sai\",17])\n",
    "print(l5)"
   ]
  },
  {
   "cell_type": "markdown",
   "id": "163084fb-a224-432e-95d9-5d9727aef28f",
   "metadata": {},
   "source": [
    "## 5.removing elements from the list\n",
    "### pop() method:\n",
    "- pop is used to remove elements from the list.\n",
    "- with out index value by default it removes last element from list.\n",
    "- it first returns the value and then after it removes the value from the list.\n",
    "- NOTE: we cannot pop(delete) value from nested lists."
   ]
  },
  {
   "cell_type": "code",
   "execution_count": 61,
   "id": "8a9bb38c-bd38-4d87-9921-235839a50b7d",
   "metadata": {},
   "outputs": [
    {
     "name": "stdout",
     "output_type": "stream",
     "text": [
      "[1, 2, 3, 4, 'sai', 5]\n",
      "[1, 2, 3, 'sai', 5]\n"
     ]
    }
   ],
   "source": [
    "ls = [1,2,3,4,\"sai\",5,6]\n",
    "ls.pop()                      #here it automatically deletes last value from the list\n",
    "print(ls)\n",
    "ls.pop(3)                     #here it deletes value from the 3rd index  \n",
    "print(ls)                        "
   ]
  },
  {
   "cell_type": "code",
   "execution_count": 70,
   "id": "a35d27c2-332e-46ab-85d1-13a903dec7ef",
   "metadata": {},
   "outputs": [
    {
     "ename": "IndexError",
     "evalue": "list index out of range",
     "output_type": "error",
     "traceback": [
      "\u001b[0;31m---------------------------------------------------------------------------\u001b[0m",
      "\u001b[0;31mIndexError\u001b[0m                                Traceback (most recent call last)",
      "Cell \u001b[0;32mIn[70], line 2\u001b[0m\n\u001b[1;32m      1\u001b[0m lis \u001b[38;5;241m=\u001b[39m [\u001b[38;5;241m1\u001b[39m,\u001b[38;5;241m2\u001b[39m,\u001b[38;5;241m3\u001b[39m,[\u001b[38;5;241m3\u001b[39m,\u001b[38;5;241m4\u001b[39m],\u001b[38;5;241m2\u001b[39m,\u001b[38;5;241m4\u001b[39m]\n\u001b[0;32m----> 2\u001b[0m lis\u001b[38;5;241m.\u001b[39mpop([\u001b[38;5;241m3\u001b[39m][\u001b[38;5;241m1\u001b[39m])\n",
      "\u001b[0;31mIndexError\u001b[0m: list index out of range"
     ]
    }
   ],
   "source": [
    "lis = [1,2,3,[3,4],2,4]\n",
    "lis.pop([3][1])"
   ]
  },
  {
   "cell_type": "markdown",
   "id": "f0f14f34-7fd2-4de1-a3e4-a974688a3e09",
   "metadata": {},
   "source": [
    "### remove() method:\n",
    "- remove method is used to directly remove the element from the list."
   ]
  },
  {
   "cell_type": "code",
   "execution_count": 64,
   "id": "45113ee9-20e7-477c-8119-42b3fb7d6f4a",
   "metadata": {},
   "outputs": [
    {
     "name": "stdout",
     "output_type": "stream",
     "text": [
      "[1, 2, 3, 'sai', 17, 21]\n"
     ]
    }
   ],
   "source": [
    "l = [1,2,3,\"sai\",\"santhosh\",17,21]\n",
    "l.remove(\"santhosh\")\n",
    "print(l)"
   ]
  },
  {
   "cell_type": "markdown",
   "id": "3b3c8df6-af0b-425a-b905-2b03f24a7c12",
   "metadata": {},
   "source": [
    "### delete method:\n",
    "- used to delete an entire list or any particular element using index value.\n",
    "- syntax:   del list_name[index_value]"
   ]
  },
  {
   "cell_type": "code",
   "execution_count": 66,
   "id": "5f8974ee-925b-4dd3-9daa-c6fa242fb4e3",
   "metadata": {},
   "outputs": [
    {
     "name": "stdout",
     "output_type": "stream",
     "text": [
      "[1, 2, 3, 'santhosh', 17, 21]\n"
     ]
    }
   ],
   "source": [
    "l = [1,2,3,\"sai\",\"santhosh\",17,21]\n",
    "del l[3]                               #used to delete a particular value \n",
    "print(l)"
   ]
  },
  {
   "cell_type": "code",
   "execution_count": 68,
   "id": "b0cefd7d-2ef9-441d-99db-7f20b3452f89",
   "metadata": {},
   "outputs": [
    {
     "ename": "NameError",
     "evalue": "name 'l3' is not defined",
     "output_type": "error",
     "traceback": [
      "\u001b[0;31m---------------------------------------------------------------------------\u001b[0m",
      "\u001b[0;31mNameError\u001b[0m                                 Traceback (most recent call last)",
      "Cell \u001b[0;32mIn[68], line 3\u001b[0m\n\u001b[1;32m      1\u001b[0m l3 \u001b[38;5;241m=\u001b[39m [\u001b[38;5;241m3\u001b[39m,\u001b[38;5;124m\"\u001b[39m\u001b[38;5;124msai\u001b[39m\u001b[38;5;124m\"\u001b[39m,\u001b[38;5;124m\"\u001b[39m\u001b[38;5;124msanthosh\u001b[39m\u001b[38;5;124m\"\u001b[39m,\u001b[38;5;241m17\u001b[39m,\u001b[38;5;241m21\u001b[39m]\n\u001b[1;32m      2\u001b[0m \u001b[38;5;28;01mdel\u001b[39;00m l3                              \u001b[38;5;66;03m#here entire list is deleted\u001b[39;00m\n\u001b[0;32m----> 3\u001b[0m \u001b[38;5;28mprint\u001b[39m(l3)\n",
      "\u001b[0;31mNameError\u001b[0m: name 'l3' is not defined"
     ]
    }
   ],
   "source": [
    "l3 = [3,\"sai\",\"santhosh\",17,21]\n",
    "del l3                              #here entire list is deleted\n",
    "print(l3)         "
   ]
  },
  {
   "cell_type": "code",
   "execution_count": 78,
   "id": "8243d365-b220-44a6-a535-88c048ffdda0",
   "metadata": {},
   "outputs": [
    {
     "name": "stdout",
     "output_type": "stream",
     "text": [
      "[1, 2, 3, [3], 2, 4]\n"
     ]
    }
   ],
   "source": [
    "lis = [1,2,3,[3,4],2,4]\n",
    "del lis[3][1]                  #deleting from nested list\n",
    "print(lis)"
   ]
  },
  {
   "cell_type": "code",
   "execution_count": 74,
   "id": "0799520a-f59d-4564-bc66-bd4db04491ac",
   "metadata": {},
   "outputs": [
    {
     "name": "stdout",
     "output_type": "stream",
     "text": [
      "[[3, 4], 2, 4]\n"
     ]
    }
   ],
   "source": [
    "lis = [1,2,3,[3,4],2,4]\n",
    "del lis[0:3]                 #here we can delete more than one emelent from the list using slicing.\n",
    "print(lis)"
   ]
  },
  {
   "cell_type": "code",
   "execution_count": 77,
   "id": "024e4f01-a43f-48e0-8230-c78d4746f7f5",
   "metadata": {},
   "outputs": [
    {
     "name": "stdout",
     "output_type": "stream",
     "text": [
      "[1, 2, 3, 4, 5, 9, 8, 7, 6, 5]\n"
     ]
    }
   ],
   "source": [
    "#joining/concatinating two lists\n",
    "l1 = [1,2,3,4,5]\n",
    "l2 = [9,8,7,6,5]\n",
    "print(l1+l2)"
   ]
  },
  {
   "cell_type": "code",
   "execution_count": 2,
   "id": "d14708d7-006f-4081-b739-c9519b73f79f",
   "metadata": {},
   "outputs": [
    {
     "name": "stdout",
     "output_type": "stream",
     "text": [
      "[1, 2, [34, 56, 78], 23, 45, [45]]\n"
     ]
    }
   ],
   "source": [
    "l = [1,2,[34,56,78],23,45,[45,67]]\n",
    "del l[5][1]\n",
    "print(l)"
   ]
  },
  {
   "cell_type": "markdown",
   "id": "c5d8c4ea-16fc-4745-8df3-4f736a3b595c",
   "metadata": {},
   "source": [
    "# count method\n",
    "- count method is used to count the number of occurences in a list."
   ]
  },
  {
   "cell_type": "code",
   "execution_count": 3,
   "id": "8a858c4d-a957-4437-872e-62a92f1fb40e",
   "metadata": {},
   "outputs": [
    {
     "name": "stdout",
     "output_type": "stream",
     "text": [
      "3\n"
     ]
    }
   ],
   "source": [
    "l = [1,2,3,1,23,21,2,1,1,2,31,1]\n",
    "print(l.count(2))"
   ]
  },
  {
   "cell_type": "markdown",
   "id": "633d210a-8b33-442b-b00a-fb04fe5b797b",
   "metadata": {},
   "source": [
    "# index method \n",
    "- index method is used to check the 1st occurence in the list.\n"
   ]
  },
  {
   "cell_type": "code",
   "execution_count": 5,
   "id": "80274c14-bac2-4b1f-83ff-7d2cd66c5f42",
   "metadata": {},
   "outputs": [
    {
     "name": "stdout",
     "output_type": "stream",
     "text": [
      "1\n"
     ]
    }
   ],
   "source": [
    "l = [1,2,3,1,23,21,2,1,1,2,31,1]\n",
    "print(l.index(2))"
   ]
  },
  {
   "cell_type": "markdown",
   "id": "24773d19-c4b9-431b-89b9-35707004118c",
   "metadata": {},
   "source": [
    "# reverse method\n",
    "- reverse method is used to reverse the elements in the list"
   ]
  },
  {
   "cell_type": "code",
   "execution_count": 9,
   "id": "19e5db7f-98da-4fb3-b291-f34e715d1e1d",
   "metadata": {},
   "outputs": [
    {
     "name": "stdout",
     "output_type": "stream",
     "text": [
      "[1, 31, 2, 1, 1, 2, 21, 23, 1, 3, 2, 1]\n"
     ]
    }
   ],
   "source": [
    "l = [1,2,3,1,23,21,2,1,1,2,31,1]\n",
    "l.reverse()                         #here reverse should be done first before printing it.\n",
    "print(l)"
   ]
  },
  {
   "cell_type": "markdown",
   "id": "297cbc68-1982-4646-aa1b-bc932e79d94b",
   "metadata": {},
   "source": [
    "# clear() method \n",
    "- clear method is used to clear all the elements from the list and print an empty list.\n"
   ]
  },
  {
   "cell_type": "code",
   "execution_count": 10,
   "id": "7991f271-e7ea-4bbf-bab9-ef22fdc3f361",
   "metadata": {},
   "outputs": [
    {
     "name": "stdout",
     "output_type": "stream",
     "text": [
      "[]\n"
     ]
    }
   ],
   "source": [
    "l = [1,2,3,1,23,21,2,1,1,2,31,1]\n",
    "l.clear()\n",
    "print(l)"
   ]
  },
  {
   "cell_type": "markdown",
   "id": "8cca63c9-744f-40ac-9acd-2449d06a5bbc",
   "metadata": {},
   "source": [
    "# copy() method\n",
    "- copy method is used to copy the list.\n",
    "- if the list is normal there will be no effect in the duplicate copied list.\n",
    "- NOTE : if the list is nested one then just copy can change both original and duplicate copy too.\n",
    "- so we use deepcopy insted of copy to change the one of the list.it doesnt effect other list.\n"
   ]
  },
  {
   "cell_type": "code",
   "execution_count": 12,
   "id": "6d38cfbb-17f5-4a5b-af2d-54895aeeb9aa",
   "metadata": {},
   "outputs": [
    {
     "name": "stdout",
     "output_type": "stream",
     "text": [
      "[1, 2, 3, 4, 5]\n",
      "[1, 2, 3, 4, 5, 100]\n",
      "[1, 2, 3, 4, 5]\n"
     ]
    }
   ],
   "source": [
    "l = [1,2,3,4,5]\n",
    "m = l.copy()\n",
    "print(m)\n",
    "m.append(100)\n",
    "print(m)\n",
    "print(l)"
   ]
  },
  {
   "cell_type": "code",
   "execution_count": 39,
   "id": "b9dfac1f-d336-4819-9a81-d2ee2dbed9c6",
   "metadata": {},
   "outputs": [
    {
     "name": "stdout",
     "output_type": "stream",
     "text": [
      "[1, 2, 3, 1, [2, 3, 2], 56, 78]\n",
      "[1, 2, 3, 1, [2, 100, 2], 56, 78]\n",
      "[1, 2, 3, 1, [2, 100, 2], 56, 78]\n"
     ]
    }
   ],
   "source": [
    "#Nested list\n",
    "li = [1,2,3,1,[2,3,2],56,78]\n",
    "l2 = li.copy()\n",
    "print(l2)\n",
    "#l2.insert(4,100)                  #change of values only change both the list\n",
    "l2[4][1] = 100\n",
    "print(l2)\n",
    "print(li)"
   ]
  },
  {
   "cell_type": "markdown",
   "id": "40b9a269-8e62-4f1f-843a-44831a582c28",
   "metadata": {},
   "source": [
    "# deepcopy() method:\n",
    "- deepcopy is same as copy but it helps to change during nested list.\n",
    "- it make changes only in one list not in other."
   ]
  },
  {
   "cell_type": "code",
   "execution_count": 37,
   "id": "0dd29071-c6b3-4ede-a1eb-143b61a7e878",
   "metadata": {},
   "outputs": [
    {
     "name": "stdout",
     "output_type": "stream",
     "text": [
      "[1, 2, 3, [2, 3, 5], 4, 5, 6]\n",
      "[1, 2, 3, [2, 200, 5], 4, 5, 6, 2, 3]\n",
      "[1, 2, 3, [2, 3, 5], 4, 5, 6]\n"
     ]
    }
   ],
   "source": [
    "import copy\n",
    "l = [1,2,3,[2,3,5],4,5,6]\n",
    "m = copy.deepcopy(l)\n",
    "print(m)\n",
    "m.extend([2,3])\n",
    "m[3][1] = 200\n",
    "print(m)\n",
    "print(l)                    #Here it doesnt change because of deepcopy."
   ]
  },
  {
   "cell_type": "markdown",
   "id": "407f47e8-2f68-4ab3-b238-ff196373f8a8",
   "metadata": {},
   "source": [
    "# membership "
   ]
  },
  {
   "cell_type": "code",
   "execution_count": 41,
   "id": "99bb6fa6-60ed-4f4f-8403-cc92c1bb5cd1",
   "metadata": {},
   "outputs": [
    {
     "name": "stdout",
     "output_type": "stream",
     "text": [
      "True\n"
     ]
    }
   ],
   "source": [
    "li = [1,2,3,1,[2,3,2],56,78]\n",
    "print(56 in li)"
   ]
  },
  {
   "cell_type": "code",
   "execution_count": 45,
   "id": "ae9addad-b996-4507-a21b-2729c05551d6",
   "metadata": {},
   "outputs": [
    {
     "name": "stdout",
     "output_type": "stream",
     "text": [
      "1\n",
      "78\n",
      "148\n"
     ]
    }
   ],
   "source": [
    "li = [1,2,3,1,2,3,2,56,78]\n",
    "print(min(li))\n",
    "print(max(li))\n",
    "print(sum(li))"
   ]
  },
  {
   "cell_type": "markdown",
   "id": "62425d1c-69d8-458e-819f-fd84ed93086a",
   "metadata": {},
   "source": [
    "# sort and reverse in list"
   ]
  },
  {
   "cell_type": "code",
   "execution_count": 46,
   "id": "de722a03-0e54-459f-8784-76b0a94d9abe",
   "metadata": {},
   "outputs": [
    {
     "name": "stdout",
     "output_type": "stream",
     "text": [
      "[1, 1, 2, 2, 2, 3, 3, 56, 78]\n"
     ]
    }
   ],
   "source": [
    "li = [1,2,3,1,2,3,2,56,78]\n",
    "li.sort()\n",
    "print(li)"
   ]
  },
  {
   "cell_type": "code",
   "execution_count": 49,
   "id": "e9f41da2-a0b7-43cc-af3b-bb358c4d4c8e",
   "metadata": {},
   "outputs": [
    {
     "name": "stdout",
     "output_type": "stream",
     "text": [
      "[78, 56, 3, 3, 2, 2, 2, 1, 1]\n"
     ]
    }
   ],
   "source": [
    "li = [1,2,3,1,2,3,2,56,78]\n",
    "li.sort(reverse=True)             #Descending order\n",
    "print(li)"
   ]
  }
 ],
 "metadata": {
  "kernelspec": {
   "display_name": "Python [conda env:base] *",
   "language": "python",
   "name": "conda-base-py"
  },
  "language_info": {
   "codemirror_mode": {
    "name": "ipython",
    "version": 3
   },
   "file_extension": ".py",
   "mimetype": "text/x-python",
   "name": "python",
   "nbconvert_exporter": "python",
   "pygments_lexer": "ipython3",
   "version": "3.12.7"
  }
 },
 "nbformat": 4,
 "nbformat_minor": 5
}
