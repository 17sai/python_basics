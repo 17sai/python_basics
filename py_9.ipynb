{
 "cells": [
  {
   "cell_type": "markdown",
   "id": "d007225d-3416-4c42-ba3a-d5ceb9a0030c",
   "metadata": {},
   "source": [
    "# Tuple\n",
    "- Tuple is ordered collection of elements/items.\n",
    "- is represented by ()\n",
    "- allows all data types and duplicates also\n",
    "- and tuple is immutable data type."
   ]
  },
  {
   "cell_type": "markdown",
   "id": "f2fd1ae1-d080-4a9d-bfd2-3386e130b8ca",
   "metadata": {},
   "source": [
    "# advantages of Tuples:\n",
    "- Tuples are 50% faster than lists.\n",
    "- we can avoid accidental changes when we use changes."
   ]
  },
  {
   "cell_type": "code",
   "execution_count": 1,
   "id": "bce0300a-3367-4338-8bc6-212b8d2471ae",
   "metadata": {},
   "outputs": [
    {
     "name": "stdout",
     "output_type": "stream",
     "text": [
      "()\n",
      "<class 'tuple'>\n"
     ]
    }
   ],
   "source": [
    "a = ()\n",
    "print(a)\n",
    "print(type(a))"
   ]
  },
  {
   "cell_type": "code",
   "execution_count": 7,
   "id": "bf6d5653-9924-4aed-94c5-30321223aad5",
   "metadata": {},
   "outputs": [
    {
     "name": "stdout",
     "output_type": "stream",
     "text": [
      "(1, 2, 3, 4)\n",
      "<class 'tuple'>\n"
     ]
    }
   ],
   "source": [
    "#integers in a tuple\n",
    "b = (1,2,3,4)\n",
    "print(b)\n",
    "print(type(b))"
   ]
  },
  {
   "cell_type": "code",
   "execution_count": 8,
   "id": "bcacb4ef-4e10-4749-b469-bc2ff93f086c",
   "metadata": {},
   "outputs": [
    {
     "name": "stdout",
     "output_type": "stream",
     "text": [
      "(1.2, 2.3, 3.4, 4.5)\n",
      "<class 'tuple'>\n"
     ]
    }
   ],
   "source": [
    "#float tuple\n",
    "b = (1.2,2.3,3.4,4.5)\n",
    "print(b)\n",
    "print(type(b))"
   ]
  },
  {
   "cell_type": "code",
   "execution_count": 9,
   "id": "d30f80cf-8fb9-492d-b5e4-bbadeac4d13b",
   "metadata": {},
   "outputs": [
    {
     "name": "stdout",
     "output_type": "stream",
     "text": [
      "('sai', 'santhosh', 'python')\n",
      "<class 'tuple'>\n"
     ]
    }
   ],
   "source": [
    "#string tuple\n",
    "b = (\"sai\",\"santhosh\",\"python\")\n",
    "print(b)\n",
    "print(type(b))"
   ]
  },
  {
   "cell_type": "code",
   "execution_count": 10,
   "id": "7e8f4a3e-2d83-42db-9b04-0a9713dcdec7",
   "metadata": {},
   "outputs": [
    {
     "name": "stdout",
     "output_type": "stream",
     "text": [
      "(1, 2.5, 'sai', (4+8j))\n",
      "<class 'tuple'>\n"
     ]
    }
   ],
   "source": [
    "#combination of data types in a tuple\n",
    "b = (1,2.5,\"sai\",4+8j)\n",
    "print(b)\n",
    "print(type(b))"
   ]
  },
  {
   "cell_type": "code",
   "execution_count": 12,
   "id": "7ab340c1-e227-472f-8e17-dead1e943179",
   "metadata": {},
   "outputs": [
    {
     "name": "stdout",
     "output_type": "stream",
     "text": [
      "(1, 2, 3, (3, 4), 4)\n",
      "<class 'tuple'>\n"
     ]
    }
   ],
   "source": [
    "#Nested Tuple\n",
    "b = (1,2,3,(3,4),4)\n",
    "print(b)\n",
    "print(type(b))"
   ]
  },
  {
   "cell_type": "markdown",
   "id": "bfd38562-558f-4ea0-a0df-849c0f2c9a92",
   "metadata": {},
   "source": [
    "# # Tuple Indexing and slicing"
   ]
  },
  {
   "cell_type": "code",
   "execution_count": 19,
   "id": "6887f7f4-6516-4199-a00c-d4755b59283f",
   "metadata": {},
   "outputs": [
    {
     "name": "stdout",
     "output_type": "stream",
     "text": [
      "2\n",
      "(4, 3, 2, 8, 9, 7, 6, 1, 2, 3, 4)\n",
      "(3, 2, 8, 9, 7, 6, 1, 2, 3, 4)\n",
      "(4, 3, 2, 1, 6, 7, 9, 8, 2, 3, 4)\n",
      "(4, 2)\n",
      "(2, 8, 9, 7, 6, 1, 2)\n",
      "(3, 2, 1, 6, 7, 9, 8)\n"
     ]
    }
   ],
   "source": [
    "b = (4,3,2,8,9,7,6,1,2,3,4)\n",
    "print(b[2])\n",
    "print(b[::])\n",
    "print(b[1:])\n",
    "print(b[::-1])\n",
    "print(b[0:4:2])\n",
    "print(b[-9:-2])\n",
    "print(b[-2:-9:-1])"
   ]
  },
  {
   "cell_type": "code",
   "execution_count": 20,
   "id": "a0fc3ae9-8ae7-4b55-a696-8d1204ed73fa",
   "metadata": {},
   "outputs": [
    {
     "data": {
      "text/plain": [
       "4"
      ]
     },
     "execution_count": 20,
     "metadata": {},
     "output_type": "execute_result"
    }
   ],
   "source": [
    "b = (1,2,3,(3,4),4)\n",
    "b[3][1]"
   ]
  },
  {
   "cell_type": "code",
   "execution_count": 23,
   "id": "4e6b38d7-382f-4235-aebe-8e74d25809e6",
   "metadata": {},
   "outputs": [
    {
     "name": "stdout",
     "output_type": "stream",
     "text": [
      "(1, 2, 3, (3, 4), 4, 100)\n"
     ]
    }
   ],
   "source": [
    "b = (1,2,3,(3,4),4)\n",
    "d = (100,)\n",
    "print(b+d)"
   ]
  },
  {
   "cell_type": "code",
   "execution_count": 29,
   "id": "4292d08b-bd3c-438e-abd8-90bc45f54735",
   "metadata": {},
   "outputs": [],
   "source": [
    "d = (100,)\n",
    "del d                #Deleting a entire Tuple\n",
    "#print(d)"
   ]
  },
  {
   "cell_type": "markdown",
   "id": "5ef30908-64f2-4d19-912f-a0385bff3223",
   "metadata": {},
   "source": [
    "# Packing a Tuple"
   ]
  },
  {
   "cell_type": "code",
   "execution_count": 32,
   "id": "265d164f-b303-49f9-bb74-c2f20be67a4c",
   "metadata": {},
   "outputs": [
    {
     "name": "stdout",
     "output_type": "stream",
     "text": [
      "(3, 4)\n"
     ]
    }
   ],
   "source": [
    "a = 3\n",
    "b = 4\n",
    "print((a,b))"
   ]
  },
  {
   "cell_type": "markdown",
   "id": "1dc0535c-18ef-46de-8e68-cd5add6ec9fe",
   "metadata": {},
   "source": [
    "# Unpacking a Tuple"
   ]
  },
  {
   "cell_type": "code",
   "execution_count": 37,
   "id": "bb294c63-497a-41a9-af0e-c8aebbabc36b",
   "metadata": {},
   "outputs": [
    {
     "name": "stdout",
     "output_type": "stream",
     "text": [
      "(3, 4)\n",
      "<class 'tuple'>\n",
      "(3, 4)\n",
      "<class 'tuple'>\n"
     ]
    }
   ],
   "source": [
    "a = 3\n",
    "b = 4\n",
    "c = (a,b)\n",
    "print(c)\n",
    "print(type(c))\n",
    "c = a,b\n",
    "print(c)\n",
    "print(type(c))"
   ]
  },
  {
   "cell_type": "markdown",
   "id": "643fbce7-ebd1-416c-8eb4-d6b69afb2e80",
   "metadata": {},
   "source": [
    "# sorting in asc order and descen order"
   ]
  },
  {
   "cell_type": "code",
   "execution_count": 39,
   "id": "e7dd31ad-7003-4089-b213-16bdce30a9c7",
   "metadata": {},
   "outputs": [
    {
     "name": "stdout",
     "output_type": "stream",
     "text": [
      "[1, 2, 34, 332, 567, 567]\n",
      "[567, 567, 332, 34, 2, 1]\n"
     ]
    }
   ],
   "source": [
    "a = (1,34,567,332,567,2)\n",
    "print(sorted(a))\n",
    "print(sorted(a,reverse=True))"
   ]
  },
  {
   "cell_type": "markdown",
   "id": "c2746fbd-15dc-40d4-bbbd-caee72e1687c",
   "metadata": {},
   "source": [
    "# sorting a tuple which contains strings"
   ]
  },
  {
   "cell_type": "code",
   "execution_count": 42,
   "id": "2ac45a8d-c7dd-49af-91c3-48d3e50a1492",
   "metadata": {},
   "outputs": [
    {
     "name": "stdout",
     "output_type": "stream",
     "text": [
      "['cat', 'dog', 'donkey', 'monkey', 'zebra']\n",
      "['Donkey', 'Zebra', 'cat', 'dog', 'monkey']\n"
     ]
    }
   ],
   "source": [
    "a = (\"cat\",\"monkey\",\"zebra\",\"dog\",\"donkey\")\n",
    "print(sorted(a))                                       #Here only small alphabets are there so sorted easily.\n",
    "b = (\"cat\",\"monkey\",\"Zebra\",\"dog\",\"Donkey\")\n",
    "print(sorted(b))                                       #Here both small and cap's are there so preference is capital alphabets."
   ]
  },
  {
   "cell_type": "markdown",
   "id": "778b03eb-a4c6-4d31-9b57-25fef635bc6a",
   "metadata": {},
   "source": [
    "# Type conversion to list`"
   ]
  },
  {
   "cell_type": "code",
   "execution_count": 45,
   "id": "38c0057e-049b-40d7-8c4b-d9270885e26e",
   "metadata": {},
   "outputs": [
    {
     "name": "stdout",
     "output_type": "stream",
     "text": [
      "['cat', 'monkey', 'zebra', 'dog', 'donkey']\n",
      "<class 'list'>\n"
     ]
    }
   ],
   "source": [
    "a = (\"cat\",\"monkey\",\"zebra\",\"dog\",\"donkey\")\n",
    "b = list(a)\n",
    "print(b)\n",
    "print(type(b))"
   ]
  },
  {
   "cell_type": "code",
   "execution_count": 44,
   "id": "09e5b6d8-0505-455d-b5aa-b7e2c6b4074b",
   "metadata": {},
   "outputs": [
    {
     "name": "stdout",
     "output_type": "stream",
     "text": [
      "('cat', 'monkey', 'zebra', 'dog', 'donkey')\n",
      "<class 'tuple'>\n"
     ]
    }
   ],
   "source": [
    "a = [\"cat\",\"monkey\",\"zebra\",\"dog\",\"donkey\"]\n",
    "b = tuple(a)\n",
    "print(b)\n",
    "print(type(b))"
   ]
  },
  {
   "cell_type": "markdown",
   "id": "e8dd7905-3f12-4051-8740-7a2908a8c045",
   "metadata": {},
   "source": [
    "# membership operator in Tuple"
   ]
  },
  {
   "cell_type": "code",
   "execution_count": 47,
   "id": "57c43db8-a5a3-4222-93c3-8c9c04b3788e",
   "metadata": {},
   "outputs": [
    {
     "name": "stdout",
     "output_type": "stream",
     "text": [
      "True\n",
      "False\n"
     ]
    }
   ],
   "source": [
    "a = (\"cat\",\"monkey\",\"zebra\",\"dog\",\"donkey\")\n",
    "print(\"donkey\" in a)\n",
    "print(\"cat\" not in a)"
   ]
  },
  {
   "cell_type": "code",
   "execution_count": 65,
   "id": "d3814372-ae59-411b-a315-033b61a2e97f",
   "metadata": {},
   "outputs": [
    {
     "name": "stdout",
     "output_type": "stream",
     "text": [
      "(1, 2, 3, 2, 3, 4, 5)\n"
     ]
    }
   ],
   "source": [
    "a = (1,2,3,[2,3,4],5)\n",
    "b = list(a)\n",
    "b.insert(3,a[3][0])\n",
    "b.insert(4,a[3][1])\n",
    "b.insert(5,a[3][2])\n",
    "del b[6]\n",
    "print(tuple(b))"
   ]
  },
  {
   "cell_type": "code",
   "execution_count": 68,
   "id": "1be4ab6f-192f-4c64-8308-2ec892f42f45",
   "metadata": {},
   "outputs": [
    {
     "ename": "TypeError",
     "evalue": "'bool' object is not iterable",
     "output_type": "error",
     "traceback": [
      "\u001b[0;31m---------------------------------------------------------------------------\u001b[0m",
      "\u001b[0;31mTypeError\u001b[0m                                 Traceback (most recent call last)",
      "Cell \u001b[0;32mIn[68], line 2\u001b[0m\n\u001b[1;32m      1\u001b[0m a \u001b[38;5;241m=\u001b[39m [\u001b[38;5;241m1\u001b[39m,\u001b[38;5;241m2\u001b[39m,\u001b[38;5;241m3\u001b[39m,(\u001b[38;5;241m6\u001b[39m,\u001b[38;5;241m7\u001b[39m,\u001b[38;5;241m8\u001b[39m),\u001b[38;5;241m3\u001b[39m,\u001b[38;5;241m4\u001b[39m]\n\u001b[0;32m----> 2\u001b[0m \u001b[38;5;28mlist\u001b[39m(a[\u001b[38;5;241m3\u001b[39m]\u001b[38;5;241m==\u001b[39m\u001b[38;5;28mtuple\u001b[39m)\n\u001b[1;32m      3\u001b[0m \u001b[38;5;28mprint\u001b[39m(a)\n",
      "\u001b[0;31mTypeError\u001b[0m: 'bool' object is not iterable"
     ]
    }
   ],
   "source": [
    "a = [1,2,3,(6,7,8),3,4]\n",
    "list(a[3]==tuple)\n",
    "print(a)"
   ]
  },
  {
   "cell_type": "code",
   "execution_count": null,
   "id": "805b6963-7769-42f4-97ed-373b8d6297bb",
   "metadata": {},
   "outputs": [],
   "source": []
  }
 ],
 "metadata": {
  "kernelspec": {
   "display_name": "Python [conda env:base] *",
   "language": "python",
   "name": "conda-base-py"
  },
  "language_info": {
   "codemirror_mode": {
    "name": "ipython",
    "version": 3
   },
   "file_extension": ".py",
   "mimetype": "text/x-python",
   "name": "python",
   "nbconvert_exporter": "python",
   "pygments_lexer": "ipython3",
   "version": "3.12.7"
  }
 },
 "nbformat": 4,
 "nbformat_minor": 5
}
