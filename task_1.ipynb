{
 "cells": [
  {
   "cell_type": "markdown",
   "id": "72db96c5-ca10-40b6-b160-2edac7d02137",
   "metadata": {},
   "source": [
    "# 1.what is python?\n",
    "- python is a general purpose high-level language.\n",
    "- python is object oriented language.\n",
    "- it is dynamically typed.\n",
    "- interpreted language."
   ]
  },
  {
   "cell_type": "markdown",
   "id": "273ed218-2e8c-4789-8bf6-c897ac313ff7",
   "metadata": {},
   "source": [
    "# 2.Who created Python and when?\n",
    "- \"guido van rossum\" invented python in the year \"1991\"."
   ]
  },
  {
   "cell_type": "markdown",
   "id": "bc291ca9-c61f-42f5-8fcb-22139278de69",
   "metadata": {},
   "source": [
    "# 3.Why is Python a popular programming language?\n",
    "- python is easy to use language.\n",
    "- python is rich in libraries.\n",
    "- it is an open source language.\n",
    "- platform independent.\n",
    "- dynamically typed"
   ]
  },
  {
   "cell_type": "markdown",
   "id": "499f4620-7d9a-45cc-955b-562958f3278f",
   "metadata": {},
   "source": [
    "# 4.What are some common uses of Python?\n",
    "- game development\n",
    "- web development\n",
    "- automation and testing\n",
    "- artificial intelligence and machine learning\n",
    "- robotics\n",
    "- IOT"
   ]
  },
  {
   "cell_type": "markdown",
   "id": "55b43e89-308b-4bab-ae9e-734c51256234",
   "metadata": {},
   "source": [
    "# 5.Is Python a compiled or interpreted language?\n",
    "- python is an interpreted language"
   ]
  },
  {
   "cell_type": "markdown",
   "id": "00b0407f-0a87-4e0f-9904-67efbba88877",
   "metadata": {},
   "source": [
    "# 6.What is a variable in Python?\n",
    "- variable is the memory address of the value assigned."
   ]
  },
  {
   "cell_type": "markdown",
   "id": "9417013f-25bd-4472-9215-7ce149c7afa8",
   "metadata": {},
   "source": [
    "# 7.What is the file extension for Python files?\n",
    "- generally \".py\" is the extension for python files but in jupyter notebook its \".ipynb\"."
   ]
  },
  {
   "cell_type": "markdown",
   "id": "8f292f3a-c21e-453f-ac06-f9faa73f69f2",
   "metadata": {},
   "source": [
    "# 8.What is an IDE and name a few used for Python development?\n",
    "- IDE means Integrated Development Environment\n",
    "- pycharm,jupyternotebook,vscode,spyder,anaconda etc..."
   ]
  },
  {
   "cell_type": "markdown",
   "id": "17452225-d8ed-4c4e-83c5-62486e203965",
   "metadata": {},
   "source": [
    "# 9.What is Jupyter Notebook and what is it used for?\n",
    "- jupyter notebook is a text editor.\n",
    "- it helps to convert code to machine language."
   ]
  },
  {
   "cell_type": "markdown",
   "id": "e425d56c-8f38-4039-8081-5a1a9c73ba09",
   "metadata": {},
   "source": [
    "# 10.How do you run a cell in Jupyter Notebook\n",
    "- we can use run symbol in the navigation bar or we can use shift+enter using keyboard."
   ]
  },
  {
   "cell_type": "markdown",
   "id": "b0e7ac96-381f-42e7-9125-3624c9eef795",
   "metadata": {},
   "source": [
    "# 11.What is the difference between a code cell and a markdown cell in Jupyter Notebook?\n",
    "- code cell is used to run or edit a code.\n",
    "- while markdown cell is used to mention headings. "
   ]
  },
  {
   "cell_type": "markdown",
   "id": "6a38775d-add6-4791-9e01-205f6ed33b95",
   "metadata": {},
   "source": [
    "# 12.How do you save your work in Jupyter Notebook?\n",
    "- we can save a file by using control+s or by using \"file\" then \"save\" "
   ]
  },
  {
   "cell_type": "markdown",
   "id": "479d9f6a-fc22-4dcb-a840-f43337201851",
   "metadata": {},
   "source": [
    "# 13. What are the advantages of using Jupyter Notebook for Python programming?\n",
    "- code can be executed cell by cell\n",
    "- we can execute the code without internet\n",
    "- jupyter notebook help to mention headings,raw text and code in the same file."
   ]
  },
  {
   "cell_type": "code",
   "execution_count": null,
   "id": "f9a48fa5-7263-4693-b391-131b3121abd3",
   "metadata": {},
   "outputs": [],
   "source": []
  }
 ],
 "metadata": {
  "kernelspec": {
   "display_name": "Python [conda env:base] *",
   "language": "python",
   "name": "conda-base-py"
  },
  "language_info": {
   "codemirror_mode": {
    "name": "ipython",
    "version": 3
   },
   "file_extension": ".py",
   "mimetype": "text/x-python",
   "name": "python",
   "nbconvert_exporter": "python",
   "pygments_lexer": "ipython3",
   "version": "3.12.7"
  }
 },
 "nbformat": 4,
 "nbformat_minor": 5
}
