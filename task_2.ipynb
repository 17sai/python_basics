{
 "cells": [
  {
   "cell_type": "markdown",
   "id": "fea80fbe-9a38-4ae0-9b3b-eaa61df7985a",
   "metadata": {},
   "source": [
    "# 1. Create a variable name and assign your name to it."
   ]
  },
  {
   "cell_type": "code",
   "execution_count": 3,
   "id": "48e756a3-5511-498a-beda-82c69df22de1",
   "metadata": {},
   "outputs": [],
   "source": [
    "name = \"sai santhosh\""
   ]
  },
  {
   "cell_type": "markdown",
   "id": "6db4c3c0-c7bd-4352-ba5a-f09030ae65ec",
   "metadata": {},
   "source": [
    "# 2. Assign the number 25 to a variable called age."
   ]
  },
  {
   "cell_type": "code",
   "execution_count": 4,
   "id": "30a6849c-5261-4c06-84db-ebb8ec7a283a",
   "metadata": {},
   "outputs": [],
   "source": [
    "age = 25"
   ]
  },
  {
   "cell_type": "markdown",
   "id": "2a472414-d1e2-422c-9ec6-7dec310b2f97",
   "metadata": {},
   "source": [
    "# 3. Change the value of a variable x from 10 to 20."
   ]
  },
  {
   "cell_type": "code",
   "execution_count": 17,
   "id": "27dd99be-9b2e-4e4e-b8f9-59f951a2d113",
   "metadata": {},
   "outputs": [
    {
     "name": "stdout",
     "output_type": "stream",
     "text": [
      "20\n"
     ]
    }
   ],
   "source": [
    "x = 10\n",
    "x = 20\n",
    "print(x)"
   ]
  },
  {
   "cell_type": "markdown",
   "id": "101566d1-382d-4819-a249-fe7af1bf8278",
   "metadata": {},
   "source": [
    "# 4. Print the value of a variable language assigned to \"Python\"."
   ]
  },
  {
   "cell_type": "code",
   "execution_count": 8,
   "id": "c8aab672-2e5f-45e2-9554-a3306acb0596",
   "metadata": {},
   "outputs": [
    {
     "name": "stdout",
     "output_type": "stream",
     "text": [
      "python\n"
     ]
    }
   ],
   "source": [
    "language = \"python\"\n",
    "print(language)"
   ]
  },
  {
   "cell_type": "markdown",
   "id": "72a06f95-fb17-4351-a070-8a814fc82d99",
   "metadata": {},
   "source": [
    "# 5. Create a variable height and assign it a decimal value."
   ]
  },
  {
   "cell_type": "code",
   "execution_count": 9,
   "id": "d318bce3-0825-4b98-978a-73513a13939a",
   "metadata": {},
   "outputs": [],
   "source": [
    "height = 17.07"
   ]
  },
  {
   "cell_type": "markdown",
   "id": "739b2bb1-e72b-4313-bf44-6bcb9df5b921",
   "metadata": {},
   "source": [
    "# 6. Assign multiple values to a, b, and c in a single line."
   ]
  },
  {
   "cell_type": "code",
   "execution_count": 14,
   "id": "caa8080b-18fd-4347-afd5-9cf90397c006",
   "metadata": {},
   "outputs": [],
   "source": [
    "a , b , c = 2 , 6 , 8"
   ]
  },
  {
   "cell_type": "markdown",
   "id": "7d5cf158-b0cc-455f-8367-d27bb0588063",
   "metadata": {},
   "source": [
    "# 7. Declare a variable is_coding_fun and assign it a Boolean value."
   ]
  },
  {
   "cell_type": "code",
   "execution_count": 15,
   "id": "ef2018d3-f3ab-47bb-b8e0-5d0ce1669ef6",
   "metadata": {},
   "outputs": [],
   "source": [
    "is_coding_fun=True"
   ]
  },
  {
   "cell_type": "markdown",
   "id": "3bc51177-0069-4fef-9601-21f8b3b94151",
   "metadata": {},
   "source": [
    "# 8. Swap values of two variables x and y."
   ]
  },
  {
   "cell_type": "code",
   "execution_count": 16,
   "id": "52543b18-52e0-4347-baf2-5517fbf5d5ba",
   "metadata": {},
   "outputs": [
    {
     "name": "stdout",
     "output_type": "stream",
     "text": [
      "5\n",
      "4\n"
     ]
    }
   ],
   "source": [
    "x = 4\n",
    "y = 5\n",
    "a = x\n",
    "x = y\n",
    "y = a\n",
    "print(x)\n",
    "print(y)"
   ]
  },
  {
   "cell_type": "markdown",
   "id": "a0045490-ea29-4ca2-aed0-802b09317ed3",
   "metadata": {},
   "source": [
    "# 9. Assign a string to a variable, then reassign an integer to the same variable."
   ]
  },
  {
   "cell_type": "code",
   "execution_count": 18,
   "id": "26f737d3-b47d-4aad-b0e6-c9d7a11051f9",
   "metadata": {},
   "outputs": [
    {
     "name": "stdout",
     "output_type": "stream",
     "text": [
      "17\n"
     ]
    }
   ],
   "source": [
    "x = \"abc\"\n",
    "x = 17\n",
    "print(x)"
   ]
  },
  {
   "cell_type": "markdown",
   "id": "b120afee-a5ed-448d-9008-635b9e2b3c80",
   "metadata": {},
   "source": [
    "# 10. Create a variable z and assign it the sum of two other variables."
   ]
  },
  {
   "cell_type": "code",
   "execution_count": 19,
   "id": "0bb26228-5f9f-4e7c-9085-98b4f41d1c0c",
   "metadata": {},
   "outputs": [
    {
     "name": "stdout",
     "output_type": "stream",
     "text": [
      "7\n"
     ]
    }
   ],
   "source": [
    "x = 3\n",
    "y = 4\n",
    "z = x + y\n",
    "print(z)"
   ]
  },
  {
   "cell_type": "markdown",
   "id": "e765fd46-452c-4bcf-b249-f39074dc0dd3",
   "metadata": {},
   "source": [
    "# 11. Create a variable with an underscore in its name (e.g., first_name)."
   ]
  },
  {
   "cell_type": "code",
   "execution_count": 20,
   "id": "64bb776f-5438-4a8c-9fa1-346eb10c5f88",
   "metadata": {},
   "outputs": [],
   "source": [
    "batch_410 = \"students\""
   ]
  },
  {
   "cell_type": "markdown",
   "id": "5690d02c-8043-4ea6-8dbb-42bbeef28980",
   "metadata": {},
   "source": [
    "# 12. Try naming a variable starting with a number and observe the result."
   ]
  },
  {
   "cell_type": "code",
   "execution_count": 21,
   "id": "7131396b-4e13-4eeb-be17-bc52f92ea2aa",
   "metadata": {},
   "outputs": [
    {
     "ename": "SyntaxError",
     "evalue": "invalid decimal literal (4117591974.py, line 1)",
     "output_type": "error",
     "traceback": [
      "\u001b[0;36m  Cell \u001b[0;32mIn[21], line 1\u001b[0;36m\u001b[0m\n\u001b[0;31m    410_batch = \"students\"\u001b[0m\n\u001b[0m       ^\u001b[0m\n\u001b[0;31mSyntaxError\u001b[0m\u001b[0;31m:\u001b[0m invalid decimal literal\n"
     ]
    }
   ],
   "source": [
    "410_batch = \"students\""
   ]
  },
  {
   "cell_type": "markdown",
   "id": "891b372c-548a-456d-8913-ebdbaace8a15",
   "metadata": {},
   "source": [
    "# 13. Use a mix of uppercase and lowercase letters in a variable name."
   ]
  },
  {
   "cell_type": "code",
   "execution_count": 22,
   "id": "2fe85f99-a572-476f-9646-d6b317773267",
   "metadata": {},
   "outputs": [],
   "source": [
    "BaTcH_410 = \" students\""
   ]
  },
  {
   "cell_type": "markdown",
   "id": "c8c020d8-f138-4c37-8a76-00043e52c3a6",
   "metadata": {},
   "source": [
    "# 14. Create two variables score and Score with different values."
   ]
  },
  {
   "cell_type": "code",
   "execution_count": 23,
   "id": "e4b95929-4acc-4953-a922-f5d96d30fd25",
   "metadata": {},
   "outputs": [],
   "source": [
    "score = 10\n",
    "Score = 20"
   ]
  },
  {
   "cell_type": "markdown",
   "id": "a5d53791-160f-4650-83a9-dd23dcb7a0e1",
   "metadata": {},
   "source": [
    "# 15. Try using a special character (e.g., @) in a variable name."
   ]
  },
  {
   "cell_type": "code",
   "execution_count": 24,
   "id": "6720c117-3cc9-4d41-894f-b7544b8c048b",
   "metadata": {},
   "outputs": [
    {
     "ename": "SyntaxError",
     "evalue": "cannot assign to expression here. Maybe you meant '==' instead of '='? (3489299070.py, line 1)",
     "output_type": "error",
     "traceback": [
      "\u001b[0;36m  Cell \u001b[0;32mIn[24], line 1\u001b[0;36m\u001b[0m\n\u001b[0;31m    batch@410 = \"students\"\u001b[0m\n\u001b[0m    ^\u001b[0m\n\u001b[0;31mSyntaxError\u001b[0m\u001b[0;31m:\u001b[0m cannot assign to expression here. Maybe you meant '==' instead of '='?\n"
     ]
    }
   ],
   "source": [
    "batch@410 = \"students\""
   ]
  },
  {
   "cell_type": "markdown",
   "id": "ef68fbc4-eb03-438d-bec1-71aade44aa74",
   "metadata": {},
   "source": [
    "# 16. Try using a Python keyword as a variable name (e.g., if = 5)."
   ]
  },
  {
   "cell_type": "code",
   "execution_count": 25,
   "id": "39764426-5136-40cb-8145-2cbc0f420c9a",
   "metadata": {},
   "outputs": [
    {
     "ename": "SyntaxError",
     "evalue": "invalid syntax (2593154962.py, line 1)",
     "output_type": "error",
     "traceback": [
      "\u001b[0;36m  Cell \u001b[0;32mIn[25], line 1\u001b[0;36m\u001b[0m\n\u001b[0;31m    import = 10\u001b[0m\n\u001b[0m           ^\u001b[0m\n\u001b[0;31mSyntaxError\u001b[0m\u001b[0;31m:\u001b[0m invalid syntax\n"
     ]
    }
   ],
   "source": [
    "import = 10"
   ]
  },
  {
   "cell_type": "markdown",
   "id": "3ac006bf-d3c6-4f0d-a148-b1b2ed7af356",
   "metadata": {},
   "source": [
    "# 17. Write code that checks if \"for\" is a Python keyword."
   ]
  },
  {
   "cell_type": "code",
   "execution_count": 31,
   "id": "f7a708f6-a563-4c38-a80a-3ede7cbe5fa6",
   "metadata": {},
   "outputs": [
    {
     "name": "stdout",
     "output_type": "stream",
     "text": [
      "['False', 'None', 'True', 'and', 'as', 'assert', 'async', 'await', 'break', 'class', 'continue', 'def', 'del', 'elif', 'else', 'except', 'finally', 'for', 'from', 'global', 'if', 'import', 'in', 'is', 'lambda', 'nonlocal', 'not', 'or', 'pass', 'raise', 'return', 'try', 'while', 'with', 'yield']\n"
     ]
    }
   ],
   "source": [
    "import keyword\n",
    "print(keyword.kwlist)"
   ]
  },
  {
   "cell_type": "code",
   "execution_count": 32,
   "id": "7ad9e8e3-1543-4f3a-9953-9041221172c9",
   "metadata": {},
   "outputs": [],
   "source": [
    "#from the above list we know that for is a keyword."
   ]
  },
  {
   "cell_type": "markdown",
   "id": "d6be853e-2be2-4682-ae51-e9598d23611f",
   "metadata": {},
   "source": [
    "# 18. Import the keyword module and print the full list of keywords."
   ]
  },
  {
   "cell_type": "code",
   "execution_count": 28,
   "id": "3227d1d6-e08c-491c-838a-e52689861bda",
   "metadata": {},
   "outputs": [
    {
     "name": "stdout",
     "output_type": "stream",
     "text": [
      "['False', 'None', 'True', 'and', 'as', 'assert', 'async', 'await', 'break', 'class', 'continue', 'def', 'del', 'elif', 'else', 'except', 'finally', 'for', 'from', 'global', 'if', 'import', 'in', 'is', 'lambda', 'nonlocal', 'not', 'or', 'pass', 'raise', 'return', 'try', 'while', 'with', 'yield']\n"
     ]
    }
   ],
   "source": [
    "import keyword\n",
    "print(keyword.kwlist)"
   ]
  },
  {
   "cell_type": "markdown",
   "id": "5fccb3c6-bd60-4b27-9d8b-48b4def0b4d1",
   "metadata": {},
   "source": [
    "# 19. Write a comment explaining why class cannot be used as a variable."
   ]
  },
  {
   "cell_type": "code",
   "execution_count": 29,
   "id": "d289e33a-5122-4c23-b565-49ec74ff451c",
   "metadata": {},
   "outputs": [],
   "source": [
    "#class cannot be used as a variable because its a keyword in python."
   ]
  },
  {
   "cell_type": "markdown",
   "id": "622e89e7-446a-4c7a-b553-6c5586b38075",
   "metadata": {},
   "source": [
    "# Interview Questions"
   ]
  },
  {
   "cell_type": "markdown",
   "id": "df722879-0f13-49a8-bee0-ba072a0a4a17",
   "metadata": {},
   "source": [
    "## 1. What will be the output of the following code? Explain.\n",
    "class = \"MyClass\"\n",
    "print(class)"
   ]
  },
  {
   "cell_type": "code",
   "execution_count": 33,
   "id": "6cdf9ccf-b692-4e73-b570-6b6a6da015ff",
   "metadata": {},
   "outputs": [
    {
     "ename": "SyntaxError",
     "evalue": "invalid syntax (1381985252.py, line 1)",
     "output_type": "error",
     "traceback": [
      "\u001b[0;36m  Cell \u001b[0;32mIn[33], line 1\u001b[0;36m\u001b[0m\n\u001b[0;31m    class = \"MyClass\"\u001b[0m\n\u001b[0m          ^\u001b[0m\n\u001b[0;31mSyntaxError\u001b[0m\u001b[0;31m:\u001b[0m invalid syntax\n"
     ]
    }
   ],
   "source": [
    "class = \"MyClass\"\n",
    "print(class)"
   ]
  },
  {
   "cell_type": "code",
   "execution_count": 34,
   "id": "820c84ef-5c68-4543-a844-4aa105bb3744",
   "metadata": {},
   "outputs": [],
   "source": [
    "#Invalid syntax because class is a keyword which cannot be used as a variable name."
   ]
  },
  {
   "cell_type": "markdown",
   "id": "6ebb6456-b0a4-4d35-ac92-613d83a10d39",
   "metadata": {},
   "source": [
    "# 2. What is the output and why?\n",
    "_ = \"underscore\"\n",
    "print(_)"
   ]
  },
  {
   "cell_type": "code",
   "execution_count": 36,
   "id": "00d2ca17-2440-4379-9605-bd3ba3f1c829",
   "metadata": {},
   "outputs": [
    {
     "name": "stdout",
     "output_type": "stream",
     "text": [
      "underscore\n"
     ]
    }
   ],
   "source": [
    "_ = \"underscore\"\n",
    "print(_)"
   ]
  },
  {
   "cell_type": "code",
   "execution_count": 37,
   "id": "b5cc3ed8-d7ec-4759-ace1-43aa314cfc05",
   "metadata": {},
   "outputs": [],
   "source": [
    "#output is underscore because the rules of declaring a varible says that only (_) can be used as special characters. "
   ]
  },
  {
   "cell_type": "code",
   "execution_count": null,
   "id": "faf4bbd0-eee2-4bc2-905a-b9ec495ca488",
   "metadata": {},
   "outputs": [],
   "source": []
  }
 ],
 "metadata": {
  "kernelspec": {
   "display_name": "Python [conda env:base] *",
   "language": "python",
   "name": "conda-base-py"
  },
  "language_info": {
   "codemirror_mode": {
    "name": "ipython",
    "version": 3
   },
   "file_extension": ".py",
   "mimetype": "text/x-python",
   "name": "python",
   "nbconvert_exporter": "python",
   "pygments_lexer": "ipython3",
   "version": "3.12.7"
  }
 },
 "nbformat": 4,
 "nbformat_minor": 5
}
