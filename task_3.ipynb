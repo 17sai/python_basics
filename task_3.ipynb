{
 "cells": [
  {
   "cell_type": "markdown",
   "id": "5f1fcd63-6745-4468-94c9-d48e3b60f92d",
   "metadata": {},
   "source": [
    "# 1.How many characters are in the string \"Python3\"?"
   ]
  },
  {
   "cell_type": "code",
   "execution_count": 1,
   "id": "f48847be-82f2-4ac4-aed9-efac9e6c6643",
   "metadata": {},
   "outputs": [
    {
     "name": "stdout",
     "output_type": "stream",
     "text": [
      "7\n"
     ]
    }
   ],
   "source": [
    "a = \"Python3\"\n",
    "print(len(a))"
   ]
  },
  {
   "cell_type": "markdown",
   "id": "fa6d64a6-373a-4472-ab01-6f8760d61c07",
   "metadata": {},
   "source": [
    "# 2.If text = \" Hello World \", what does len(text) return?"
   ]
  },
  {
   "cell_type": "code",
   "execution_count": 2,
   "id": "096593bf-c94d-475e-b36b-dfc64370cb37",
   "metadata": {},
   "outputs": [
    {
     "name": "stdout",
     "output_type": "stream",
     "text": [
      "13\n"
     ]
    }
   ],
   "source": [
    "text = \" Hello World \"\n",
    "print(len(text))"
   ]
  },
  {
   "cell_type": "markdown",
   "id": "43c9f7ff-a43a-4c1b-8f0d-610573345935",
   "metadata": {},
   "source": [
    "# 3.Count the length of \" \" (a space character). Is it 0?"
   ]
  },
  {
   "cell_type": "code",
   "execution_count": 3,
   "id": "40eb49bf-525b-4022-9a96-b81058ea469a",
   "metadata": {},
   "outputs": [
    {
     "name": "stdout",
     "output_type": "stream",
     "text": [
      "1\n"
     ]
    }
   ],
   "source": [
    "print(len(\" \"))"
   ]
  },
  {
   "cell_type": "markdown",
   "id": "a84ed217-9019-4dc7-b66e-a9fcd82e3a72",
   "metadata": {},
   "source": [
    "# 4.Convert \"Good Morning\" to uppercase. What do you get?"
   ]
  },
  {
   "cell_type": "code",
   "execution_count": 6,
   "id": "c07f7910-b1c7-4abb-a5f0-42d47684c8d1",
   "metadata": {},
   "outputs": [
    {
     "name": "stdout",
     "output_type": "stream",
     "text": [
      "GOOD MORNING\n"
     ]
    }
   ],
   "source": [
    "a = \"Good Morning\"\n",
    "print(a.upper())"
   ]
  },
  {
   "cell_type": "markdown",
   "id": "accb7596-d025-479f-ac9a-1b9fb9829cc8",
   "metadata": {},
   "source": [
    "# 5.What is \"HELLO\".lower()?"
   ]
  },
  {
   "cell_type": "code",
   "execution_count": 7,
   "id": "6dbbeb21-7877-4fac-b7eb-29d59059089a",
   "metadata": {},
   "outputs": [
    {
     "name": "stdout",
     "output_type": "stream",
     "text": [
      "hello\n"
     ]
    }
   ],
   "source": [
    "a = \"HELLO\"\n",
    "print(a.lower())"
   ]
  },
  {
   "cell_type": "markdown",
   "id": "af251794-c39f-4128-9f72-46266d8a604b",
   "metadata": {},
   "source": [
    "# 6.If msg = \"PyThOn\", what will msg.upper() and msg.lower() return?"
   ]
  },
  {
   "cell_type": "code",
   "execution_count": 8,
   "id": "fdfa4d26-4369-48e5-b4a8-522eaf315161",
   "metadata": {},
   "outputs": [
    {
     "name": "stdout",
     "output_type": "stream",
     "text": [
      "PYTHON\n",
      "python\n"
     ]
    }
   ],
   "source": [
    "msg = \"PyThOn\"\n",
    "print(msg.upper())\n",
    "print(msg.lower())"
   ]
  },
  {
   "cell_type": "markdown",
   "id": "66744370-25d6-46db-9dc8-65832ebdcf66",
   "metadata": {},
   "source": [
    "# 7.What happens if you use .upper() on \"123abc!\"?"
   ]
  },
  {
   "cell_type": "code",
   "execution_count": 10,
   "id": "7f505a93-5e6c-4c0f-bc71-3611b430a9c7",
   "metadata": {},
   "outputs": [
    {
     "name": "stdout",
     "output_type": "stream",
     "text": [
      "123ABC!\n"
     ]
    }
   ],
   "source": [
    "a = \"123abc!\"\n",
    "print(a.upper())      #it converts characters in the string to upper case"
   ]
  },
  {
   "cell_type": "markdown",
   "id": "bd8798f0-5371-42e9-8e16-044bf8f011c2",
   "metadata": {},
   "source": [
    "# 8.What does \"hello world\".capitalize() return?"
   ]
  },
  {
   "cell_type": "code",
   "execution_count": 11,
   "id": "f2e5b018-da65-43d0-88fc-a55a055dbe6b",
   "metadata": {},
   "outputs": [
    {
     "name": "stdout",
     "output_type": "stream",
     "text": [
      "Hello world\n"
     ]
    }
   ],
   "source": [
    "print(\"hello world\".capitalize())"
   ]
  },
  {
   "cell_type": "markdown",
   "id": "e100d0f2-db51-4751-89a2-4aa168e624f3",
   "metadata": {},
   "source": [
    "# 9.Convert \"hello world from python\" to title case."
   ]
  },
  {
   "cell_type": "code",
   "execution_count": 12,
   "id": "5565251e-e173-4688-b5fd-f6cf9af1bf43",
   "metadata": {},
   "outputs": [
    {
     "name": "stdout",
     "output_type": "stream",
     "text": [
      "Hello World From Python\n"
     ]
    }
   ],
   "source": [
    "print(\"hello world from python\".title())"
   ]
  },
  {
   "cell_type": "markdown",
   "id": "ed43ddfa-7641-4b3e-b409-e5a3ede3c9a6",
   "metadata": {},
   "source": [
    "# 10.Will \"JAVA\".capitalize() return \"Java\" or \"JAVA\"?"
   ]
  },
  {
   "cell_type": "code",
   "execution_count": 13,
   "id": "d5dc9a07-b61e-40b8-a769-c1925105c477",
   "metadata": {},
   "outputs": [
    {
     "name": "stdout",
     "output_type": "stream",
     "text": [
      "Java\n"
     ]
    }
   ],
   "source": [
    "print(\"JAVA\".capitalize())"
   ]
  },
  {
   "cell_type": "markdown",
   "id": "34479341-cd07-4d79-8896-4518ba0ebd73",
   "metadata": {},
   "source": [
    "# 11.What’s the difference between \"hello world\".title() and \"hello world\".capitalize()?"
   ]
  },
  {
   "cell_type": "code",
   "execution_count": 16,
   "id": "f919e0ed-6e5a-4828-a255-ab6a6ec33900",
   "metadata": {},
   "outputs": [
    {
     "name": "stdout",
     "output_type": "stream",
     "text": [
      "Hello World\n",
      "Hello world\n"
     ]
    }
   ],
   "source": [
    "print(\"hello world\".title())\n",
    "print(\"hello world\".capitalize())"
   ]
  },
  {
   "cell_type": "markdown",
   "id": "507ac225-79ca-4de1-9f48-7bc6496239c1",
   "metadata": {},
   "source": [
    "# 12.Count how many 'o' are in \"hello, world!\"."
   ]
  },
  {
   "cell_type": "code",
   "execution_count": 18,
   "id": "d13934a0-70ec-42e7-8828-811ebd342e7b",
   "metadata": {},
   "outputs": [
    {
     "name": "stdout",
     "output_type": "stream",
     "text": [
      "2\n"
     ]
    }
   ],
   "source": [
    "a = \"hello,world!\"\n",
    "print(a.count(\"o\"))"
   ]
  },
  {
   "cell_type": "markdown",
   "id": "ef50fb80-67a7-4683-ba3c-f2b71a80207d",
   "metadata": {},
   "source": [
    "# 13.Given quote = \"Practice makes perfect\", how many times does 'p' appear?"
   ]
  },
  {
   "cell_type": "code",
   "execution_count": 20,
   "id": "0c5a2cac-6d2f-4cb7-9f0f-e48340a0d120",
   "metadata": {},
   "outputs": [
    {
     "name": "stdout",
     "output_type": "stream",
     "text": [
      "1\n"
     ]
    }
   ],
   "source": [
    "quote = \"Practice makes perfect\"\n",
    "print(quote.count(\"p\"))"
   ]
  },
  {
   "cell_type": "markdown",
   "id": "b7945e2c-dd77-4898-b3b0-e0db9a8c1aa8",
   "metadata": {},
   "source": [
    "# 14.What is \"Mississippi\".count('s')?"
   ]
  },
  {
   "cell_type": "code",
   "execution_count": 21,
   "id": "74ee8a2f-3fc9-452e-9ffc-d489444c51e7",
   "metadata": {},
   "outputs": [
    {
     "data": {
      "text/plain": [
       "4"
      ]
     },
     "execution_count": 21,
     "metadata": {},
     "output_type": "execute_result"
    }
   ],
   "source": [
    "\"Mississippi\".count('s')"
   ]
  },
  {
   "cell_type": "markdown",
   "id": "6dbae684-59fe-420f-8fc1-b54644828b76",
   "metadata": {},
   "source": [
    "# 15.What does \"banana\".count(\"na\") return?"
   ]
  },
  {
   "cell_type": "code",
   "execution_count": 22,
   "id": "024f352d-212f-4f5e-bb8c-d7574d9d0416",
   "metadata": {},
   "outputs": [
    {
     "data": {
      "text/plain": [
       "2"
      ]
     },
     "execution_count": 22,
     "metadata": {},
     "output_type": "execute_result"
    }
   ],
   "source": [
    "\"banana\".count(\"na\") "
   ]
  },
  {
   "cell_type": "markdown",
   "id": "c9c913e7-f486-4b62-b9ca-dc2c3d2727af",
   "metadata": {},
   "source": [
    "# 16.What is the position of 'e' in \"elephant\" using .find()?"
   ]
  },
  {
   "cell_type": "code",
   "execution_count": 24,
   "id": "5c6cc43e-fab0-4c09-8fad-cdeefee6eee9",
   "metadata": {},
   "outputs": [
    {
     "name": "stdout",
     "output_type": "stream",
     "text": [
      "0\n"
     ]
    }
   ],
   "source": [
    "print(\"elephant\".find(\"e\"))"
   ]
  },
  {
   "cell_type": "markdown",
   "id": "f057b033-eefd-4635-8ae2-3187ee5f0f63",
   "metadata": {},
   "source": [
    "# 17.Use .find() to locate 'z' in \"puzzle\" — what index is returned?"
   ]
  },
  {
   "cell_type": "code",
   "execution_count": 25,
   "id": "d1b55a90-170a-4bdd-9387-11af99b5da74",
   "metadata": {},
   "outputs": [
    {
     "name": "stdout",
     "output_type": "stream",
     "text": [
      "2\n"
     ]
    }
   ],
   "source": [
    "print(\"puzzle\".find(\"z\"))"
   ]
  },
  {
   "cell_type": "markdown",
   "id": "a7aa3c46-e588-4188-905a-c9ee51276afc",
   "metadata": {},
   "source": [
    "# 18.What happens if .find() doesn’t find the character?"
   ]
  },
  {
   "cell_type": "code",
   "execution_count": 27,
   "id": "de35db48-ca5c-4ba0-af8f-18401885754c",
   "metadata": {},
   "outputs": [
    {
     "name": "stdout",
     "output_type": "stream",
     "text": [
      "-1\n"
     ]
    }
   ],
   "source": [
    "a = \"hello\"\n",
    "print(a.find(\"p\"))"
   ]
  },
  {
   "cell_type": "markdown",
   "id": "654df5cf-eedb-4be3-af82-f5fafc9abb6d",
   "metadata": {},
   "source": [
    "# 19.How does index() behave differently from find() when the item isn’t found?"
   ]
  },
  {
   "cell_type": "code",
   "execution_count": 33,
   "id": "578607ed-3e95-4841-8c6f-4b45c2d19c55",
   "metadata": {},
   "outputs": [
    {
     "ename": "ValueError",
     "evalue": "substring not found",
     "output_type": "error",
     "traceback": [
      "\u001b[0;31m---------------------------------------------------------------------------\u001b[0m",
      "\u001b[0;31mValueError\u001b[0m                                Traceback (most recent call last)",
      "Cell \u001b[0;32mIn[33], line 3\u001b[0m\n\u001b[1;32m      1\u001b[0m a \u001b[38;5;241m=\u001b[39m \u001b[38;5;124m\"\u001b[39m\u001b[38;5;124mhello\u001b[39m\u001b[38;5;124m\"\u001b[39m\n\u001b[1;32m      2\u001b[0m a\u001b[38;5;241m.\u001b[39mfind(\u001b[38;5;124m\"\u001b[39m\u001b[38;5;124mp\u001b[39m\u001b[38;5;124m\"\u001b[39m)\n\u001b[0;32m----> 3\u001b[0m a\u001b[38;5;241m.\u001b[39mindex(\u001b[38;5;124m\"\u001b[39m\u001b[38;5;124mp\u001b[39m\u001b[38;5;124m\"\u001b[39m)\n",
      "\u001b[0;31mValueError\u001b[0m: substring not found"
     ]
    }
   ],
   "source": [
    "a = \"hello\"\n",
    "a.find(\"p\")\n",
    "a.index(\"p\")"
   ]
  },
  {
   "cell_type": "markdown",
   "id": "f6e4de20-1555-4f3c-8d4f-95a74c24f0b5",
   "metadata": {},
   "source": [
    "# 20.What does \"hello\".index(\"e\") return?"
   ]
  },
  {
   "cell_type": "code",
   "execution_count": 34,
   "id": "6d8116f2-0541-4b45-9a9e-ebd4f83abfe8",
   "metadata": {},
   "outputs": [
    {
     "data": {
      "text/plain": [
       "1"
      ]
     },
     "execution_count": 34,
     "metadata": {},
     "output_type": "execute_result"
    }
   ],
   "source": [
    "\"hello\".index(\"e\") "
   ]
  },
  {
   "cell_type": "markdown",
   "id": "d77c9d9e-95aa-4a47-95f2-8062aa93cc83",
   "metadata": {},
   "source": [
    "# 21.Combine \"Hello\" and \"World\" into \"HelloWorld\"."
   ]
  },
  {
   "cell_type": "code",
   "execution_count": 35,
   "id": "1e46621d-6d12-4a35-9d2e-231813b31cc1",
   "metadata": {},
   "outputs": [
    {
     "data": {
      "text/plain": [
       "'HelloWorld'"
      ]
     },
     "execution_count": 35,
     "metadata": {},
     "output_type": "execute_result"
    }
   ],
   "source": [
    "\"Hello\" + \"World\""
   ]
  },
  {
   "cell_type": "markdown",
   "id": "b0956594-cdc3-4365-8deb-351fd893c9d4",
   "metadata": {},
   "source": [
    "# 22.Use + to add \"Hi, \" and \"Alice\" together."
   ]
  },
  {
   "cell_type": "code",
   "execution_count": 37,
   "id": "3e65a79b-3bec-4037-b8b4-b8538cf366c4",
   "metadata": {},
   "outputs": [
    {
     "data": {
      "text/plain": [
       "'HiAlice'"
      ]
     },
     "execution_count": 37,
     "metadata": {},
     "output_type": "execute_result"
    }
   ],
   "source": [
    "\"Hi\" + \"Alice\""
   ]
  },
  {
   "cell_type": "markdown",
   "id": "5252d1d6-7f0f-4013-b054-dfc22a8752a3",
   "metadata": {},
   "source": [
    "# 23.What is the result of \"Age: \" + str(25)?"
   ]
  },
  {
   "cell_type": "code",
   "execution_count": 40,
   "id": "1e20b626-22fa-4885-b3e1-d855fe6c13ac",
   "metadata": {},
   "outputs": [
    {
     "data": {
      "text/plain": [
       "'Age: 25'"
      ]
     },
     "execution_count": 40,
     "metadata": {},
     "output_type": "execute_result"
    }
   ],
   "source": [
    "\"Age: \" + str(25)"
   ]
  },
  {
   "cell_type": "markdown",
   "id": "0a20db70-7ed2-4bd5-9605-14d04ca81a0f",
   "metadata": {},
   "source": [
    "# 24.Can you concatenate \"abc\" and \"123\" to form \"abc123\"?"
   ]
  },
  {
   "cell_type": "code",
   "execution_count": 41,
   "id": "d6ed1e10-40de-459f-ab06-0bc14a6cb294",
   "metadata": {},
   "outputs": [
    {
     "data": {
      "text/plain": [
       "'abc123'"
      ]
     },
     "execution_count": 41,
     "metadata": {},
     "output_type": "execute_result"
    }
   ],
   "source": [
    "\"abc\" + \"123\""
   ]
  },
  {
   "cell_type": "markdown",
   "id": "e57c2173-27b1-41f4-a0d0-a9ca0511802e",
   "metadata": {},
   "source": [
    "# 25.Replace \"dog\" with \"cat\" in \"The dog barks.\"."
   ]
  },
  {
   "cell_type": "code",
   "execution_count": 42,
   "id": "952ca802-79a7-4e96-8bfa-6463a541c53f",
   "metadata": {},
   "outputs": [
    {
     "data": {
      "text/plain": [
       "'The cat barks.'"
      ]
     },
     "execution_count": 42,
     "metadata": {},
     "output_type": "execute_result"
    }
   ],
   "source": [
    "\"The dog barks.\".replace(\"dog\",\"cat\")"
   ]
  },
  {
   "cell_type": "markdown",
   "id": "20a1245a-fe1e-4599-8f85-1ca1ac3a9ab4",
   "metadata": {},
   "source": [
    "# 26.Given msg = \"rain rain go away\", replace 'rain' with 'sun'."
   ]
  },
  {
   "cell_type": "code",
   "execution_count": 44,
   "id": "e0eb2418-e1a0-46c6-a6e5-bef0d6034660",
   "metadata": {},
   "outputs": [
    {
     "name": "stdout",
     "output_type": "stream",
     "text": [
      "sun sun go away\n"
     ]
    }
   ],
   "source": [
    "msg = \"rain rain go away\"\n",
    "print(msg.replace(\"rain\",\"sun\"))"
   ]
  },
  {
   "cell_type": "markdown",
   "id": "56b541ce-c4da-4757-88b1-4e1cb5894d0d",
   "metadata": {},
   "source": [
    "# 27.What happens when you replace 'a' with '@' in \"banana\"?"
   ]
  },
  {
   "cell_type": "code",
   "execution_count": 45,
   "id": "7b4f56c5-1a1c-43ca-9bd7-4b5d6e096dc0",
   "metadata": {},
   "outputs": [
    {
     "data": {
      "text/plain": [
       "'b@n@n@'"
      ]
     },
     "execution_count": 45,
     "metadata": {},
     "output_type": "execute_result"
    }
   ],
   "source": [
    "\"banana\".replace(\"a\",\"@\")"
   ]
  },
  {
   "cell_type": "markdown",
   "id": "880a8bc2-ef3f-47fe-aad8-df516a1ea243",
   "metadata": {},
   "source": [
    "# 28.How do you replace spaces with hyphens in \"join the party\"?"
   ]
  },
  {
   "cell_type": "code",
   "execution_count": 46,
   "id": "d1d632e5-fd47-497a-a850-301fe0634641",
   "metadata": {},
   "outputs": [
    {
     "data": {
      "text/plain": [
       "'join-the-party'"
      ]
     },
     "execution_count": 46,
     "metadata": {},
     "output_type": "execute_result"
    }
   ],
   "source": [
    "\"join the party\".replace(\" \",\"-\")"
   ]
  },
  {
   "cell_type": "markdown",
   "id": "4fc8bb72-59f8-431e-aa69-e550a63cfd44",
   "metadata": {},
   "source": [
    "# 29.What does \" hello \".strip() return?"
   ]
  },
  {
   "cell_type": "code",
   "execution_count": 47,
   "id": "478936cf-8ad1-4546-8bf8-765c80d59e29",
   "metadata": {},
   "outputs": [
    {
     "data": {
      "text/plain": [
       "'hello'"
      ]
     },
     "execution_count": 47,
     "metadata": {},
     "output_type": "execute_result"
    }
   ],
   "source": [
    "\" hello \".strip() "
   ]
  },
  {
   "cell_type": "markdown",
   "id": "1b11f467-404f-4304-a1aa-7576aa242be9",
   "metadata": {},
   "source": [
    "# 30.Remove # from both ends of \"###Welcome###\" using strip()."
   ]
  },
  {
   "cell_type": "code",
   "execution_count": 48,
   "id": "d7380968-21b9-4a3c-8a18-94016f7c3802",
   "metadata": {},
   "outputs": [
    {
     "data": {
      "text/plain": [
       "'Welcome'"
      ]
     },
     "execution_count": 48,
     "metadata": {},
     "output_type": "execute_result"
    }
   ],
   "source": [
    "\"###Welcome###\".strip(\"#\")"
   ]
  },
  {
   "cell_type": "markdown",
   "id": "2f0208ab-fa13-449a-97a8-6ebc5ac77e57",
   "metadata": {},
   "source": [
    "# 31.Does strip() remove characters from the middle of a string?"
   ]
  },
  {
   "cell_type": "code",
   "execution_count": 50,
   "id": "36b7d067-d492-40c8-b352-f27770df5633",
   "metadata": {},
   "outputs": [
    {
     "data": {
      "text/plain": [
       "'Wel###come'"
      ]
     },
     "execution_count": 50,
     "metadata": {},
     "output_type": "execute_result"
    }
   ],
   "source": [
    "\"###Wel###come###\".strip(\"#\")     #no it does not remove the characters from middle of a string"
   ]
  },
  {
   "cell_type": "markdown",
   "id": "6c7e20ab-a40b-4668-80fd-1c3f995bf10e",
   "metadata": {},
   "source": [
    "# 32.How do you remove only the trailing spaces from \"Hello \"?"
   ]
  },
  {
   "cell_type": "code",
   "execution_count": 52,
   "id": "fccdcf2b-af98-4335-b4af-4337324972c0",
   "metadata": {},
   "outputs": [
    {
     "data": {
      "text/plain": [
       "'Hello'"
      ]
     },
     "execution_count": 52,
     "metadata": {},
     "output_type": "execute_result"
    }
   ],
   "source": [
    "\"Hello \".strip()"
   ]
  },
  {
   "cell_type": "markdown",
   "id": "39789ab7-7e3e-473b-b309-2039271aa7f5",
   "metadata": {},
   "source": [
    "# 33.Use .format() to insert \"Alice\" into \"Hello, {}!\"."
   ]
  },
  {
   "cell_type": "code",
   "execution_count": 54,
   "id": "fc4a6985-d3ec-4e1c-a0e2-22a2cea371ee",
   "metadata": {},
   "outputs": [
    {
     "data": {
      "text/plain": [
       "'Hello, Alice!'"
      ]
     },
     "execution_count": 54,
     "metadata": {},
     "output_type": "execute_result"
    }
   ],
   "source": [
    "\"Hello, {}!\".format(\"Alice\")"
   ]
  },
  {
   "cell_type": "markdown",
   "id": "4b13d0e0-369c-4e13-a8fe-2c993e6efa6f",
   "metadata": {},
   "source": [
    "# 34.What is \"{} scored {} marks\".format(\"John\", 95)?"
   ]
  },
  {
   "cell_type": "code",
   "execution_count": 55,
   "id": "e58eaad3-c9c9-4748-a9f1-4796b23504df",
   "metadata": {},
   "outputs": [
    {
     "data": {
      "text/plain": [
       "'John scored 95 marks'"
      ]
     },
     "execution_count": 55,
     "metadata": {},
     "output_type": "execute_result"
    }
   ],
   "source": [
    "\"{} scored {} marks\".format(\"John\", 95)"
   ]
  },
  {
   "cell_type": "markdown",
   "id": "3705ad39-5993-4f5b-988d-83875db6edb6",
   "metadata": {},
   "source": [
    "# 35.Fill in two blanks in \"{} is {} years old\" with \"Bob\" and 30."
   ]
  },
  {
   "cell_type": "code",
   "execution_count": 56,
   "id": "3a433e9d-b10a-48a1-a384-3c0b3e9dae96",
   "metadata": {},
   "outputs": [
    {
     "data": {
      "text/plain": [
       "'bob is 30 years old'"
      ]
     },
     "execution_count": 56,
     "metadata": {},
     "output_type": "execute_result"
    }
   ],
   "source": [
    "\"{} is {} years old\".format(\"bob\",30)"
   ]
  },
  {
   "cell_type": "markdown",
   "id": "4ef9add8-a5bc-4171-b7a4-98331402743e",
   "metadata": {},
   "source": [
    "# 36.Can you use numbers with placeholders? Try \"{}+{}={}\".format(2, 3, 5)."
   ]
  },
  {
   "cell_type": "code",
   "execution_count": 57,
   "id": "d6576776-273b-4f83-850b-e0b5a1aa0439",
   "metadata": {},
   "outputs": [
    {
     "data": {
      "text/plain": [
       "'2+3=5'"
      ]
     },
     "execution_count": 57,
     "metadata": {},
     "output_type": "execute_result"
    }
   ],
   "source": [
    "\"{}+{}={}\".format(2, 3, 5)"
   ]
  },
  {
   "cell_type": "markdown",
   "id": "5fa9b1b1-92a5-42a3-bc9a-1981033668ad",
   "metadata": {},
   "source": [
    "# 37.What does \"apple,banana,grape\".split(\",\") return?"
   ]
  },
  {
   "cell_type": "code",
   "execution_count": 58,
   "id": "18510ea9-2a7c-436a-a411-bb9dadeac53f",
   "metadata": {},
   "outputs": [
    {
     "data": {
      "text/plain": [
       "['apple', 'banana', 'grape']"
      ]
     },
     "execution_count": 58,
     "metadata": {},
     "output_type": "execute_result"
    }
   ],
   "source": [
    "\"apple,banana,grape\".split(\",\")"
   ]
  },
  {
   "cell_type": "markdown",
   "id": "74a6ef62-3e5a-463e-997d-18d5d51184bf",
   "metadata": {},
   "source": [
    "# 38.How many parts do you get from \"one two three\".split()?"
   ]
  },
  {
   "cell_type": "code",
   "execution_count": 60,
   "id": "4f929651-3b2f-46b0-898c-a6b763c8bfd1",
   "metadata": {},
   "outputs": [
    {
     "data": {
      "text/plain": [
       "['one', 'two', 'three']"
      ]
     },
     "execution_count": 60,
     "metadata": {},
     "output_type": "execute_result"
    }
   ],
   "source": [
    "\"one two three\".split()     #three parts"
   ]
  },
  {
   "cell_type": "markdown",
   "id": "36c8293e-a32a-48cc-b3d7-33998b6b16b9",
   "metadata": {},
   "source": [
    "# 39.Use split(\"-\") on \"2025-05-16\". What do you get?"
   ]
  },
  {
   "cell_type": "code",
   "execution_count": 61,
   "id": "bbac547c-344c-430f-ae44-9824336f955d",
   "metadata": {},
   "outputs": [
    {
     "data": {
      "text/plain": [
       "['2025', '05', '16']"
      ]
     },
     "execution_count": 61,
     "metadata": {},
     "output_type": "execute_result"
    }
   ],
   "source": [
    "\"2025-05-16\".split(\"-\")"
   ]
  },
  {
   "cell_type": "markdown",
   "id": "13224d9c-113b-48c6-8f70-072e3baa3795",
   "metadata": {},
   "source": [
    "# 40.Can you split \"hello\" using a space as a separator?"
   ]
  },
  {
   "cell_type": "code",
   "execution_count": 63,
   "id": "325444ed-7eee-4ce7-9029-ec10d5f4e956",
   "metadata": {},
   "outputs": [
    {
     "data": {
      "text/plain": [
       "['hello']"
      ]
     },
     "execution_count": 63,
     "metadata": {},
     "output_type": "execute_result"
    }
   ],
   "source": [
    "\"hello\".split(\" \") #there is no space in between so it only prints hello in a list."
   ]
  },
  {
   "cell_type": "markdown",
   "id": "9a93e8a6-2b2c-42a9-b7fe-f58442e249b5",
   "metadata": {},
   "source": [
    "# 41.Take \" python \" and return \"PYTHON\" with whitespace removed."
   ]
  },
  {
   "cell_type": "code",
   "execution_count": 65,
   "id": "7ca95d4b-0ea4-4af3-9c84-1975c73f788b",
   "metadata": {},
   "outputs": [
    {
     "data": {
      "text/plain": [
       "'PYTHON'"
      ]
     },
     "execution_count": 65,
     "metadata": {},
     "output_type": "execute_result"
    }
   ],
   "source": [
    "\" python \".strip().upper()"
   ]
  },
  {
   "cell_type": "markdown",
   "id": "3296d335-15b0-48bf-93e6-69759b7c3e43",
   "metadata": {},
   "source": [
    "# 42.Format and print \"Score: 100\" using .format()."
   ]
  },
  {
   "cell_type": "code",
   "execution_count": 67,
   "id": "76bb3459-eeaa-413c-aa7f-6f5cb1149d59",
   "metadata": {},
   "outputs": [
    {
     "name": "stdout",
     "output_type": "stream",
     "text": [
      "Score:100\n"
     ]
    }
   ],
   "source": [
    "a = \"Score:{}\"\n",
    "print(a.format(100))"
   ]
  },
  {
   "cell_type": "markdown",
   "id": "8639ef95-d28a-43b9-9557-7a81c5de50c0",
   "metadata": {},
   "source": [
    "# 43.Convert \"python is fun\" to \"Python Is Fun\" using any method."
   ]
  },
  {
   "cell_type": "code",
   "execution_count": 69,
   "id": "15473e74-76bf-4439-a26d-061f38986691",
   "metadata": {},
   "outputs": [
    {
     "data": {
      "text/plain": [
       "'Python Is Fun'"
      ]
     },
     "execution_count": 69,
     "metadata": {},
     "output_type": "execute_result"
    }
   ],
   "source": [
    "\"python is fun\".title()"
   ]
  },
  {
   "cell_type": "markdown",
   "id": "56c4c99d-66de-4d49-ba8b-751daf7f3c53",
   "metadata": {},
   "source": [
    "# 44.Replace all 'l' in \"hello world\" with '*'."
   ]
  },
  {
   "cell_type": "code",
   "execution_count": 70,
   "id": "aac8761c-0c51-412a-9f27-553ddaac394f",
   "metadata": {},
   "outputs": [
    {
     "data": {
      "text/plain": [
       "'he**o wor*d'"
      ]
     },
     "execution_count": 70,
     "metadata": {},
     "output_type": "execute_result"
    }
   ],
   "source": [
    "\"hello world\".replace(\"l\",\"*\")"
   ]
  },
  {
   "cell_type": "markdown",
   "id": "f86661d9-40e9-4b80-9335-941a69941d49",
   "metadata": {},
   "source": [
    "# 45.How do you get just the word \"World\" from \"Hello World\"?"
   ]
  },
  {
   "cell_type": "code",
   "execution_count": 72,
   "id": "9da9d104-c6d1-4e23-aac8-48684f860952",
   "metadata": {},
   "outputs": [
    {
     "name": "stdout",
     "output_type": "stream",
     "text": [
      "World\n"
     ]
    }
   ],
   "source": [
    "a = \"Hello World\".split()\n",
    "print(a[1])"
   ]
  },
  {
   "cell_type": "code",
   "execution_count": null,
   "id": "731b18f1-c302-42b1-94c5-02df1fee91fa",
   "metadata": {},
   "outputs": [],
   "source": []
  }
 ],
 "metadata": {
  "kernelspec": {
   "display_name": "Python [conda env:base] *",
   "language": "python",
   "name": "conda-base-py"
  },
  "language_info": {
   "codemirror_mode": {
    "name": "ipython",
    "version": 3
   },
   "file_extension": ".py",
   "mimetype": "text/x-python",
   "name": "python",
   "nbconvert_exporter": "python",
   "pygments_lexer": "ipython3",
   "version": "3.12.7"
  }
 },
 "nbformat": 4,
 "nbformat_minor": 5
}
