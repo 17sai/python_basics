{
 "cells": [
  {
   "cell_type": "markdown",
   "id": "0f3b07af-d56e-4791-979b-229bba5304c2",
   "metadata": {},
   "source": [
    "# Q21. Concatenate two lists (like first names and last names) using +."
   ]
  },
  {
   "cell_type": "code",
   "execution_count": 1,
   "id": "6de58d42-f500-4229-a1dd-44e8e8379d40",
   "metadata": {},
   "outputs": [
    {
     "name": "stdout",
     "output_type": "stream",
     "text": [
      "[1, 2, 3, 4, 5, 6, 7, 8, 9]\n"
     ]
    }
   ],
   "source": [
    "a = [1,2,3,4,5]\n",
    "b = [6,7,8,9]\n",
    "print(a+b)"
   ]
  },
  {
   "cell_type": "markdown",
   "id": "497ff719-4989-426c-98ef-16879f9046b5",
   "metadata": {},
   "source": [
    "# Q22. Duplicate a list using the * operator and show how the elements repeat."
   ]
  },
  {
   "cell_type": "code",
   "execution_count": 3,
   "id": "c14bb2e6-d249-4345-9e46-23aee4f0bfba",
   "metadata": {},
   "outputs": [
    {
     "name": "stdout",
     "output_type": "stream",
     "text": [
      "[1, 2, 3, 4, 1, 2, 3, 4, 1, 2, 3, 4, 1, 2, 3, 4]\n"
     ]
    }
   ],
   "source": [
    "a = [1,2,3,4]\n",
    "print(a*4)"
   ]
  },
  {
   "cell_type": "markdown",
   "id": "664e81ac-cd46-41bb-9f28-b70ccbf9d048",
   "metadata": {},
   "source": [
    "# Q23. Access the last 3 items of a list using negative slicing."
   ]
  },
  {
   "cell_type": "code",
   "execution_count": 5,
   "id": "716e9871-6877-4009-8ef8-d654846b6edc",
   "metadata": {},
   "outputs": [
    {
     "name": "stdout",
     "output_type": "stream",
     "text": [
      "[7, 8, 9]\n"
     ]
    }
   ],
   "source": [
    "a = [1,2,3,4,5,6,7,8,9]\n",
    "print(a[-3:])"
   ]
  },
  {
   "cell_type": "markdown",
   "id": "97bb698a-9358-411f-84f4-c1de8927045f",
   "metadata": {},
   "source": [
    "# Q24. Use slicing to get a sublist from index 1 to 4."
   ]
  },
  {
   "cell_type": "code",
   "execution_count": 6,
   "id": "c7f55895-6586-49ef-9d75-6594ed47b1bc",
   "metadata": {},
   "outputs": [
    {
     "data": {
      "text/plain": [
       "[2, 3, 4, 5]"
      ]
     },
     "execution_count": 6,
     "metadata": {},
     "output_type": "execute_result"
    }
   ],
   "source": [
    "a = [1,2,3,4,5,6,7,8,9]\n",
    "a[1:5]"
   ]
  },
  {
   "cell_type": "markdown",
   "id": "36294061-601b-48f6-8c22-3a4388f15772",
   "metadata": {},
   "source": [
    "# Q25. Use del to delete the second element from a list."
   ]
  },
  {
   "cell_type": "code",
   "execution_count": 7,
   "id": "d93e8fbd-ab0d-4f13-a9fe-8eb7f13cba84",
   "metadata": {},
   "outputs": [
    {
     "name": "stdout",
     "output_type": "stream",
     "text": [
      "[1, 3, 4, 5, 6, 7, 8, 9]\n"
     ]
    }
   ],
   "source": [
    "a = [1,2,3,4,5,6,7,8,9]\n",
    "del a[1]\n",
    "print(a)"
   ]
  },
  {
   "cell_type": "markdown",
   "id": "df4c6d8f-2b68-4713-80fa-825c50eb5c62",
   "metadata": {},
   "source": [
    "# Q1. Create two lists and join them into a single list using +."
   ]
  },
  {
   "cell_type": "code",
   "execution_count": 8,
   "id": "fddbdf02-8cbc-4e17-b0e6-0299ab068644",
   "metadata": {},
   "outputs": [
    {
     "name": "stdout",
     "output_type": "stream",
     "text": [
      "[1, 2, 3, 4, 5, 6, 7, 8, 9]\n"
     ]
    }
   ],
   "source": [
    "a = [1,2,3,4]\n",
    "b = [5,6,7,8,9]\n",
    "c = a+b\n",
    "print(c)"
   ]
  },
  {
   "cell_type": "markdown",
   "id": "f0f71db5-43cf-47bc-bd75-a19c44c0e05f",
   "metadata": {},
   "source": [
    "# Q2. Make a copy of a list and modify the copy. Show that the original list is unchanged."
   ]
  },
  {
   "cell_type": "code",
   "execution_count": 9,
   "id": "4286f665-f614-41bc-9a75-58a8fe9b90b9",
   "metadata": {},
   "outputs": [
    {
     "name": "stdout",
     "output_type": "stream",
     "text": [
      "[1, 2, 3, 4]\n",
      "[1, 100, 3, 4]\n"
     ]
    }
   ],
   "source": [
    "a = [1,2,3,4]\n",
    "b = a.copy()\n",
    "b[1] = 100\n",
    "print(a)\n",
    "print(b)"
   ]
  },
  {
   "cell_type": "markdown",
   "id": "b2a79183-d02d-4eb1-ac5f-1ab4d71c8045",
   "metadata": {},
   "source": [
    "# Q3. Create a list of 5 integers and sort them in ascending order."
   ]
  },
  {
   "cell_type": "code",
   "execution_count": 10,
   "id": "9654f802-48ee-4c04-a82a-4843da6ec172",
   "metadata": {},
   "outputs": [
    {
     "name": "stdout",
     "output_type": "stream",
     "text": [
      "[21, 45, 123, 321, 456]\n"
     ]
    }
   ],
   "source": [
    "a = [123,456,321,21,45]\n",
    "a.sort()\n",
    "print(a)"
   ]
  },
  {
   "cell_type": "markdown",
   "id": "78a4bcf3-b44f-4b39-a3dd-6018ad9a2156",
   "metadata": {},
   "source": [
    "# Q4. Create a list of 5 strings and sort them in reverse alphabetical order."
   ]
  },
  {
   "cell_type": "code",
   "execution_count": 11,
   "id": "f015d284-8846-4483-86b3-f2dffc24b369",
   "metadata": {},
   "outputs": [
    {
     "name": "stdout",
     "output_type": "stream",
     "text": [
      "['sai', 'research', 'labs', 'innomatics']\n"
     ]
    }
   ],
   "source": [
    "a = [\"sai\",\"innomatics\",\"research\",\"labs\"]\n",
    "a.sort(reverse=True)\n",
    "print(a)"
   ]
  },
  {
   "cell_type": "markdown",
   "id": "f01c1340-20c9-4dc4-bfd8-5f31dc5ee4a5",
   "metadata": {},
   "source": [
    "# Q5. Create a list and reverse the entire list using a method."
   ]
  },
  {
   "cell_type": "code",
   "execution_count": 12,
   "id": "7329997b-6013-4c91-932b-268cb1293fa4",
   "metadata": {},
   "outputs": [
    {
     "name": "stdout",
     "output_type": "stream",
     "text": [
      "['labs', 'research', 'innomatics', 'sai']\n"
     ]
    }
   ],
   "source": [
    "a = [\"sai\",\"innomatics\",\"research\",\"labs\"]\n",
    "a.reverse()\n",
    "print(a)"
   ]
  },
  {
   "cell_type": "markdown",
   "id": "b802da8f-5fa3-410e-8ee9-ca2be5571128",
   "metadata": {},
   "source": [
    "# Q6. Create a list of 4 colors. Clear all the elements using a method and print it."
   ]
  },
  {
   "cell_type": "code",
   "execution_count": 14,
   "id": "09d3c799-2e92-476d-bd0b-162eaf3cc0f5",
   "metadata": {},
   "outputs": [
    {
     "name": "stdout",
     "output_type": "stream",
     "text": [
      "[]\n"
     ]
    }
   ],
   "source": [
    "colors = [\"red\",\"blue\",\"pink\",\"black\"]\n",
    "colors.clear()\n",
    "print(colors)"
   ]
  },
  {
   "cell_type": "markdown",
   "id": "6d1b24e1-b1bd-4b00-b276-c7ff75d2b3ef",
   "metadata": {},
   "source": [
    "# Q7. Create a list and multiply it by 3 (list * 3). What is the result?"
   ]
  },
  {
   "cell_type": "code",
   "execution_count": 15,
   "id": "810b0cd2-3cc1-4345-9afd-7b2c447e37a7",
   "metadata": {},
   "outputs": [
    {
     "name": "stdout",
     "output_type": "stream",
     "text": [
      "[1, 2, 3, 4, 1, 2, 3, 4, 1, 2, 3, 4]\n"
     ]
    }
   ],
   "source": [
    "a = [1,2,3,4]\n",
    "print(a*3)"
   ]
  },
  {
   "cell_type": "markdown",
   "id": "588d79d0-6dc4-47ab-b782-424fd7cb9d8e",
   "metadata": {},
   "source": [
    "# Q8. Create a list and access only the first three items using slicing."
   ]
  },
  {
   "cell_type": "code",
   "execution_count": 17,
   "id": "5e0cdd63-77a6-4027-84e4-47bc9d6f8984",
   "metadata": {},
   "outputs": [
    {
     "data": {
      "text/plain": [
       "[1, 2, 3]"
      ]
     },
     "execution_count": 17,
     "metadata": {},
     "output_type": "execute_result"
    }
   ],
   "source": [
    "a = [1,2,3,4,5,6,7,8,9]\n",
    "a[:3]"
   ]
  },
  {
   "cell_type": "markdown",
   "id": "f3a551be-a2e0-4dd8-8e1d-43173f2f00db",
   "metadata": {},
   "source": [
    "# Q9. Create a list and delete the second item using the del keyword."
   ]
  },
  {
   "cell_type": "code",
   "execution_count": 19,
   "id": "14b48967-1311-4300-9ed9-42819b82da9e",
   "metadata": {},
   "outputs": [
    {
     "name": "stdout",
     "output_type": "stream",
     "text": [
      "[1, 3, 4, 5, 6, 7, 8, 9]\n"
     ]
    }
   ],
   "source": [
    "a = [1,2,3,4,5,6,7,8,9]\n",
    "del a[1]\n",
    "print(a)"
   ]
  },
  {
   "cell_type": "markdown",
   "id": "cae9b9d4-249d-4589-a532-bc2e91ada3d6",
   "metadata": {},
   "source": [
    "# Q10. Create a list of your top 5 favorite movies.\n",
    " Remove a movie by name and then add a new one at the end."
   ]
  },
  {
   "cell_type": "code",
   "execution_count": 21,
   "id": "7277d6a9-d468-44c7-a99f-ab5c287d4a5d",
   "metadata": {},
   "outputs": [
    {
     "name": "stdout",
     "output_type": "stream",
     "text": [
      "['kobbarimatta', 'Singham 123', 'bahubali-1', 'bahubali-2', 'Hrudaya Kaleyam']\n"
     ]
    }
   ],
   "source": [
    "movies = [\"kobbarimatta\",\"Singham 123\",\"bahubali-1\",\"bahubali-2\",\"eleven\"]\n",
    "movies.remove(\"eleven\")\n",
    "movies.append(\"Hrudaya Kaleyam\")\n",
    "print(movies)"
   ]
  },
  {
   "cell_type": "code",
   "execution_count": null,
   "id": "c4889490-144a-4d59-bf87-48159d4aed65",
   "metadata": {},
   "outputs": [],
   "source": []
  }
 ],
 "metadata": {
  "kernelspec": {
   "display_name": "Python [conda env:base] *",
   "language": "python",
   "name": "conda-base-py"
  },
  "language_info": {
   "codemirror_mode": {
    "name": "ipython",
    "version": 3
   },
   "file_extension": ".py",
   "mimetype": "text/x-python",
   "name": "python",
   "nbconvert_exporter": "python",
   "pygments_lexer": "ipython3",
   "version": "3.12.7"
  }
 },
 "nbformat": 4,
 "nbformat_minor": 5
}
