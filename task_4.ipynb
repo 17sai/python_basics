{
 "cells": [
  {
   "cell_type": "markdown",
   "id": "2322c438-9ac1-4e18-a8c5-94d5d68caff4",
   "metadata": {},
   "source": [
    "# Q1. Create a list of your five favorite fruits.\n",
    " Add a new fruit to the end of the list using the appropriate method."
   ]
  },
  {
   "cell_type": "code",
   "execution_count": 3,
   "id": "d2b9546f-76c0-4c5a-9d39-0ce3362723a8",
   "metadata": {},
   "outputs": [
    {
     "name": "stdout",
     "output_type": "stream",
     "text": [
      "['mango', 'apple', 'grapes', 'banana', 'orange']\n"
     ]
    }
   ],
   "source": [
    "fruits = []\n",
    "fruits.append(\"mango\")\n",
    "fruits.append(\"apple\")\n",
    "fruits.append(\"grapes\")\n",
    "fruits.append(\"banana\")\n",
    "fruits.append(\"orange\")\n",
    "print(fruits)"
   ]
  },
  {
   "cell_type": "markdown",
   "id": "e529345c-a2c1-4cd4-bf9f-adba12a213d5",
   "metadata": {},
   "source": [
    "# Q2. Create a list of numbers from 1 to 5.\n",
    " Insert the number 10 at the second position."
   ]
  },
  {
   "cell_type": "code",
   "execution_count": 5,
   "id": "f0644793-508d-4ccf-af0b-085787fcb740",
   "metadata": {},
   "outputs": [
    {
     "name": "stdout",
     "output_type": "stream",
     "text": [
      "[1, 2, 10, 3, 4, 5]\n"
     ]
    }
   ],
   "source": [
    "l = [1,2,3,4,5]\n",
    "l.insert(2,10)\n",
    "print(l)"
   ]
  },
  {
   "cell_type": "markdown",
   "id": "aad3b999-f999-4b6e-ac2f-25b6d2add85d",
   "metadata": {},
   "source": [
    "# Q3. Create a list with duplicate elements.\n",
    " Use a method to find how many times a particular element appears."
   ]
  },
  {
   "cell_type": "code",
   "execution_count": 6,
   "id": "ecbb113c-3490-40a9-9bcd-bac435378095",
   "metadata": {},
   "outputs": [
    {
     "name": "stdout",
     "output_type": "stream",
     "text": [
      "3\n"
     ]
    }
   ],
   "source": [
    "l = [1,2,1,2,3,4,2,1,5,6]\n",
    "print(l.count(2))"
   ]
  },
  {
   "cell_type": "markdown",
   "id": "e76d9bd8-84d2-452f-8397-15024a333adc",
   "metadata": {},
   "source": [
    "# Q4. Remove the third item from a list of 6 elements using a list method."
   ]
  },
  {
   "cell_type": "code",
   "execution_count": 8,
   "id": "c55d19de-1158-4784-899d-c666db033c78",
   "metadata": {},
   "outputs": [
    {
     "name": "stdout",
     "output_type": "stream",
     "text": [
      "[1, 2, 3, 5, 6]\n"
     ]
    }
   ],
   "source": [
    "l = [1,2,3,4,5,6]\n",
    "l.remove(4)\n",
    "print(l)"
   ]
  },
  {
   "cell_type": "markdown",
   "id": "760eb1a6-e98d-46f6-8eaf-f5e2e7a6a61d",
   "metadata": {},
   "source": [
    "# Q5. Create a list of your three favorite subjects.\n",
    " Replace the second subject with \"Mathematics\".`"
   ]
  },
  {
   "cell_type": "code",
   "execution_count": 9,
   "id": "3cf78b52-0fe0-484f-baaf-8725315558b4",
   "metadata": {},
   "outputs": [
    {
     "name": "stdout",
     "output_type": "stream",
     "text": [
      "['mathematics', 'science', 'mathematics']\n"
     ]
    }
   ],
   "source": [
    "sub = [\"mathematics\",\"science\",\"social\"]\n",
    "sub[2]=\"mathematics\"\n",
    "print(sub)"
   ]
  },
  {
   "cell_type": "markdown",
   "id": "d714fcc1-f0d8-4213-8fc6-b4d3f2707d38",
   "metadata": {},
   "source": [
    "# Q6. Create a list and remove the last item using the appropriate method."
   ]
  },
  {
   "cell_type": "code",
   "execution_count": 10,
   "id": "2ad9c9cc-0f12-44fb-aea3-cd466d59aff0",
   "metadata": {},
   "outputs": [
    {
     "name": "stdout",
     "output_type": "stream",
     "text": [
      "[1, 2, 3, 4, 5]\n"
     ]
    }
   ],
   "source": [
    "l = [1,2,3,4,5,6]\n",
    "l.pop()\n",
    "print(l)"
   ]
  },
  {
   "cell_type": "markdown",
   "id": "3b1764b7-4b0d-471e-9d4e-d1364bfb6060",
   "metadata": {},
   "source": [
    "# Q7. Create a list of countries and add a new country at index 1."
   ]
  },
  {
   "cell_type": "code",
   "execution_count": 12,
   "id": "0f0a2a0d-daf4-4c54-8128-fac4d17cfbd4",
   "metadata": {},
   "outputs": [
    {
     "name": "stdout",
     "output_type": "stream",
     "text": [
      "['america', 'thailand', 'india', 'sri lanka', 'bangladesh']\n"
     ]
    }
   ],
   "source": [
    "country = [\"america\",\"india\",\"sri lanka\",\"bangladesh\"]\n",
    "country.insert(1,\"thailand\")\n",
    "print(country)"
   ]
  },
  {
   "cell_type": "markdown",
   "id": "7dfd24b5-3c7f-4e8b-bdf0-ab8cc7b7de73",
   "metadata": {},
   "source": [
    "# Q8. Use a list method to find the position of an element in the list."
   ]
  },
  {
   "cell_type": "code",
   "execution_count": 13,
   "id": "878f4459-9227-4207-b102-0f7e979832e5",
   "metadata": {},
   "outputs": [
    {
     "name": "stdout",
     "output_type": "stream",
     "text": [
      "1\n"
     ]
    }
   ],
   "source": [
    "country = [\"america\",\"india\",\"sri lanka\",\"bangladesh\"]\n",
    "print(country.index(\"india\"))"
   ]
  },
  {
   "cell_type": "markdown",
   "id": "f34129f9-49d8-4da5-8b0d-14c00c41f2b2",
   "metadata": {},
   "source": [
    "# Q9. Create a list and check whether an item \"apple\" exists in it or not (you can use the in keyword)."
   ]
  },
  {
   "cell_type": "code",
   "execution_count": 14,
   "id": "303a83a4-8fc4-466b-b1e3-8211e9bbb1bb",
   "metadata": {},
   "outputs": [
    {
     "name": "stdout",
     "output_type": "stream",
     "text": [
      "False\n"
     ]
    }
   ],
   "source": [
    "country = [\"america\",\"india\",\"sri lanka\",\"bangladesh\"]\n",
    "print(\"apple\" in country)"
   ]
  },
  {
   "cell_type": "markdown",
   "id": "2d8bf738-e11d-406b-a9b6-eefb7d9629c8",
   "metadata": {},
   "source": [
    "# Q10. Make a list and use pop() to remove an item.\n",
    " Store the removed item in a variable and print it."
   ]
  },
  {
   "cell_type": "code",
   "execution_count": 15,
   "id": "88e95dec-f286-4ca2-a2bf-c5e08909b136",
   "metadata": {},
   "outputs": [
    {
     "name": "stdout",
     "output_type": "stream",
     "text": [
      "bangladesh\n"
     ]
    }
   ],
   "source": [
    "country = [\"america\",\"india\",\"sri lanka\",\"bangladesh\"]\n",
    "a = country.pop()\n",
    "print(a)"
   ]
  },
  {
   "cell_type": "markdown",
   "id": "6e8b06d3-afed-4ea1-b5f5-5b00bf04628e",
   "metadata": {},
   "source": [
    "# List Methods"
   ]
  },
  {
   "cell_type": "markdown",
   "id": "8bec24c1-f7d9-49c2-8508-c96015033d6c",
   "metadata": {},
   "source": [
    "# Q1. Create an empty list and add five elements to it using append()."
   ]
  },
  {
   "cell_type": "code",
   "execution_count": 18,
   "id": "5596122e-e533-471e-8127-86f3c1a42e3e",
   "metadata": {},
   "outputs": [
    {
     "name": "stdout",
     "output_type": "stream",
     "text": [
      "[3, 'sai', 1.34, (4+9j), 34]\n"
     ]
    }
   ],
   "source": [
    "l = []\n",
    "l.append(3)\n",
    "l.append(\"sai\")\n",
    "l.append(1.34)\n",
    "l.append(4+9j)\n",
    "l.append(34)\n",
    "print(l)"
   ]
  },
  {
   "cell_type": "markdown",
   "id": "885b997f-286a-4865-9d95-fd2339686fac",
   "metadata": {},
   "source": [
    "# Q2. Create a list of colors and use insert() to add \"purple\" at index 2."
   ]
  },
  {
   "cell_type": "code",
   "execution_count": 19,
   "id": "65c49bde-b701-4ecf-a422-3d33358afc29",
   "metadata": {},
   "outputs": [
    {
     "name": "stdout",
     "output_type": "stream",
     "text": [
      "['red', 'yellow', 'purple', 'white', 'black', 'pink']\n"
     ]
    }
   ],
   "source": [
    "colors = [\"red\",\"yellow\",\"white\",\"black\",\"pink\"]\n",
    "colors.insert(2,\"purple\")\n",
    "print(colors)"
   ]
  },
  {
   "cell_type": "markdown",
   "id": "bbf3bf56-70ac-482c-b720-a000fea97ec5",
   "metadata": {},
   "source": [
    "# Q3. Start with a list of two numbers. Append two more numbers. Then insert a number at the beginning."
   ]
  },
  {
   "cell_type": "code",
   "execution_count": 21,
   "id": "5d959cd4-784c-4b41-8407-ccb1969b6cba",
   "metadata": {},
   "outputs": [
    {
     "name": "stdout",
     "output_type": "stream",
     "text": [
      "[17, 1, 2, 3, 4]\n"
     ]
    }
   ],
   "source": [
    "a = [1,2]\n",
    "a.append(3)\n",
    "a.append(4)\n",
    "a.insert(0,17)\n",
    "print(a)"
   ]
  },
  {
   "cell_type": "markdown",
   "id": "115ddc94-6b88-4ab2-8dae-9dbb32e5eee9",
   "metadata": {},
   "source": [
    "# Q4. Create a list of 6 fruits. Remove one by name using remove()."
   ]
  },
  {
   "cell_type": "code",
   "execution_count": 23,
   "id": "43ac0798-d564-4372-b0bc-5c5b83d8a801",
   "metadata": {},
   "outputs": [
    {
     "name": "stdout",
     "output_type": "stream",
     "text": [
      "[]\n"
     ]
    }
   ],
   "source": [
    "a = ['mango', 'apple', 'grapes', 'banana', 'orange', 'pineapple']\n",
    "a.remove(\"mango\")\n",
    "a.remove(\"apple\")\n",
    "a.remove('grapes')\n",
    "a.remove('banana')\n",
    "a.remove('orange')\n",
    "a.remove('pineapple')\n",
    "print(a)"
   ]
  },
  {
   "cell_type": "markdown",
   "id": "b85caa9c-fc43-4d60-a8af-1ec7797e31f6",
   "metadata": {},
   "source": [
    "# Q5. Use pop() to remove the last element of a list and print the removed value."
   ]
  },
  {
   "cell_type": "code",
   "execution_count": 25,
   "id": "7eef5fd8-dd24-4c41-b5bd-82b2233b1648",
   "metadata": {},
   "outputs": [
    {
     "name": "stdout",
     "output_type": "stream",
     "text": [
      "pineapple\n"
     ]
    }
   ],
   "source": [
    "a = ['mango', 'apple', 'grapes', 'banana', 'orange', 'pineapple']\n",
    "b = a.pop()\n",
    "print(b)"
   ]
  },
  {
   "cell_type": "markdown",
   "id": "f7a22427-9aed-4990-8b94-55322ce251e0",
   "metadata": {},
   "source": [
    "# Q6. Use pop(index) to remove the third item in a list of countries."
   ]
  },
  {
   "cell_type": "code",
   "execution_count": 26,
   "id": "da191cde-74fd-4ac4-9404-57ffdbac9e9f",
   "metadata": {},
   "outputs": [
    {
     "name": "stdout",
     "output_type": "stream",
     "text": [
      "['mango', 'apple', 'banana', 'orange', 'pineapple']\n"
     ]
    }
   ],
   "source": [
    "a = ['mango', 'apple', 'grapes', 'banana', 'orange', 'pineapple']\n",
    "a.pop(2)\n",
    "print(a)"
   ]
  },
  {
   "cell_type": "markdown",
   "id": "e1e16481-4763-4937-8c16-2be84450886d",
   "metadata": {},
   "source": [
    "# Q7. Try removing an element that doesn’t exist from a list using remove(). What happens?"
   ]
  },
  {
   "cell_type": "code",
   "execution_count": 27,
   "id": "77a32f8b-3e57-48ac-af51-4ad0808c42ef",
   "metadata": {},
   "outputs": [
    {
     "ename": "ValueError",
     "evalue": "list.remove(x): x not in list",
     "output_type": "error",
     "traceback": [
      "\u001b[0;31m---------------------------------------------------------------------------\u001b[0m",
      "\u001b[0;31mValueError\u001b[0m                                Traceback (most recent call last)",
      "Cell \u001b[0;32mIn[27], line 2\u001b[0m\n\u001b[1;32m      1\u001b[0m a \u001b[38;5;241m=\u001b[39m [\u001b[38;5;124m'\u001b[39m\u001b[38;5;124mmango\u001b[39m\u001b[38;5;124m'\u001b[39m, \u001b[38;5;124m'\u001b[39m\u001b[38;5;124mapple\u001b[39m\u001b[38;5;124m'\u001b[39m, \u001b[38;5;124m'\u001b[39m\u001b[38;5;124mgrapes\u001b[39m\u001b[38;5;124m'\u001b[39m, \u001b[38;5;124m'\u001b[39m\u001b[38;5;124mbanana\u001b[39m\u001b[38;5;124m'\u001b[39m, \u001b[38;5;124m'\u001b[39m\u001b[38;5;124morange\u001b[39m\u001b[38;5;124m'\u001b[39m, \u001b[38;5;124m'\u001b[39m\u001b[38;5;124mpineapple\u001b[39m\u001b[38;5;124m'\u001b[39m]\n\u001b[0;32m----> 2\u001b[0m a\u001b[38;5;241m.\u001b[39mremove(\u001b[38;5;124m\"\u001b[39m\u001b[38;5;124mmaths\u001b[39m\u001b[38;5;124m\"\u001b[39m)\n",
      "\u001b[0;31mValueError\u001b[0m: list.remove(x): x not in list"
     ]
    }
   ],
   "source": [
    "a = ['mango', 'apple', 'grapes', 'banana', 'orange', 'pineapple']\n",
    "a.remove(\"maths\")"
   ]
  },
  {
   "cell_type": "markdown",
   "id": "151f3217-8d76-4820-b514-f095c42db924",
   "metadata": {},
   "source": [
    "# Q8. Create a list with repeated numbers. Use count() to find how many times 3 appears."
   ]
  },
  {
   "cell_type": "code",
   "execution_count": 28,
   "id": "9be65dff-bac8-4896-97ea-6911c1f13d25",
   "metadata": {},
   "outputs": [
    {
     "name": "stdout",
     "output_type": "stream",
     "text": [
      "4\n"
     ]
    }
   ],
   "source": [
    "a = [1,2,3,3,1,3,2,1,2,1,2,1,3,4,5]\n",
    "print(a.count(3))"
   ]
  },
  {
   "cell_type": "markdown",
   "id": "31168c14-62f9-4748-adac-5c8b3000655d",
   "metadata": {},
   "source": [
    "# Q9. Create a list of animal names and use index() to find the position of \"cat\"."
   ]
  },
  {
   "cell_type": "code",
   "execution_count": 29,
   "id": "77b04f92-6588-4189-8e30-32ac77f2c7a7",
   "metadata": {},
   "outputs": [
    {
     "name": "stdout",
     "output_type": "stream",
     "text": [
      "3\n"
     ]
    }
   ],
   "source": [
    "animals = [\"dog\",\"lion\",\"monkey\",\"cat\",\"hen\"]\n",
    "print(animals.index(\"cat\"))"
   ]
  },
  {
   "cell_type": "markdown",
   "id": "fd4ab227-83d6-44b4-87ba-54955180a816",
   "metadata": {},
   "source": [
    "# Q10. What happens if you use index() for a value not in the list? Try it and note the result."
   ]
  },
  {
   "cell_type": "code",
   "execution_count": 31,
   "id": "1b6b8616-10a0-40c0-84be-fac94716846e",
   "metadata": {},
   "outputs": [
    {
     "ename": "ValueError",
     "evalue": "'maths' is not in list",
     "output_type": "error",
     "traceback": [
      "\u001b[0;31m---------------------------------------------------------------------------\u001b[0m",
      "\u001b[0;31mValueError\u001b[0m                                Traceback (most recent call last)",
      "Cell \u001b[0;32mIn[31], line 2\u001b[0m\n\u001b[1;32m      1\u001b[0m animals \u001b[38;5;241m=\u001b[39m [\u001b[38;5;124m\"\u001b[39m\u001b[38;5;124mdog\u001b[39m\u001b[38;5;124m\"\u001b[39m,\u001b[38;5;124m\"\u001b[39m\u001b[38;5;124mlion\u001b[39m\u001b[38;5;124m\"\u001b[39m,\u001b[38;5;124m\"\u001b[39m\u001b[38;5;124mmonkey\u001b[39m\u001b[38;5;124m\"\u001b[39m,\u001b[38;5;124m\"\u001b[39m\u001b[38;5;124mcat\u001b[39m\u001b[38;5;124m\"\u001b[39m,\u001b[38;5;124m\"\u001b[39m\u001b[38;5;124mhen\u001b[39m\u001b[38;5;124m\"\u001b[39m]\n\u001b[0;32m----> 2\u001b[0m \u001b[38;5;28mprint\u001b[39m(animals\u001b[38;5;241m.\u001b[39mindex(\u001b[38;5;124m\"\u001b[39m\u001b[38;5;124mmaths\u001b[39m\u001b[38;5;124m\"\u001b[39m))\n",
      "\u001b[0;31mValueError\u001b[0m: 'maths' is not in list"
     ]
    }
   ],
   "source": [
    "animals = [\"dog\",\"lion\",\"monkey\",\"cat\",\"hen\"]\n",
    "print(animals.index(\"maths\"))"
   ]
  },
  {
   "cell_type": "markdown",
   "id": "4e664491-ff43-47fb-bb89-a8f8058ab240",
   "metadata": {},
   "source": [
    "# Q11. Create a list of numbers in random order. Use sort() to sort them in ascending order."
   ]
  },
  {
   "cell_type": "code",
   "execution_count": 34,
   "id": "4fc3ee5a-3a54-4534-b1c9-a9fd39ba40b0",
   "metadata": {},
   "outputs": [
    {
     "name": "stdout",
     "output_type": "stream",
     "text": [
      "[1, 22, 24, 76, 345]\n"
     ]
    }
   ],
   "source": [
    "a = [1,24,22,345,76]\n",
    "a.sort()\n",
    "print(a)"
   ]
  },
  {
   "cell_type": "markdown",
   "id": "56caa9c4-9199-4f3f-8709-5cef3e619010",
   "metadata": {},
   "source": [
    "# Q12. Create a list of names and sort them alphabetically."
   ]
  },
  {
   "cell_type": "code",
   "execution_count": 35,
   "id": "be743808-06de-46fc-abc8-57941e7a79e5",
   "metadata": {},
   "outputs": [
    {
     "name": "stdout",
     "output_type": "stream",
     "text": [
      "['abhiskek', 'bargav', 'pranay', 'sai']\n"
     ]
    }
   ],
   "source": [
    "names = [\"sai\",\"pranay\",\"abhiskek\",\"bargav\"]\n",
    "names.sort()\n",
    "print(names)"
   ]
  },
  {
   "cell_type": "markdown",
   "id": "e4571592-04f3-415c-bd49-61bfc82d8253",
   "metadata": {},
   "source": [
    "# Q13. Sort a list in descending order using sort(reverse=True)."
   ]
  },
  {
   "cell_type": "code",
   "execution_count": 37,
   "id": "52cd24b0-4a3e-47c2-8417-851831affdc0",
   "metadata": {},
   "outputs": [
    {
     "name": "stdout",
     "output_type": "stream",
     "text": [
      "['sai', 'pranay', 'bargav', 'abhiskek']\n"
     ]
    }
   ],
   "source": [
    "names = [\"sai\",\"pranay\",\"abhiskek\",\"bargav\"]\n",
    "names.sort()\n",
    "names.reverse()\n",
    "print(names)"
   ]
  },
  {
   "cell_type": "markdown",
   "id": "01820690-662a-4c4b-aa45-d8e93f03706a",
   "metadata": {},
   "source": [
    "# Q14. Use reverse() to flip the order of any list."
   ]
  },
  {
   "cell_type": "code",
   "execution_count": 38,
   "id": "93bbc47b-dde2-4fc8-a0c4-4e907309d40d",
   "metadata": {},
   "outputs": [
    {
     "name": "stdout",
     "output_type": "stream",
     "text": [
      "['bargav', 'abhiskek', 'pranay', 'sai']\n"
     ]
    }
   ],
   "source": [
    "names = [\"sai\",\"pranay\",\"abhiskek\",\"bargav\"]\n",
    "names.reverse()\n",
    "print(names)"
   ]
  },
  {
   "cell_type": "markdown",
   "id": "a8661ee7-77d6-4020-8e5b-2e6aa90f4cdf",
   "metadata": {},
   "source": [
    "# Q15. Create a list and make a copy using copy(). Change something in the copy. Show that the original list is unchanged."
   ]
  },
  {
   "cell_type": "code",
   "execution_count": 39,
   "id": "3a4f0d8f-e39a-4117-978b-a59fff2f843f",
   "metadata": {},
   "outputs": [
    {
     "name": "stdout",
     "output_type": "stream",
     "text": [
      "['sai', 'pranay', 'vamshi', 'bargav']\n",
      "['sai', 'pranay', 'abhiskek', 'bargav']\n"
     ]
    }
   ],
   "source": [
    "names = [\"sai\",\"pranay\",\"abhiskek\",\"bargav\"]\n",
    "b = names.copy()\n",
    "b[2] = \"vamshi\"\n",
    "print(b)\n",
    "print(names)"
   ]
  },
  {
   "cell_type": "markdown",
   "id": "162eb170-8fd0-482b-b656-03ac24674ca4",
   "metadata": {},
   "source": [
    "# Q16. Create a list with some elements. Use clear() and show that it becomes empty."
   ]
  },
  {
   "cell_type": "code",
   "execution_count": 40,
   "id": "5c51ceb4-28ab-47df-aa25-00b239d2fd17",
   "metadata": {},
   "outputs": [
    {
     "name": "stdout",
     "output_type": "stream",
     "text": [
      "[]\n"
     ]
    }
   ],
   "source": [
    "names = [\"sai\",\"pranay\",\"abhiskek\",\"bargav\"]\n",
    "names.clear()\n",
    "print(names)"
   ]
  },
  {
   "cell_type": "markdown",
   "id": "68471e22-29ff-449d-a4fb-f3cc4a91418d",
   "metadata": {},
   "source": [
    "# Q17. Create a list of 5 numbers.\n",
    " Insert a number at index 2, then remove the first number, then append a new number.\n",
    " Print after each step."
   ]
  },
  {
   "cell_type": "code",
   "execution_count": 41,
   "id": "7bdb7377-539c-4230-94ee-be067339791f",
   "metadata": {},
   "outputs": [
    {
     "name": "stdout",
     "output_type": "stream",
     "text": [
      "[1, 2, 10, 3, 4, 5]\n",
      "[2, 10, 3, 4, 5]\n",
      "[2, 10, 3, 4, 5, 100]\n"
     ]
    }
   ],
   "source": [
    "a = [1,2,3,4,5]\n",
    "a.insert(2,10)\n",
    "print(a)\n",
    "del a[0]\n",
    "print(a)\n",
    "a.append(100)\n",
    "print(a)"
   ]
  },
  {
   "cell_type": "markdown",
   "id": "c1ca6db0-3c9d-45ee-a46b-24e08c233dfd",
   "metadata": {},
   "source": [
    "# Q18. Create a list of 4 friends' names.\n",
    " Sort the list, reverse it, then remove the second name using pop()."
   ]
  },
  {
   "cell_type": "code",
   "execution_count": 44,
   "id": "d630dea9-6619-4349-a371-096f1b8917ce",
   "metadata": {},
   "outputs": [
    {
     "name": "stdout",
     "output_type": "stream",
     "text": [
      "['sai', 'pranay', 'abhiskek']\n"
     ]
    }
   ],
   "source": [
    "names = [\"sai\",\"pranay\",\"abhiskek\",\"bargav\"]\n",
    "names.sort()\n",
    "names.reverse()\n",
    "names.pop(2)\n",
    "print(names)"
   ]
  },
  {
   "cell_type": "markdown",
   "id": "966dab3c-0e32-411d-9c18-d15243831b84",
   "metadata": {},
   "source": [
    "# Q19. Make a list with 3 elements.\n",
    " Add one element using append(), one using insert(), then remove the last using pop()."
   ]
  },
  {
   "cell_type": "code",
   "execution_count": 46,
   "id": "7821f2e8-7efe-49fb-8072-55d7af45360c",
   "metadata": {},
   "outputs": [
    {
     "name": "stdout",
     "output_type": "stream",
     "text": [
      "[1, 2, 3, 4]\n"
     ]
    }
   ],
   "source": [
    "a = [1,2,3]\n",
    "a.append(4)\n",
    "a.insert(4,5)\n",
    "a.pop()\n",
    "print(a)"
   ]
  },
  {
   "cell_type": "markdown",
   "id": "2fc13d73-b4cc-47bc-89b2-2a2bf4a3d834",
   "metadata": {},
   "source": [
    "# Q20. Copy a list of places you want to visit.\n",
    " Clear the copied list. Show both lists after each step to prove they are independent."
   ]
  },
  {
   "cell_type": "code",
   "execution_count": 48,
   "id": "6a1af7db-3c23-474d-94d0-8078bae2eb1f",
   "metadata": {},
   "outputs": [
    {
     "name": "stdout",
     "output_type": "stream",
     "text": [
      "['bihar', 'pakistan', 'balochistan', 'afganistan', 'iran']\n",
      "['pakistan', 'balochistan', 'afganistan']\n"
     ]
    }
   ],
   "source": [
    "places = [\"pakistan\",\"balochistan\",\"afganistan\",\"iran\"]\n",
    "cpy = places.copy()\n",
    "cpy.pop()\n",
    "places.insert(0,\"bihar\")\n",
    "print(places)\n",
    "print(cpy)"
   ]
  }
 ],
 "metadata": {
  "kernelspec": {
   "display_name": "Python [conda env:base] *",
   "language": "python",
   "name": "conda-base-py"
  },
  "language_info": {
   "codemirror_mode": {
    "name": "ipython",
    "version": 3
   },
   "file_extension": ".py",
   "mimetype": "text/x-python",
   "name": "python",
   "nbconvert_exporter": "python",
   "pygments_lexer": "ipython3",
   "version": "3.12.7"
  }
 },
 "nbformat": 4,
 "nbformat_minor": 5
}
