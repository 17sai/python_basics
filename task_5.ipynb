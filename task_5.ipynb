{
 "cells": [
  {
   "cell_type": "markdown",
   "id": "a7003f94-819e-435e-b1ea-6ccf9a6661c3",
   "metadata": {},
   "source": [
    "# 1.Create a dictionary of 3 students and their marks."
   ]
  },
  {
   "cell_type": "code",
   "execution_count": 1,
   "id": "64795dc5-9ab6-4d16-8e2f-2d2e873d8fd5",
   "metadata": {},
   "outputs": [
    {
     "data": {
      "text/plain": [
       "{'sai': 90, 'santhosh': 80, 'kiran': 95}"
      ]
     },
     "execution_count": 1,
     "metadata": {},
     "output_type": "execute_result"
    }
   ],
   "source": [
    "d = {\"sai\":90,\n",
    "     \"santhosh\":80,\n",
    "     \"kiran\":95}\n",
    "d"
   ]
  },
  {
   "cell_type": "markdown",
   "id": "94185c51-2a39-45da-ac42-1c6220a34190",
   "metadata": {},
   "source": [
    "# 2.Access marks of a student using their name."
   ]
  },
  {
   "cell_type": "code",
   "execution_count": 4,
   "id": "1eb61134-da25-43ba-97de-5407e3384f73",
   "metadata": {},
   "outputs": [
    {
     "data": {
      "text/plain": [
       "80"
      ]
     },
     "execution_count": 4,
     "metadata": {},
     "output_type": "execute_result"
    }
   ],
   "source": [
    "d = {\"sai\":90,\n",
    "     \"santhosh\":80,\n",
    "     \"kiran\":95}\n",
    "d[\"santhosh\"]"
   ]
  },
  {
   "cell_type": "markdown",
   "id": "adc77a3a-7bc3-4c6e-b50f-4e2faf627a89",
   "metadata": {},
   "source": [
    "# 3.Add a new student to the dictionary."
   ]
  },
  {
   "cell_type": "code",
   "execution_count": 8,
   "id": "046d99fc-8af3-4895-b056-8d979b1bb342",
   "metadata": {},
   "outputs": [
    {
     "data": {
      "text/plain": [
       "{'sai': 90, 'santhosh': 80, 'kiran': 95, 'sachin': 100}"
      ]
     },
     "execution_count": 8,
     "metadata": {},
     "output_type": "execute_result"
    }
   ],
   "source": [
    "d = {\"sai\":90,\n",
    "     \"santhosh\":80,\n",
    "     \"kiran\":95}\n",
    "d[\"sachin\"] = 100\n",
    "d"
   ]
  },
  {
   "cell_type": "markdown",
   "id": "05cdc706-2b4d-49d4-97e6-d29cab01f917",
   "metadata": {},
   "source": [
    "# 4.Update marks of an existing student."
   ]
  },
  {
   "cell_type": "code",
   "execution_count": 9,
   "id": "ffd7b92e-c978-477a-b611-b0944179bf40",
   "metadata": {},
   "outputs": [
    {
     "data": {
      "text/plain": [
       "{'sai': 90, 'santhosh': 80, 'kiran': 96}"
      ]
     },
     "execution_count": 9,
     "metadata": {},
     "output_type": "execute_result"
    }
   ],
   "source": [
    "d = {\"sai\":90,\n",
    "     \"santhosh\":80,\n",
    "     \"kiran\":95}\n",
    "d.update({\"kiran\":96})\n",
    "d"
   ]
  },
  {
   "cell_type": "markdown",
   "id": "3968da77-2a15-4e82-81a0-17b7cff979d5",
   "metadata": {},
   "source": [
    "# 5.Remove a student using pop()."
   ]
  },
  {
   "cell_type": "code",
   "execution_count": 10,
   "id": "09535555-2cf5-47e0-915e-661ed67f0d20",
   "metadata": {},
   "outputs": [
    {
     "data": {
      "text/plain": [
       "{'sai': 90, 'kiran': 95}"
      ]
     },
     "execution_count": 10,
     "metadata": {},
     "output_type": "execute_result"
    }
   ],
   "source": [
    "d = {\"sai\":90,\n",
    "     \"santhosh\":80,\n",
    "     \"kiran\":95}\n",
    "d.pop(\"santhosh\")\n",
    "d"
   ]
  },
  {
   "cell_type": "markdown",
   "id": "1c685d8d-9de5-4c1d-8f56-bf91b63dcb70",
   "metadata": {},
   "source": [
    "# 6.Use get() to safely access a value."
   ]
  },
  {
   "cell_type": "code",
   "execution_count": 11,
   "id": "4081402a-2e96-4fa5-ac15-2bf90be80675",
   "metadata": {},
   "outputs": [
    {
     "data": {
      "text/plain": [
       "95"
      ]
     },
     "execution_count": 11,
     "metadata": {},
     "output_type": "execute_result"
    }
   ],
   "source": [
    "d = {\"sai\":90,\n",
    "     \"santhosh\":80,\n",
    "     \"kiran\":95}\n",
    "d.get(\"kiran\")"
   ]
  },
  {
   "cell_type": "markdown",
   "id": "3459daca-9069-4b92-9d2a-9455d299fd9a",
   "metadata": {},
   "source": [
    "# 7.Create a dictionary and get all the items using .items(), check the type of it."
   ]
  },
  {
   "cell_type": "code",
   "execution_count": 14,
   "id": "8a253116-410e-4688-9e92-5ec2eb02570b",
   "metadata": {},
   "outputs": [
    {
     "name": "stdout",
     "output_type": "stream",
     "text": [
      "dict_items([('sai', 90), ('santhosh', 80), ('kiran', 95)])\n",
      "<class 'dict'>\n"
     ]
    }
   ],
   "source": [
    "d = {\"sai\":90,\n",
    "     \"santhosh\":80,\n",
    "     \"kiran\":95}\n",
    "print(d.items())\n",
    "print(type(d))"
   ]
  },
  {
   "cell_type": "markdown",
   "id": "4f654593-0b7c-4442-b532-6317e1c4a55c",
   "metadata": {},
   "source": [
    "# 8.Get all keys using .keys() and values using .values()."
   ]
  },
  {
   "cell_type": "code",
   "execution_count": 15,
   "id": "f5ebc98c-a4a1-4348-9c01-fd798cefca64",
   "metadata": {},
   "outputs": [
    {
     "name": "stdout",
     "output_type": "stream",
     "text": [
      "dict_keys(['sai', 'santhosh', 'kiran'])\n",
      "dict_values([90, 80, 95])\n"
     ]
    }
   ],
   "source": [
    "d = {\"sai\":90,\n",
    "     \"santhosh\":80,\n",
    "     \"kiran\":95}\n",
    "print(d.keys())\n",
    "print(d.values())"
   ]
  },
  {
   "cell_type": "markdown",
   "id": "6b801ca0-9396-4cc8-b34d-af794603f0fb",
   "metadata": {},
   "source": [
    "# 9.Check if a student exists in the dictionary."
   ]
  },
  {
   "cell_type": "code",
   "execution_count": 16,
   "id": "986988fc-e028-45ee-8413-af9bca544a00",
   "metadata": {},
   "outputs": [
    {
     "data": {
      "text/plain": [
       "False"
      ]
     },
     "execution_count": 16,
     "metadata": {},
     "output_type": "execute_result"
    }
   ],
   "source": [
    "d = {\"sai\":90,\n",
    "     \"santhosh\":80,\n",
    "     \"kiran\":95}\n",
    "\"sachin\" in d"
   ]
  },
  {
   "cell_type": "markdown",
   "id": "9f0ff56f-7e7f-4d9e-a105-79919e6c7646",
   "metadata": {},
   "source": [
    "# 10.Create a dictionary d with 4 key-value pairs.\n",
    "- Convert the dictionary using the following methods one by one:\n",
    "- list(d)\n",
    "- list(d.keys())\n",
    "- list(d.values())\n",
    "- list(d.items())\n",
    "- b)Observe the output of each and note the differences."
   ]
  },
  {
   "cell_type": "code",
   "execution_count": 20,
   "id": "33e5dbc3-b614-4295-9954-f6f3ce3af4d9",
   "metadata": {},
   "outputs": [
    {
     "data": {
      "text/plain": [
       "['sai', 'santhosh', 'kiran', 'sachin']"
      ]
     },
     "execution_count": 20,
     "metadata": {},
     "output_type": "execute_result"
    }
   ],
   "source": [
    "d = {\"sai\":90,\n",
    "     \"santhosh\":80,\n",
    "     \"kiran\":95,\n",
    "     \"sachin\":100}\n",
    "list(d)"
   ]
  },
  {
   "cell_type": "code",
   "execution_count": 21,
   "id": "30a122be-44b2-496a-bee7-715a580d2849",
   "metadata": {},
   "outputs": [
    {
     "data": {
      "text/plain": [
       "['sai', 'santhosh', 'kiran', 'sachin']"
      ]
     },
     "execution_count": 21,
     "metadata": {},
     "output_type": "execute_result"
    }
   ],
   "source": [
    "list(d.keys())"
   ]
  },
  {
   "cell_type": "code",
   "execution_count": 22,
   "id": "7ccd7423-e5f7-4b6e-9eb1-7dab852a0c88",
   "metadata": {},
   "outputs": [
    {
     "data": {
      "text/plain": [
       "[90, 80, 95, 100]"
      ]
     },
     "execution_count": 22,
     "metadata": {},
     "output_type": "execute_result"
    }
   ],
   "source": [
    "list(d.values())"
   ]
  },
  {
   "cell_type": "code",
   "execution_count": 23,
   "id": "2594a229-4a3a-4e90-b1e0-3bc0d4ac57c0",
   "metadata": {},
   "outputs": [
    {
     "data": {
      "text/plain": [
       "[('sai', 90), ('santhosh', 80), ('kiran', 95), ('sachin', 100)]"
      ]
     },
     "execution_count": 23,
     "metadata": {},
     "output_type": "execute_result"
    }
   ],
   "source": [
    "list(d.items())"
   ]
  }
 ],
 "metadata": {
  "kernelspec": {
   "display_name": "Python [conda env:base] *",
   "language": "python",
   "name": "conda-base-py"
  },
  "language_info": {
   "codemirror_mode": {
    "name": "ipython",
    "version": 3
   },
   "file_extension": ".py",
   "mimetype": "text/x-python",
   "name": "python",
   "nbconvert_exporter": "python",
   "pygments_lexer": "ipython3",
   "version": "3.12.7"
  }
 },
 "nbformat": 4,
 "nbformat_minor": 5
}
