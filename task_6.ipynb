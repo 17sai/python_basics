{
 "cells": [
  {
   "cell_type": "markdown",
   "id": "c59e1609-0477-4979-9620-64ece1bbccb4",
   "metadata": {},
   "source": [
    "# 1.Create a set of 5 fruits and print it."
   ]
  },
  {
   "cell_type": "code",
   "execution_count": 1,
   "id": "c2965731-4e89-440a-b4a8-8ef808045082",
   "metadata": {},
   "outputs": [
    {
     "data": {
      "text/plain": [
       "{'apple', 'banana', 'grapes', 'mango', 'pineapple'}"
      ]
     },
     "execution_count": 1,
     "metadata": {},
     "output_type": "execute_result"
    }
   ],
   "source": [
    "fruits = {\"apple\",\"mango\",\"banana\",\"pineapple\",\"grapes\"}\n",
    "fruits"
   ]
  },
  {
   "cell_type": "markdown",
   "id": "d33492bb-f46e-4bac-b602-e7f9725b39be",
   "metadata": {},
   "source": [
    "# 2.Add \"mango\" to a set s = {'apple', 'banana'}."
   ]
  },
  {
   "cell_type": "code",
   "execution_count": 4,
   "id": "efa65f46-ab22-42dc-b55c-29fe44f61c44",
   "metadata": {},
   "outputs": [
    {
     "data": {
      "text/plain": [
       "{'apple', 'banana', 'mango'}"
      ]
     },
     "execution_count": 4,
     "metadata": {},
     "output_type": "execute_result"
    }
   ],
   "source": [
    "s = {\"apple\",\"banana\"}\n",
    "s.add(\"mango\")\n",
    "s"
   ]
  },
  {
   "cell_type": "markdown",
   "id": "fd6cc8aa-8fbe-405e-9f76-52c8562085e1",
   "metadata": {},
   "source": [
    "# 3.Try adding 'apple' again to the above set. What happens?"
   ]
  },
  {
   "cell_type": "code",
   "execution_count": 6,
   "id": "e5d51572-28c4-4b79-b288-e0aea8686a0a",
   "metadata": {},
   "outputs": [
    {
     "data": {
      "text/plain": [
       "{'apple', 'banana', 'mango'}"
      ]
     },
     "execution_count": 6,
     "metadata": {},
     "output_type": "execute_result"
    }
   ],
   "source": [
    "x = {'apple', 'banana', 'mango'}\n",
    "x.add(\"apple\")\n",
    "x"
   ]
  },
  {
   "cell_type": "markdown",
   "id": "3b73b3ac-a89f-4e18-8279-7b6755229b1b",
   "metadata": {},
   "source": [
    "# 4.Remove 'banana' using remove() and discard() – what’s the difference?"
   ]
  },
  {
   "cell_type": "code",
   "execution_count": 8,
   "id": "35a3f289-9845-475b-8bdc-f23b76ce92ad",
   "metadata": {},
   "outputs": [
    {
     "data": {
      "text/plain": [
       "{'apple', 'mango'}"
      ]
     },
     "execution_count": 8,
     "metadata": {},
     "output_type": "execute_result"
    }
   ],
   "source": [
    "x = {'apple', 'banana', 'mango'}\n",
    "x.remove(\"banana\")\n",
    "x"
   ]
  },
  {
   "cell_type": "code",
   "execution_count": 9,
   "id": "3ecfdffd-a583-4c0d-8178-8a68aa806920",
   "metadata": {},
   "outputs": [
    {
     "data": {
      "text/plain": [
       "{'apple', 'mango'}"
      ]
     },
     "execution_count": 9,
     "metadata": {},
     "output_type": "execute_result"
    }
   ],
   "source": [
    "x = {'apple', 'banana', 'mango'}\n",
    "x.discard(\"banana\")\n",
    "x"
   ]
  },
  {
   "cell_type": "markdown",
   "id": "32010968-c018-4d39-a741-c5cf07f4a9b0",
   "metadata": {},
   "source": [
    "# 5.Check if 'apple' exists in the set."
   ]
  },
  {
   "cell_type": "code",
   "execution_count": 10,
   "id": "beb4897f-5b62-41c7-9222-17b103cb6d42",
   "metadata": {},
   "outputs": [
    {
     "data": {
      "text/plain": [
       "True"
      ]
     },
     "execution_count": 10,
     "metadata": {},
     "output_type": "execute_result"
    }
   ],
   "source": [
    "x = {'apple', 'banana', 'mango'}\n",
    "\"apple\" in x"
   ]
  },
  {
   "cell_type": "markdown",
   "id": "fc6de51e-801a-4084-8824-642b3219c1c6",
   "metadata": {},
   "source": [
    "# 6.Create two sets and perform:\n",
    "- Union\n",
    "- Intersection\n",
    "- Difference\n"
   ]
  },
  {
   "cell_type": "code",
   "execution_count": 12,
   "id": "fc32dc10-41ae-4865-ab8c-e3c10fb7954c",
   "metadata": {},
   "outputs": [
    {
     "name": "stdout",
     "output_type": "stream",
     "text": [
      "{1, 2, 3, 4, 5, 6, 7, 8, 9}\n",
      "{4, 5, 6}\n",
      "{1, 2, 3}\n"
     ]
    }
   ],
   "source": [
    "s1 = {1,2,3,4,5,6}\n",
    "s2 = {4,5,6,7,8,9}\n",
    "print(s1.union(s2))\n",
    "print(s1.intersection(s2))\n",
    "print(s1.difference(s2))"
   ]
  },
  {
   "cell_type": "markdown",
   "id": "9a6443f4-393c-491a-9efa-222dac7c3b35",
   "metadata": {},
   "source": [
    "# 7.Clear all elements from a set."
   ]
  },
  {
   "cell_type": "code",
   "execution_count": 13,
   "id": "f5ab2541-8aa1-48b9-8b5c-fa543dd7e8f7",
   "metadata": {},
   "outputs": [
    {
     "data": {
      "text/plain": [
       "set()"
      ]
     },
     "execution_count": 13,
     "metadata": {},
     "output_type": "execute_result"
    }
   ],
   "source": [
    "s1 = {1,2,3,4,5,6}\n",
    "s1.clear()\n",
    "s1"
   ]
  },
  {
   "cell_type": "markdown",
   "id": "5ff8c121-033e-47f8-a80f-223f4ab12669",
   "metadata": {},
   "source": [
    "# 8.Use a loop to print all items in a set."
   ]
  },
  {
   "cell_type": "code",
   "execution_count": 14,
   "id": "f5926e13-7fed-4598-afb9-732e99512323",
   "metadata": {},
   "outputs": [
    {
     "name": "stdout",
     "output_type": "stream",
     "text": [
      "1\n",
      "2\n",
      "3\n",
      "4\n",
      "5\n",
      "6\n"
     ]
    }
   ],
   "source": [
    "s1 = {1,2,3,4,5,6}\n",
    "for i in s1:\n",
    "    print(i)"
   ]
  },
  {
   "cell_type": "markdown",
   "id": "6e34f79e-7314-4390-a732-7f8d9e10cf19",
   "metadata": {},
   "source": [
    "# 9.Convert a list with duplicates to a set to remove duplicates."
   ]
  },
  {
   "cell_type": "code",
   "execution_count": 15,
   "id": "48537418-4ef1-4251-be87-09fd96639def",
   "metadata": {},
   "outputs": [
    {
     "data": {
      "text/plain": [
       "{1, 2, 3, 4, 6, 7}"
      ]
     },
     "execution_count": 15,
     "metadata": {},
     "output_type": "execute_result"
    }
   ],
   "source": [
    "l = [1,2,3,4,2,3,6,4,3,7,4,2,3,1,2]\n",
    "s = set(l)\n",
    "s"
   ]
  },
  {
   "cell_type": "markdown",
   "id": "63a0d22d-0d39-427c-b935-b517218324bf",
   "metadata": {},
   "source": [
    "# 10.Find the length of the set."
   ]
  },
  {
   "cell_type": "code",
   "execution_count": 16,
   "id": "476d4533-e7fb-43ec-a6e1-470a97434989",
   "metadata": {},
   "outputs": [
    {
     "data": {
      "text/plain": [
       "6"
      ]
     },
     "execution_count": 16,
     "metadata": {},
     "output_type": "execute_result"
    }
   ],
   "source": [
    "s2 = {4,5,6,7,8,9}\n",
    "len(s2)"
   ]
  }
 ],
 "metadata": {
  "kernelspec": {
   "display_name": "Python [conda env:base] *",
   "language": "python",
   "name": "conda-base-py"
  },
  "language_info": {
   "codemirror_mode": {
    "name": "ipython",
    "version": 3
   },
   "file_extension": ".py",
   "mimetype": "text/x-python",
   "name": "python",
   "nbconvert_exporter": "python",
   "pygments_lexer": "ipython3",
   "version": "3.12.7"
  }
 },
 "nbformat": 4,
 "nbformat_minor": 5
}
